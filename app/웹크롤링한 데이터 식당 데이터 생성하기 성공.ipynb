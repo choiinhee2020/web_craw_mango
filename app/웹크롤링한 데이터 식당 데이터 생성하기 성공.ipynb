{
 "cells": [
  {
   "cell_type": "code",
   "execution_count": 68,
   "metadata": {},
   "outputs": [],
   "source": [
    "# 추가 해야할 것 새로운 데이터 생기면 그위에 업데이트 하는 거 짜야함"
   ]
  },
  {
   "cell_type": "code",
   "execution_count": 31,
   "metadata": {},
   "outputs": [],
   "source": [
    "# !pwd"
   ]
  },
  {
   "cell_type": "code",
   "execution_count": 22,
   "metadata": {},
   "outputs": [],
   "source": [
    "import requests\n",
    "from bs4 import BeautifulSoup\n",
    "from selenium import webdriver\n",
    "import time\n",
    "from selenium.webdriver.common.by import By\n",
    "from selenium.webdriver.common.keys import Keys\n",
    "import os \n",
    "from restaurant.models import *"
   ]
  },
  {
   "cell_type": "markdown",
   "metadata": {},
   "source": [
    "# 첫번째 selenium 해서 데이터 가져오기"
   ]
  },
  {
   "cell_type": "code",
   "execution_count": 27,
   "metadata": {},
   "outputs": [
    {
     "ename": "WebDriverException",
     "evalue": "Message: 'selenium-env' executable may have wrong permissions. Please see https://sites.google.com/a/chromium.org/chromedriver/home\n",
     "output_type": "error",
     "traceback": [
      "\u001b[0;31m---------------------------------------------------------------------------\u001b[0m",
      "\u001b[0;31mPermissionError\u001b[0m                           Traceback (most recent call last)",
      "\u001b[0;32m~/.pyenv/versions/selenium-env/lib/python3.7/site-packages/selenium/webdriver/common/service.py\u001b[0m in \u001b[0;36mstart\u001b[0;34m(self)\u001b[0m\n\u001b[1;32m     75\u001b[0m                                             \u001b[0mstderr\u001b[0m\u001b[0;34m=\u001b[0m\u001b[0mself\u001b[0m\u001b[0;34m.\u001b[0m\u001b[0mlog_file\u001b[0m\u001b[0;34m,\u001b[0m\u001b[0;34m\u001b[0m\u001b[0;34m\u001b[0m\u001b[0m\n\u001b[0;32m---> 76\u001b[0;31m                                             stdin=PIPE)\n\u001b[0m\u001b[1;32m     77\u001b[0m         \u001b[0;32mexcept\u001b[0m \u001b[0mTypeError\u001b[0m\u001b[0;34m:\u001b[0m\u001b[0;34m\u001b[0m\u001b[0;34m\u001b[0m\u001b[0m\n",
      "\u001b[0;32m~/.pyenv/versions/3.7.5/lib/python3.7/subprocess.py\u001b[0m in \u001b[0;36m__init__\u001b[0;34m(self, args, bufsize, executable, stdin, stdout, stderr, preexec_fn, close_fds, shell, cwd, env, universal_newlines, startupinfo, creationflags, restore_signals, start_new_session, pass_fds, encoding, errors, text)\u001b[0m\n\u001b[1;32m    799\u001b[0m                                 \u001b[0merrread\u001b[0m\u001b[0;34m,\u001b[0m \u001b[0merrwrite\u001b[0m\u001b[0;34m,\u001b[0m\u001b[0;34m\u001b[0m\u001b[0;34m\u001b[0m\u001b[0m\n\u001b[0;32m--> 800\u001b[0;31m                                 restore_signals, start_new_session)\n\u001b[0m\u001b[1;32m    801\u001b[0m         \u001b[0;32mexcept\u001b[0m\u001b[0;34m:\u001b[0m\u001b[0;34m\u001b[0m\u001b[0;34m\u001b[0m\u001b[0m\n",
      "\u001b[0;32m~/.pyenv/versions/3.7.5/lib/python3.7/subprocess.py\u001b[0m in \u001b[0;36m_execute_child\u001b[0;34m(self, args, executable, preexec_fn, close_fds, pass_fds, cwd, env, startupinfo, creationflags, shell, p2cread, p2cwrite, c2pread, c2pwrite, errread, errwrite, restore_signals, start_new_session)\u001b[0m\n\u001b[1;32m   1550\u001b[0m                             \u001b[0merr_msg\u001b[0m \u001b[0;34m+=\u001b[0m \u001b[0;34m': '\u001b[0m \u001b[0;34m+\u001b[0m \u001b[0mrepr\u001b[0m\u001b[0;34m(\u001b[0m\u001b[0merr_filename\u001b[0m\u001b[0;34m)\u001b[0m\u001b[0;34m\u001b[0m\u001b[0;34m\u001b[0m\u001b[0m\n\u001b[0;32m-> 1551\u001b[0;31m                     \u001b[0;32mraise\u001b[0m \u001b[0mchild_exception_type\u001b[0m\u001b[0;34m(\u001b[0m\u001b[0merrno_num\u001b[0m\u001b[0;34m,\u001b[0m \u001b[0merr_msg\u001b[0m\u001b[0;34m,\u001b[0m \u001b[0merr_filename\u001b[0m\u001b[0;34m)\u001b[0m\u001b[0;34m\u001b[0m\u001b[0;34m\u001b[0m\u001b[0m\n\u001b[0m\u001b[1;32m   1552\u001b[0m                 \u001b[0;32mraise\u001b[0m \u001b[0mchild_exception_type\u001b[0m\u001b[0;34m(\u001b[0m\u001b[0merr_msg\u001b[0m\u001b[0;34m)\u001b[0m\u001b[0;34m\u001b[0m\u001b[0;34m\u001b[0m\u001b[0m\n",
      "\u001b[0;31mPermissionError\u001b[0m: [Errno 13] Permission denied: '/home/dopa/projects/personal/selenium-env'",
      "\nDuring handling of the above exception, another exception occurred:\n",
      "\u001b[0;31mWebDriverException\u001b[0m                        Traceback (most recent call last)",
      "\u001b[0;32m<ipython-input-27-c522e6c5bf5a>\u001b[0m in \u001b[0;36m<module>\u001b[0;34m\u001b[0m\n\u001b[1;32m      7\u001b[0m \u001b[0moptions\u001b[0m\u001b[0;34m.\u001b[0m\u001b[0madd_argument\u001b[0m\u001b[0;34m(\u001b[0m\u001b[0;34m'headless'\u001b[0m\u001b[0;34m)\u001b[0m\u001b[0;34m\u001b[0m\u001b[0;34m\u001b[0m\u001b[0m\n\u001b[1;32m      8\u001b[0m \u001b[0moptions\u001b[0m\u001b[0;34m.\u001b[0m\u001b[0madd_argument\u001b[0m\u001b[0;34m(\u001b[0m\u001b[0;34m'disable-gpu'\u001b[0m\u001b[0;34m)\u001b[0m\u001b[0;34m\u001b[0m\u001b[0;34m\u001b[0m\u001b[0m\n\u001b[0;32m----> 9\u001b[0;31m \u001b[0mdriver\u001b[0m \u001b[0;34m=\u001b[0m \u001b[0mwebdriver\u001b[0m\u001b[0;34m.\u001b[0m\u001b[0mChrome\u001b[0m\u001b[0;34m(\u001b[0m\u001b[0mchrom_path\u001b[0m\u001b[0;34m)\u001b[0m\u001b[0;31m#,chrome_options=options)\u001b[0m\u001b[0;34m\u001b[0m\u001b[0;34m\u001b[0m\u001b[0m\n\u001b[0m\u001b[1;32m     10\u001b[0m \u001b[0;34m\u001b[0m\u001b[0m\n\u001b[1;32m     11\u001b[0m \u001b[0mdriver\u001b[0m\u001b[0;34m.\u001b[0m\u001b[0mget\u001b[0m\u001b[0;34m(\u001b[0m\u001b[0mrootPath\u001b[0m\u001b[0;34m)\u001b[0m\u001b[0;34m\u001b[0m\u001b[0;34m\u001b[0m\u001b[0m\n",
      "\u001b[0;32m~/.pyenv/versions/selenium-env/lib/python3.7/site-packages/selenium/webdriver/chrome/webdriver.py\u001b[0m in \u001b[0;36m__init__\u001b[0;34m(self, executable_path, port, options, service_args, desired_capabilities, service_log_path, chrome_options, keep_alive)\u001b[0m\n\u001b[1;32m     71\u001b[0m             \u001b[0mservice_args\u001b[0m\u001b[0;34m=\u001b[0m\u001b[0mservice_args\u001b[0m\u001b[0;34m,\u001b[0m\u001b[0;34m\u001b[0m\u001b[0;34m\u001b[0m\u001b[0m\n\u001b[1;32m     72\u001b[0m             log_path=service_log_path)\n\u001b[0;32m---> 73\u001b[0;31m         \u001b[0mself\u001b[0m\u001b[0;34m.\u001b[0m\u001b[0mservice\u001b[0m\u001b[0;34m.\u001b[0m\u001b[0mstart\u001b[0m\u001b[0;34m(\u001b[0m\u001b[0;34m)\u001b[0m\u001b[0;34m\u001b[0m\u001b[0;34m\u001b[0m\u001b[0m\n\u001b[0m\u001b[1;32m     74\u001b[0m \u001b[0;34m\u001b[0m\u001b[0m\n\u001b[1;32m     75\u001b[0m         \u001b[0;32mtry\u001b[0m\u001b[0;34m:\u001b[0m\u001b[0;34m\u001b[0m\u001b[0;34m\u001b[0m\u001b[0m\n",
      "\u001b[0;32m~/.pyenv/versions/selenium-env/lib/python3.7/site-packages/selenium/webdriver/common/service.py\u001b[0m in \u001b[0;36mstart\u001b[0;34m(self)\u001b[0m\n\u001b[1;32m     86\u001b[0m                 raise WebDriverException(\n\u001b[1;32m     87\u001b[0m                     \"'%s' executable may have wrong permissions. %s\" % (\n\u001b[0;32m---> 88\u001b[0;31m                         os.path.basename(self.path), self.start_error_message)\n\u001b[0m\u001b[1;32m     89\u001b[0m                 )\n\u001b[1;32m     90\u001b[0m             \u001b[0;32melse\u001b[0m\u001b[0;34m:\u001b[0m\u001b[0;34m\u001b[0m\u001b[0;34m\u001b[0m\u001b[0m\n",
      "\u001b[0;31mWebDriverException\u001b[0m: Message: 'selenium-env' executable may have wrong permissions. Please see https://sites.google.com/a/chromium.org/chromedriver/home\n"
     ]
    }
   ],
   "source": [
    "chrom_path= '/home/kimdooh/projects/fastcampus/project_with_team/personal-projects/web_craw_mango/chromedriver'\n",
    "rootPath = 'https://www.mangoplate.com/'\n",
    "\n",
    "options = webdriver.ChromeOptions() \n",
    "options.add_argument('headless')\n",
    "options.add_argument('disable-gpu')\n",
    "driver = webdriver.Chrome(chrom_path,chrome_options=options)\n",
    "\n",
    "driver.get(rootPath)\n",
    "html = driver.page_source\n",
    "r = open( '/home/kimdooh/projects/fastcampus/project_with_team/personal-projects/web_craw_mango/home_first_page.txt', mode='w', encoding='utf-8')\n",
    "r.write(html)\n",
    "print(rootPath)\n",
    "r.close()\n",
    "\n",
    "driver.quit()"
   ]
  },
  {
   "cell_type": "code",
   "execution_count": 15,
   "metadata": {
    "scrolled": true
   },
   "outputs": [],
   "source": [
    "# firstpage에서 각 카테고리 별 href 가져오기  \n",
    "html = open('../home_first_page.txt', \"r\").read()\n",
    "song_soup = BeautifulSoup(html)\n",
    "soup = BeautifulSoup(html, 'html.parser')\n",
    "\n",
    "home_div_top_list_slide= soup.select('body > main > article > section:nth-child(3) > div.slider-container.toplist-slider > div > div > div')\n",
    "big_category = soup.select_one('div.module_title_wrap').select_one('h2').get_text(strip=True).replace(\" \",\"\")\n",
    "home_trust_list = soup.select_one('div.slick-track')\n",
    "one_ul_two_a=home_trust_list.select('ul')\n",
    "category_data = {\n",
    "    \n",
    "}\n",
    "for text in one_ul_two_a:\n",
    "    select_list = text.select('a')\n",
    "    select_img  = text.select('img')\n",
    "    for data, img in zip(select_list, select_img) :\n",
    "        category_data[data.select('span.title')[0].get_text(strip=True)] ={\n",
    "            \"href\" : data['href'],\n",
    "            \"title\" : data.select('span.title')[0].get_text(strip=True),\n",
    "            \"sub_title\" :data.select('p')[0].get_text(strip=True),\n",
    "            \"img_uri\" : img['src'],\n",
    "            \"big_category\" : big_category,\n",
    "        }\n",
    "#         print(\"home_list big_category >>> \", big_category)\n",
    "#         print(\"home_list href         >>>  \", data['href'])\n",
    "#         print(\"home_list title        >>> \", data.select('span.title')[0].get_text(strip=True))\n",
    "#         print(\"home_list distr        >>> \", data.select('p')[0].get_text(strip=True))\n",
    "#         print(img['src'])\n",
    "#         print('\\n')"
   ]
  },
  {
   "cell_type": "code",
   "execution_count": 16,
   "metadata": {},
   "outputs": [
    {
     "ename": "FileNotFoundError",
     "evalue": "[Errno 2] No such file or directory: '/home/kimdooh/projects/fastcampus/project_with_team/personal-projects/web_craw_mango/data/믿고보는맛집리스트/'",
     "output_type": "error",
     "traceback": [
      "\u001b[0;31m---------------------------------------------------------------------------\u001b[0m",
      "\u001b[0;31mFileNotFoundError\u001b[0m                         Traceback (most recent call last)",
      "\u001b[0;32m<ipython-input-16-02da6198f234>\u001b[0m in \u001b[0;36m<module>\u001b[0;34m\u001b[0m\n\u001b[1;32m      1\u001b[0m \u001b[0;32mtry\u001b[0m\u001b[0;34m:\u001b[0m\u001b[0;34m\u001b[0m\u001b[0;34m\u001b[0m\u001b[0m\n\u001b[0;32m----> 2\u001b[0;31m     \u001b[0mos\u001b[0m\u001b[0;34m.\u001b[0m\u001b[0mmkdir\u001b[0m\u001b[0;34m(\u001b[0m\u001b[0;34m'/home/kimdooh/projects/fastcampus/project_with_team/personal-projects/web_craw_mango/data/'\u001b[0m\u001b[0;34m+\u001b[0m \u001b[0mbig_category\u001b[0m \u001b[0;34m+\u001b[0m \u001b[0;34m'/'\u001b[0m\u001b[0;34m)\u001b[0m\u001b[0;34m\u001b[0m\u001b[0;34m\u001b[0m\u001b[0m\n\u001b[0m\u001b[1;32m      3\u001b[0m \u001b[0;32mexcept\u001b[0m \u001b[0mFileExistsError\u001b[0m\u001b[0;34m:\u001b[0m\u001b[0;34m\u001b[0m\u001b[0;34m\u001b[0m\u001b[0m\n\u001b[1;32m      4\u001b[0m     \u001b[0mprint\u001b[0m\u001b[0;34m(\u001b[0m\u001b[0;34m'파일 이미 있음'\u001b[0m\u001b[0;34m)\u001b[0m\u001b[0;34m\u001b[0m\u001b[0;34m\u001b[0m\u001b[0m\n",
      "\u001b[0;31mFileNotFoundError\u001b[0m: [Errno 2] No such file or directory: '/home/kimdooh/projects/fastcampus/project_with_team/personal-projects/web_craw_mango/data/믿고보는맛집리스트/'"
     ]
    }
   ],
   "source": [
    "try:\n",
    "    os.mkdir('/home/kimdooh/projects/fastcampus/project_with_team/personal-projects/web_craw_mango/data/'+ big_category + '/')\n",
    "except FileExistsError:\n",
    "    print('파일 이미 있음')"
   ]
  },
  {
   "cell_type": "code",
   "execution_count": 19,
   "metadata": {
    "scrolled": true
   },
   "outputs": [
    {
     "name": "stdout",
     "output_type": "stream",
     "text": [
      "믿고보는맛집리스트\n"
     ]
    },
    {
     "data": {
      "text/plain": [
       "{'강원도 원주 맛집 베스트 20곳': {'href': '/top_lists/1766_kangwonwonju',\n",
       "  'title': '강원도 원주 맛집 베스트 20곳',\n",
       "  'sub_title': '\"원주 여행 시, 필수 먹킷 리스트!\"',\n",
       "  'img_uri': 'https://mp-seoul-image-production-s3.mangoplate.com/keyword_search/meta/pictures/0epidvfy4ki9lfsv.jpg?fit=around|600:400&crop=600:400;*,*&output-format=jpg&output-quality=80',\n",
       "  'big_category': '믿고보는맛집리스트'},\n",
       " '된장찌개 맛집 베스트 7곳': {'href': '/top_lists/1002_doenjangjjigae',\n",
       "  'title': '된장찌개 맛집 베스트 7곳',\n",
       "  'sub_title': '\"구수하고 진~한 맛은 된장찌개가 최고! \"',\n",
       "  'img_uri': 'https://mp-seoul-image-production-s3.mangoplate.com/keyword_search/meta/pictures/zripxan_lf26kuqh.png?fit=around|600:400&crop=600:400;*,*&output-format=jpg&output-quality=80',\n",
       "  'big_category': '믿고보는맛집리스트'},\n",
       " '연세대 맛집 베스트 35곳': {'href': '/top_lists/1620_yonsei_university',\n",
       "  'title': '연세대 맛집 베스트 35곳',\n",
       "  'sub_title': '\"연세대학교 학생들을 위한 연세대 맛집\"',\n",
       "  'img_uri': 'https://mp-seoul-image-production-s3.mangoplate.com/keyword_search/meta/pictures/nzgnzi1ejulgqhlj.png?fit=around|600:400&crop=600:400;*,*&output-format=jpg&output-quality=80',\n",
       "  'big_category': '믿고보는맛집리스트'},\n",
       " '와플 맛집 베스트 25곳': {'href': '/top_lists/1184_waffle',\n",
       "  'title': '와플 맛집 베스트 25곳',\n",
       "  'sub_title': '\"클래식한 와플부터 요즘 핫한 크로플까지!\"',\n",
       "  'img_uri': 'https://mp-seoul-image-production-s3.mangoplate.com/keyword_search/meta/pictures/tnwcskecietrcprd.png?fit=around|600:400&crop=600:400;*,*&output-format=jpg&output-quality=80',\n",
       "  'big_category': '믿고보는맛집리스트'},\n",
       " '망원동 카페 베스트 20곳': {'href': '/top_lists/1511_mangwondongcafe',\n",
       "  'title': '망원동 카페 베스트 20곳',\n",
       "  'sub_title': '\"카페 투어는 당근 망원동이지!\"',\n",
       "  'img_uri': 'https://mp-seoul-image-production-s3.mangoplate.com/keyword_search/meta/pictures/ljcz4_bv036hbs6r.jpg?fit=around|600:400&crop=600:400;*,*&output-format=jpg&output-quality=80',\n",
       "  'big_category': '믿고보는맛집리스트'},\n",
       " '서울대 맛집 베스트 30곳': {'href': '/top_lists/1627_seoulnational_university',\n",
       "  'title': '서울대 맛집 베스트 30곳',\n",
       "  'sub_title': '\"서울대학교 학생들을 위한 서울대 맛집 \"',\n",
       "  'img_uri': 'https://mp-seoul-image-production-s3.mangoplate.com/keyword_search/meta/pictures/9a-hj64xuoxv1l-h.jpg?fit=around|600:400&crop=600:400;*,*&output-format=jpg&output-quality=80',\n",
       "  'big_category': '믿고보는맛집리스트'},\n",
       " '강릉 맛집 베스트 30곳': {'href': '/top_lists/628_gangneung',\n",
       "  'title': '강릉 맛집 베스트 30곳',\n",
       "  'sub_title': '\"강릉에서 유명한 건 다 여기 있네!\"',\n",
       "  'img_uri': 'https://mp-seoul-image-production-s3.mangoplate.com/keyword_search/meta/pictures/1slnbdruyyi_hzlw.png?fit=around|600:400&crop=600:400;*,*&output-format=jpg&output-quality=80',\n",
       "  'big_category': '믿고보는맛집리스트'},\n",
       " '성균관대 맛집 베스트 30곳': {'href': '/top_lists/1618_sungkyunkwan_university',\n",
       "  'title': '성균관대 맛집 베스트 30곳',\n",
       "  'sub_title': '\"성균관대학교 학생들을 위한 성균관대 맛집\"',\n",
       "  'img_uri': 'https://mp-seoul-image-production-s3.mangoplate.com/keyword_search/meta/pictures/7stg_bggqoromghj.png?fit=around|600:400&crop=600:400;*,*&output-format=jpg&output-quality=80',\n",
       "  'big_category': '믿고보는맛집리스트'},\n",
       " '피자 맛집 베스트 30곳': {'href': '/top_lists/595_pizza',\n",
       "  'title': '피자 맛집 베스트 30곳',\n",
       "  'sub_title': '\"피자로는 어디 가서 지지 않는다!\"',\n",
       "  'img_uri': 'https://mp-seoul-image-production-s3.mangoplate.com/keyword_search/meta/pictures/zsb-wdil8w4nbz_y.png?fit=around|600:400&crop=600:400;*,*&output-format=jpg&output-quality=80',\n",
       "  'big_category': '믿고보는맛집리스트'},\n",
       " '이태원 브런치 맛집 베스트 15곳': {'href': '/top_lists/678_itaewon_brunch',\n",
       "  'title': '이태원 브런치 맛집 베스트 15곳',\n",
       "  'sub_title': '\"주말에는 무조건 브런치!\"',\n",
       "  'img_uri': 'https://mp-seoul-image-production-s3.mangoplate.com/keyword_search/meta/pictures/h5ggbm-psexmk-6u.png?fit=around|600:400&crop=600:400;*,*&output-format=jpg&output-quality=80',\n",
       "  'big_category': '믿고보는맛집리스트'},\n",
       " '부산대 맛집 베스트 10곳': {'href': '/top_lists/1607_busan_university',\n",
       "  'title': '부산대 맛집 베스트 10곳',\n",
       "  'sub_title': '\"부산대학교 학생들을 위한 부산대 맛집\"',\n",
       "  'img_uri': 'https://mp-seoul-image-production-s3.mangoplate.com/keyword_search/meta/pictures/pz5bauedtf7v6hkq.png?fit=around|600:400&crop=600:400;*,*&output-format=jpg&output-quality=80',\n",
       "  'big_category': '믿고보는맛집리스트'},\n",
       " '경기도 양평 맛집 베스트 20곳': {'href': '/top_lists/1079_yangpyeong',\n",
       "  'title': '경기도 양평 맛집 베스트 20곳',\n",
       "  'sub_title': '\"양평 가는 길엔 이것만 보세요!\"',\n",
       "  'img_uri': 'https://mp-seoul-image-production-s3.mangoplate.com/keyword_search/meta/pictures/zb-abcyces2sidpz.png?fit=around|600:400&crop=600:400;*,*&output-format=jpg&output-quality=80',\n",
       "  'big_category': '믿고보는맛집리스트'}}"
      ]
     },
     "execution_count": 19,
     "metadata": {},
     "output_type": "execute_result"
    }
   ],
   "source": [
    "print(big_category)\n",
    "category_data\n"
   ]
  },
  {
   "cell_type": "code",
   "execution_count": 57,
   "metadata": {
    "scrolled": true
   },
   "outputs": [],
   "source": [
    "# # test\n",
    "# for data in category_data:\n",
    "#     URL =  category_data[data]['href']\n",
    "#     print(URL)"
   ]
  },
  {
   "cell_type": "code",
   "execution_count": 58,
   "metadata": {},
   "outputs": [
    {
     "data": {
      "text/plain": [
       "'믿고보는맛집리스트'"
      ]
     },
     "execution_count": 58,
     "metadata": {},
     "output_type": "execute_result"
    }
   ],
   "source": [
    "big_category"
   ]
  },
  {
   "cell_type": "markdown",
   "metadata": {},
   "source": [
    "# 큰 카테고리에서 작은 카테고리별 (리스트 목록 페이지) \n"
   ]
  },
  {
   "cell_type": "markdown",
   "metadata": {},
   "source": [
    "# 두번째 selenium이용해서 각 가테고리별로 개별 식당 href 가져오기"
   ]
  },
  {
   "cell_type": "code",
   "execution_count": 59,
   "metadata": {},
   "outputs": [
    {
     "name": "stderr",
     "output_type": "stream",
     "text": [
      "/home/kimdooh/.pyenv/versions/mangoplate-env/lib/python3.7/site-packages/ipykernel_launcher.py:9: DeprecationWarning: use options instead of chrome_options\n",
      "  if __name__ == '__main__':\n"
     ]
    },
    {
     "name": "stdout",
     "output_type": "stream",
     "text": [
      "https://www.mangoplate.com/top_lists/1766_kangwonwonju\n",
      "https://www.mangoplate.com/top_lists/1002_doenjangjjigae\n",
      "https://www.mangoplate.com/top_lists/1620_yonsei_university\n",
      "https://www.mangoplate.com/top_lists/1184_waffle\n",
      "https://www.mangoplate.com/top_lists/1511_mangwondongcafe\n",
      "https://www.mangoplate.com/top_lists/1627_seoulnational_university\n",
      "https://www.mangoplate.com/top_lists/628_gangneung\n",
      "https://www.mangoplate.com/top_lists/1618_sungkyunkwan_university\n",
      "https://www.mangoplate.com/top_lists/595_pizza\n",
      "https://www.mangoplate.com/top_lists/678_itaewon_brunch\n",
      "https://www.mangoplate.com/top_lists/1607_busan_university\n",
      "https://www.mangoplate.com/top_lists/1079_yangpyeong\n"
     ]
    }
   ],
   "source": [
    "for data in category_data:\n",
    "    chrom_path= '/home/kimdooh/projects/fastcampus/project_with_team/personal-projects/web_craw_mango/chromedriver'\n",
    "    rootPath = 'https://www.mangoplate.com'\n",
    "    URL = rootPath + category_data[data]['href']\n",
    "    \n",
    "    options = webdriver.ChromeOptions() \n",
    "    options.add_argument('headless')\n",
    "    options.add_argument('disable-gpu')\n",
    "    driver = webdriver.Chrome(chrom_path,chrome_options=options)\n",
    "    driver.get(URL)\n",
    "    print(URL)\n",
    "#     driver.get_screenshot_as_file(f'./data/naver_main{data}.png')\n",
    "    #########################\n",
    "#     더보기 버튼 눌러서 데이터 더 가져오기\n",
    "    #########################\n",
    "    title = category_data[data]['title']\n",
    "    r = open('/home/kimdooh/projects/fastcampus/project_with_team/personal-projects/web_craw_mango/data/믿고보는맛집리스트/'+ \\\n",
    "             title.replace(\" \",\"\") + '.txt', mode='w', encoding='utf-8')\n",
    "    category_data[data]['page_source'] = driver.page_source\n",
    "    r.write(category_data[data]['page_source'])\n",
    "    r.close\n",
    "    driver.quit()"
   ]
  },
  {
   "cell_type": "markdown",
   "metadata": {},
   "source": [
    "# 큰 카테고리에서 작은 카테고리별 (리스트 목록 페이지) \n",
    "# html 저장 하고 가각 리스트 가져오기"
   ]
  },
  {
   "cell_type": "code",
   "execution_count": 9,
   "metadata": {},
   "outputs": [
    {
     "name": "stdout",
     "output_type": "stream",
     "text": [
      "['부산대맛집베스트10곳.txt', '와플맛집베스트25곳.txt', '이태원브런치맛집베스트15곳.txt', '피자맛집베스트30곳.txt', '강원도원주맛집베스트20곳.txt', '망원동카페베스트20곳.txt', '경기도양평맛집베스트20곳.txt', '강릉맛집베스트30곳.txt', '성균관대맛집베스트30곳.txt', '서울대맛집베스트30곳.txt', '된장찌개맛집베스트7곳.txt', '연세대맛집베스트35곳.txt']\n"
     ]
    }
   ],
   "source": [
    "import os \n",
    "path='../data/믿고보는맛집리스트/'\n",
    "file_list = [i for i in os.listdir(path) if '.txt' in i]\n",
    "print(file_list)"
   ]
  },
  {
   "cell_type": "code",
   "execution_count": 10,
   "metadata": {},
   "outputs": [
    {
     "name": "stdout",
     "output_type": "stream",
     "text": [
      "부산대맛집베스트10곳.txt\n",
      "와플맛집베스트25곳.txt\n",
      "이태원브런치맛집베스트15곳.txt\n",
      "피자맛집베스트30곳.txt\n",
      "강원도원주맛집베스트20곳.txt\n",
      "망원동카페베스트20곳.txt\n",
      "경기도양평맛집베스트20곳.txt\n",
      "강릉맛집베스트30곳.txt\n",
      "성균관대맛집베스트30곳.txt\n",
      "서울대맛집베스트30곳.txt\n",
      "된장찌개맛집베스트7곳.txt\n",
      "연세대맛집베스트35곳.txt\n"
     ]
    }
   ],
   "source": [
    "second_category_data_list = {\n",
    "    \n",
    "}\n",
    "for second_category_detail_list_source in file_list:\n",
    "    print(second_category_detail_list_source)\n",
    "    \n",
    "    html = open('../data/믿고보는맛집리스트/'+ second_category_detail_list_source, \"r\").read()\n",
    "#     print(html)\n",
    "    second_category_soup = BeautifulSoup(html)\n",
    "    second_category_list = second_category_soup.select_one('ul.list-restaurants').select('li.toplist_list')\n",
    "    second_category_data_href_list= {}\n",
    "    for data in second_category_list:\n",
    "        div_with_reivew = data.select_one('div.with-review')\n",
    "        div_info = div_with_reivew.select_one('div.info')\n",
    "        second_category_list_simple_data = div_with_reivew.select_one('a')\n",
    "\n",
    "        second_category_data_href_list[div_info.select_one('h3').get_text(strip=True)] ={\n",
    "            \"href\" : second_category_list_simple_data['href'],\n",
    "            \"point\" : div_info.select_one('strong.point').get_text(strip=True),\n",
    "            \"address\" : div_info.select_one('p.etc').get_text(strip=True),\n",
    "            \"title\" :div_info.select_one('h3').get_text(strip=True),\n",
    "#             \"review_sample\" : data.select_one('div.review-content').select_one('p.long_review').get_text(strip=True),\n",
    "            \"img_uri\" : data.select_one('div.thumb').select_one('img')['data-original'],\n",
    "        }\n",
    "    second_category_data_list[second_category_detail_list_source.split('.')[0]] = second_category_data_href_list\n",
    "    "
   ]
  },
  {
   "cell_type": "markdown",
   "metadata": {},
   "source": [
    "# sub_카테고리별 파일 만들기"
   ]
  },
  {
   "cell_type": "code",
   "execution_count": 20,
   "metadata": {},
   "outputs": [
    {
     "name": "stdout",
     "output_type": "stream",
     "text": [
      "부산대맛집베스트10곳\n"
     ]
    },
    {
     "ename": "FileNotFoundError",
     "evalue": "[Errno 2] No such file or directory: '/home/kimdooh/projects/fastcampus/project_with_team/personal-projects/web_craw_mango/data/믿고보는맛집리스트/부산대맛집베스트10곳/'",
     "output_type": "error",
     "traceback": [
      "\u001b[0;31m---------------------------------------------------------------------------\u001b[0m",
      "\u001b[0;31mFileNotFoundError\u001b[0m                         Traceback (most recent call last)",
      "\u001b[0;32m<ipython-input-20-9c08aaead7e3>\u001b[0m in \u001b[0;36m<module>\u001b[0;34m\u001b[0m\n\u001b[1;32m      1\u001b[0m \u001b[0;32mfor\u001b[0m \u001b[0mtitle\u001b[0m \u001b[0;32min\u001b[0m \u001b[0msecond_category_data_list\u001b[0m\u001b[0;34m.\u001b[0m\u001b[0mkeys\u001b[0m\u001b[0;34m(\u001b[0m\u001b[0;34m)\u001b[0m\u001b[0;34m:\u001b[0m\u001b[0;34m\u001b[0m\u001b[0;34m\u001b[0m\u001b[0m\n\u001b[1;32m      2\u001b[0m     \u001b[0mprint\u001b[0m\u001b[0;34m(\u001b[0m\u001b[0mtitle\u001b[0m\u001b[0;34m.\u001b[0m\u001b[0mreplace\u001b[0m\u001b[0;34m(\u001b[0m\u001b[0;34m\" \"\u001b[0m\u001b[0;34m,\u001b[0m\u001b[0;34m\"\"\u001b[0m\u001b[0;34m)\u001b[0m\u001b[0;34m)\u001b[0m\u001b[0;34m\u001b[0m\u001b[0;34m\u001b[0m\u001b[0m\n\u001b[0;32m----> 3\u001b[0;31m     \u001b[0mos\u001b[0m\u001b[0;34m.\u001b[0m\u001b[0mmkdir\u001b[0m\u001b[0;34m(\u001b[0m\u001b[0;34m'/home/kimdooh/projects/fastcampus/project_with_team/personal-projects/web_craw_mango/data/'\u001b[0m\u001b[0;34m+\u001b[0m \u001b[0mbig_category\u001b[0m \u001b[0;34m+\u001b[0m\u001b[0;34m'/'\u001b[0m\u001b[0;34m+\u001b[0m \u001b[0mtitle\u001b[0m\u001b[0;34m.\u001b[0m\u001b[0mreplace\u001b[0m\u001b[0;34m(\u001b[0m\u001b[0;34m\" \"\u001b[0m\u001b[0;34m,\u001b[0m\u001b[0;34m\"\"\u001b[0m\u001b[0;34m)\u001b[0m \u001b[0;34m+\u001b[0m \u001b[0;34m'/'\u001b[0m\u001b[0;34m)\u001b[0m\u001b[0;34m\u001b[0m\u001b[0;34m\u001b[0m\u001b[0m\n\u001b[0m\u001b[1;32m      4\u001b[0m \u001b[0;34m\u001b[0m\u001b[0m\n\u001b[1;32m      5\u001b[0m \u001b[0;31m#     try:\u001b[0m\u001b[0;34m\u001b[0m\u001b[0;34m\u001b[0m\u001b[0;34m\u001b[0m\u001b[0m\n",
      "\u001b[0;31mFileNotFoundError\u001b[0m: [Errno 2] No such file or directory: '/home/kimdooh/projects/fastcampus/project_with_team/personal-projects/web_craw_mango/data/믿고보는맛집리스트/부산대맛집베스트10곳/'"
     ]
    }
   ],
   "source": [
    "for title in second_category_data_list.keys():\n",
    "    print(title.replace(\" \",\"\"))\n",
    "    os.mkdir('/home/kimdooh/projects/fastcampus/project_with_team/personal-projects/web_craw_mango/data/'+ big_category +'/'+ title.replace(\" \",\"\") + '/')\n",
    "\n",
    "#     try:\n",
    "#         os.mkdir('/home/kimdooh/projects/fastcampus/project_with_team/personal-projects/web_craw_mango/data/'+ big_category +'/'+ title.replace(\" \",\"\") + '/')\n",
    "#         print('만듬')\n",
    "#     except FileExistsError:\n",
    "#         print('파일 이미 있음')\n",
    "#         continue"
   ]
  },
  {
   "cell_type": "code",
   "execution_count": null,
   "metadata": {
    "scrolled": true
   },
   "outputs": [],
   "source": []
  },
  {
   "cell_type": "code",
   "execution_count": null,
   "metadata": {},
   "outputs": [],
   "source": []
  },
  {
   "cell_type": "code",
   "execution_count": null,
   "metadata": {
    "scrolled": true
   },
   "outputs": [],
   "source": []
  },
  {
   "cell_type": "markdown",
   "metadata": {
    "scrolled": true
   },
   "source": [
    "# 세번째 selenium 각각 가게별 상세 데이터 가져오기 "
   ]
  },
  {
   "cell_type": "code",
   "execution_count": 21,
   "metadata": {
    "scrolled": true
   },
   "outputs": [
    {
     "name": "stdout",
     "output_type": "stream",
     "text": [
      "https://www.mangoplate.com/restaurants/0EoyV_TkNV\n"
     ]
    },
    {
     "name": "stderr",
     "output_type": "stream",
     "text": [
      "/home/dopa/.pyenv/versions/selenium-env/lib/python3.7/site-packages/ipykernel_launcher.py:13: DeprecationWarning: use options instead of chrome_options\n",
      "  del sys.path[0]\n"
     ]
    },
    {
     "ename": "WebDriverException",
     "evalue": "Message: 'chromedriver' executable needs to be in PATH. Please see https://sites.google.com/a/chromium.org/chromedriver/home\n",
     "output_type": "error",
     "traceback": [
      "\u001b[0;31m---------------------------------------------------------------------------\u001b[0m",
      "\u001b[0;31mFileNotFoundError\u001b[0m                         Traceback (most recent call last)",
      "\u001b[0;32m~/.pyenv/versions/selenium-env/lib/python3.7/site-packages/selenium/webdriver/common/service.py\u001b[0m in \u001b[0;36mstart\u001b[0;34m(self)\u001b[0m\n\u001b[1;32m     75\u001b[0m                                             \u001b[0mstderr\u001b[0m\u001b[0;34m=\u001b[0m\u001b[0mself\u001b[0m\u001b[0;34m.\u001b[0m\u001b[0mlog_file\u001b[0m\u001b[0;34m,\u001b[0m\u001b[0;34m\u001b[0m\u001b[0;34m\u001b[0m\u001b[0m\n\u001b[0;32m---> 76\u001b[0;31m                                             stdin=PIPE)\n\u001b[0m\u001b[1;32m     77\u001b[0m         \u001b[0;32mexcept\u001b[0m \u001b[0mTypeError\u001b[0m\u001b[0;34m:\u001b[0m\u001b[0;34m\u001b[0m\u001b[0;34m\u001b[0m\u001b[0m\n",
      "\u001b[0;32m~/.pyenv/versions/3.7.5/lib/python3.7/subprocess.py\u001b[0m in \u001b[0;36m__init__\u001b[0;34m(self, args, bufsize, executable, stdin, stdout, stderr, preexec_fn, close_fds, shell, cwd, env, universal_newlines, startupinfo, creationflags, restore_signals, start_new_session, pass_fds, encoding, errors, text)\u001b[0m\n\u001b[1;32m    799\u001b[0m                                 \u001b[0merrread\u001b[0m\u001b[0;34m,\u001b[0m \u001b[0merrwrite\u001b[0m\u001b[0;34m,\u001b[0m\u001b[0;34m\u001b[0m\u001b[0;34m\u001b[0m\u001b[0m\n\u001b[0;32m--> 800\u001b[0;31m                                 restore_signals, start_new_session)\n\u001b[0m\u001b[1;32m    801\u001b[0m         \u001b[0;32mexcept\u001b[0m\u001b[0;34m:\u001b[0m\u001b[0;34m\u001b[0m\u001b[0;34m\u001b[0m\u001b[0m\n",
      "\u001b[0;32m~/.pyenv/versions/3.7.5/lib/python3.7/subprocess.py\u001b[0m in \u001b[0;36m_execute_child\u001b[0;34m(self, args, executable, preexec_fn, close_fds, pass_fds, cwd, env, startupinfo, creationflags, shell, p2cread, p2cwrite, c2pread, c2pwrite, errread, errwrite, restore_signals, start_new_session)\u001b[0m\n\u001b[1;32m   1550\u001b[0m                             \u001b[0merr_msg\u001b[0m \u001b[0;34m+=\u001b[0m \u001b[0;34m': '\u001b[0m \u001b[0;34m+\u001b[0m \u001b[0mrepr\u001b[0m\u001b[0;34m(\u001b[0m\u001b[0merr_filename\u001b[0m\u001b[0;34m)\u001b[0m\u001b[0;34m\u001b[0m\u001b[0;34m\u001b[0m\u001b[0m\n\u001b[0;32m-> 1551\u001b[0;31m                     \u001b[0;32mraise\u001b[0m \u001b[0mchild_exception_type\u001b[0m\u001b[0;34m(\u001b[0m\u001b[0merrno_num\u001b[0m\u001b[0;34m,\u001b[0m \u001b[0merr_msg\u001b[0m\u001b[0;34m,\u001b[0m \u001b[0merr_filename\u001b[0m\u001b[0;34m)\u001b[0m\u001b[0;34m\u001b[0m\u001b[0;34m\u001b[0m\u001b[0m\n\u001b[0m\u001b[1;32m   1552\u001b[0m                 \u001b[0;32mraise\u001b[0m \u001b[0mchild_exception_type\u001b[0m\u001b[0;34m(\u001b[0m\u001b[0merr_msg\u001b[0m\u001b[0;34m)\u001b[0m\u001b[0;34m\u001b[0m\u001b[0;34m\u001b[0m\u001b[0m\n",
      "\u001b[0;31mFileNotFoundError\u001b[0m: [Errno 2] No such file or directory: '/home/kimdooh/projects/fastcampus/project_with_team/personal-projects/web_craw_mango/chromedriver': '/home/kimdooh/projects/fastcampus/project_with_team/personal-projects/web_craw_mango/chromedriver'",
      "\nDuring handling of the above exception, another exception occurred:\n",
      "\u001b[0;31mWebDriverException\u001b[0m                        Traceback (most recent call last)",
      "\u001b[0;32m<ipython-input-21-5f7d51664fe3>\u001b[0m in \u001b[0;36m<module>\u001b[0;34m\u001b[0m\n\u001b[1;32m     11\u001b[0m         \u001b[0moptions\u001b[0m\u001b[0;34m.\u001b[0m\u001b[0madd_argument\u001b[0m\u001b[0;34m(\u001b[0m\u001b[0;34m'headless'\u001b[0m\u001b[0;34m)\u001b[0m\u001b[0;34m\u001b[0m\u001b[0;34m\u001b[0m\u001b[0m\n\u001b[1;32m     12\u001b[0m         \u001b[0moptions\u001b[0m\u001b[0;34m.\u001b[0m\u001b[0madd_argument\u001b[0m\u001b[0;34m(\u001b[0m\u001b[0;34m'disable-gpu'\u001b[0m\u001b[0;34m)\u001b[0m\u001b[0;34m\u001b[0m\u001b[0;34m\u001b[0m\u001b[0m\n\u001b[0;32m---> 13\u001b[0;31m         \u001b[0mdriver\u001b[0m \u001b[0;34m=\u001b[0m \u001b[0mwebdriver\u001b[0m\u001b[0;34m.\u001b[0m\u001b[0mChrome\u001b[0m\u001b[0;34m(\u001b[0m\u001b[0mchrom_path\u001b[0m\u001b[0;34m,\u001b[0m\u001b[0mchrome_options\u001b[0m\u001b[0;34m=\u001b[0m\u001b[0moptions\u001b[0m\u001b[0;34m)\u001b[0m\u001b[0;34m\u001b[0m\u001b[0;34m\u001b[0m\u001b[0m\n\u001b[0m\u001b[1;32m     14\u001b[0m         \u001b[0mdriver\u001b[0m\u001b[0;34m.\u001b[0m\u001b[0mget\u001b[0m\u001b[0;34m(\u001b[0m\u001b[0mURL\u001b[0m\u001b[0;34m)\u001b[0m\u001b[0;34m\u001b[0m\u001b[0;34m\u001b[0m\u001b[0m\n\u001b[1;32m     15\u001b[0m         \u001b[0mdriver\u001b[0m\u001b[0;34m.\u001b[0m\u001b[0mget_screenshot_as_file\u001b[0m\u001b[0;34m(\u001b[0m\u001b[0;34mf'naver_main{data}.png'\u001b[0m\u001b[0;34m)\u001b[0m\u001b[0;34m\u001b[0m\u001b[0;34m\u001b[0m\u001b[0m\n",
      "\u001b[0;32m~/.pyenv/versions/selenium-env/lib/python3.7/site-packages/selenium/webdriver/chrome/webdriver.py\u001b[0m in \u001b[0;36m__init__\u001b[0;34m(self, executable_path, port, options, service_args, desired_capabilities, service_log_path, chrome_options, keep_alive)\u001b[0m\n\u001b[1;32m     71\u001b[0m             \u001b[0mservice_args\u001b[0m\u001b[0;34m=\u001b[0m\u001b[0mservice_args\u001b[0m\u001b[0;34m,\u001b[0m\u001b[0;34m\u001b[0m\u001b[0;34m\u001b[0m\u001b[0m\n\u001b[1;32m     72\u001b[0m             log_path=service_log_path)\n\u001b[0;32m---> 73\u001b[0;31m         \u001b[0mself\u001b[0m\u001b[0;34m.\u001b[0m\u001b[0mservice\u001b[0m\u001b[0;34m.\u001b[0m\u001b[0mstart\u001b[0m\u001b[0;34m(\u001b[0m\u001b[0;34m)\u001b[0m\u001b[0;34m\u001b[0m\u001b[0;34m\u001b[0m\u001b[0m\n\u001b[0m\u001b[1;32m     74\u001b[0m \u001b[0;34m\u001b[0m\u001b[0m\n\u001b[1;32m     75\u001b[0m         \u001b[0;32mtry\u001b[0m\u001b[0;34m:\u001b[0m\u001b[0;34m\u001b[0m\u001b[0;34m\u001b[0m\u001b[0m\n",
      "\u001b[0;32m~/.pyenv/versions/selenium-env/lib/python3.7/site-packages/selenium/webdriver/common/service.py\u001b[0m in \u001b[0;36mstart\u001b[0;34m(self)\u001b[0m\n\u001b[1;32m     81\u001b[0m                 raise WebDriverException(\n\u001b[1;32m     82\u001b[0m                     \"'%s' executable needs to be in PATH. %s\" % (\n\u001b[0;32m---> 83\u001b[0;31m                         os.path.basename(self.path), self.start_error_message)\n\u001b[0m\u001b[1;32m     84\u001b[0m                 )\n\u001b[1;32m     85\u001b[0m             \u001b[0;32melif\u001b[0m \u001b[0merr\u001b[0m\u001b[0;34m.\u001b[0m\u001b[0merrno\u001b[0m \u001b[0;34m==\u001b[0m \u001b[0merrno\u001b[0m\u001b[0;34m.\u001b[0m\u001b[0mEACCES\u001b[0m\u001b[0;34m:\u001b[0m\u001b[0;34m\u001b[0m\u001b[0;34m\u001b[0m\u001b[0m\n",
      "\u001b[0;31mWebDriverException\u001b[0m: Message: 'chromedriver' executable needs to be in PATH. Please see https://sites.google.com/a/chromium.org/chromedriver/home\n"
     ]
    }
   ],
   "source": [
    "for file_name, res_name in second_category_data_list.items():\n",
    "    chrom_path= '/home/kimdooh/projects/fastcampus/project_with_team/personal-projects/web_craw_mango/chromedriver'\n",
    "    rootPath = 'https://www.mangoplate.com'\n",
    "    \n",
    "    for restaurant, factors in second_category_data_list[file_name].items():\n",
    "        \n",
    "        URL = rootPath + factors['href']\n",
    "        print(URL)\n",
    "\n",
    "        options = webdriver.ChromeOptions() \n",
    "        options.add_argument('headless')\n",
    "        options.add_argument('disable-gpu')\n",
    "        driver = webdriver.Chrome(chrom_path,chrome_options=options)\n",
    "        driver.get(URL)\n",
    "        driver.get_screenshot_as_file(f'naver_main{data}.png')\n",
    "\n",
    "        \n",
    "        second_category_data_list[file_name][restaurant]['page_source'] = driver.page_source\n",
    "        \n",
    "        r = open('/home/kimdooh/projects/fastcampus/project_with_team/personal-projects/web_craw_mango/data/'+ big_category + '/'+\\\n",
    "        file_name.replace(\" \",\"\") +'/'+ restaurant.replace(\" \",\"\") + '.txt', mode='w', encoding='utf-8')\n",
    "        r.write(second_category_data_list[file_name][restaurant]['page_source'])\n",
    "\n",
    "        driver.quit()"
   ]
  },
  {
   "cell_type": "code",
   "execution_count": null,
   "metadata": {
    "scrolled": false
   },
   "outputs": [],
   "source": []
  },
  {
   "cell_type": "code",
   "execution_count": 1,
   "metadata": {},
   "outputs": [],
   "source": [
    "import os \n",
    "path='../'\n",
    "file_list = [i for i in os.listdir(path) if '곳' in i]\n",
    "\n",
    "for category_detail_list in file_list:\n",
    "    print(category_detail_list)\n",
    "    file_name=os.listdir(path+category_detail_list+ '/')\n",
    "    for restaurant in file_name:\n",
    "        print(restaurant)\n",
    "        html = open('../'+ category_detail_list +'/'+restaurant, \"r\").read()    "
   ]
  },
  {
   "cell_type": "code",
   "execution_count": null,
   "metadata": {},
   "outputs": [],
   "source": []
  },
  {
   "cell_type": "code",
   "execution_count": 2,
   "metadata": {},
   "outputs": [],
   "source": [
    "detail_page_craw={}\n",
    "\n",
    "for category_detail_list in file_list:\n",
    "    file_name=os.listdir(path+category_detail_list+ '/')\n",
    "    for restaurant in file_name:\n",
    "        print(restaurant)\n",
    "        try:\n",
    "            html = open('../'+ category_detail_list +'/'+restaurant, \"r\").read()\n",
    "            health_restaurant_detail = BeautifulSoup(html)\n",
    "            # text 크롤링\n",
    "            div_inner = health_restaurant_detail.select_one('div.column-contents').select_one('div.inner')\n",
    "            section_restaurant_detail = div_inner.select_one('section.restaurant-detail')\n",
    "            div_restaurant_title_wrap=section_restaurant_detail.select_one('div.restaurant_title_wrap')\n",
    "            span_title = div_restaurant_title_wrap.select_one('span.title')\n",
    "            restaurant_title=span_title.select_one('h1').get_text(strip=True)\n",
    "            restaurant_point=span_title.select_one('strong.rate-point').select_one('span').get_text(strip=True)\n",
    "            tbody = section_restaurant_detail.select_one('table.info').select_one('tbody')\n",
    "            # images 크롤링\n",
    "            asid_restaurant = health_restaurant_detail.select_one('aside.restaurant-photos')\n",
    "            div_owl_wrapper = asid_restaurant.select_one('div.owl-wrapper')\n",
    "            div_owl_item = div_owl_wrapper.select('div.owl-item')\n",
    "        except AttributeError as ex:\n",
    "            print(f'page 없는 데이터 존재', ex)\n",
    "        ###################################################################################\n",
    "        image_contents = {\n",
    "\n",
    "        }\n",
    "        for index, data in enumerate(div_owl_item):\n",
    "            image_contents['image_'+str(index)] = data.select_one('meta')['content']\n",
    "        restaurant_detail_fields = {\n",
    "            \"title\" : restaurant_title,\n",
    "            \"images\" : image_contents,\n",
    "        }\n",
    "    #     print(restaurant_detail_fields)\n",
    "        for i in tbody.select('tr'):\n",
    "\n",
    "            restaurant_detail_fields[i.select_one('th').get_text(strip=True)]= i.select_one('td').get_text(strip=True)\n",
    "\n",
    "\n",
    "            if not i.select_one('span.Restaurant__InfoAddress--Rectangle') == None:\n",
    "                restaurant_detail_fields[i.select_one('span.Restaurant__InfoAddress--Rectangle').get_text(strip=True)] \\\n",
    "                = i.select_one('span.Restaurant__InfoAddress--Text').get_text(strip=True)\n",
    "        detail_page_craw[restaurant] = restaurant_detail_fields"
   ]
  },
  {
   "cell_type": "code",
   "execution_count": 47,
   "metadata": {},
   "outputs": [],
   "source": [
    "# for i, ii in detail_page_craw.items():\n",
    "# #     print(detail_page_craw[i]['전화번호'])\n",
    "#     try :\n",
    "#         detail_page_craw[i]['전화번호']\n",
    "#     except KeyError:\n",
    "#         detail_page_craw[i]['전화번호'] = '정보없음'\n",
    "#     print(detail_page_craw[i]['전화번호'].replace(\" \",\"\"))"
   ]
  },
  {
   "cell_type": "code",
   "execution_count": 29,
   "metadata": {},
   "outputs": [
    {
     "data": {
      "text/plain": [
       "{}"
      ]
     },
     "execution_count": 29,
     "metadata": {},
     "output_type": "execute_result"
    }
   ],
   "source": [
    "detail_page_craw"
   ]
  },
  {
   "cell_type": "code",
   "execution_count": 3,
   "metadata": {
    "scrolled": true
   },
   "outputs": [],
   "source": [
    "for file_name, value in detail_page_craw.items():\n",
    "    try:\n",
    "        value['title']\n",
    "        value['주소']\n",
    "        value['지번']\n",
    "        value['가격대']\n",
    "        \n",
    "    except KeyError:\n",
    "        print(file_name, '   못만듬')\n",
    "        print('\\n')\n",
    "        continue\n",
    "        \n",
    "        \n",
    "    try :\n",
    "        value['주차']\n",
    "    except KeyError:\n",
    "        value['주차'] = '정보없음'    \n",
    "    \n",
    "    \n",
    "    try :\n",
    "        value['전화번호']\n",
    "    except KeyError:\n",
    "        value['전화번호'] = '010-0000-0000'\n",
    "    \n",
    "    \n",
    "    try :\n",
    "        value['음식 종류']\n",
    "    except KeyError:\n",
    "        value['음식 종류']= '정보없음'\n",
    "    \n",
    "    print(value['title'])\n",
    "    print(value['주소'])\n",
    "    print(value['지번'])\n",
    "    print(value['음식 종류'])\n",
    "    print(value['가격대'])\n",
    "    print(value['전화번호'])\n",
    "    print(value['주차'])\n",
    "    \n",
    "    try:\n",
    "\n",
    "        Restaurant.objects.create(\n",
    "            name_address1_unique = value['title'].replace(\" \",\"\") + value['주소'].replace(\" \",\"\"),\n",
    "            name                 = value['title'].replace(\" \",\"\"),\n",
    "            address1             = value['주소'].replace(\" \",\"\"),\n",
    "            address2             = value['지번'].replace(\" \",\"\"),\n",
    "            phone                = value['전화번호'].replace(\" \",\"\"),\n",
    "            restaurant_type      = value['음식 종류'].replace(\" \",\"\"),\n",
    "            price_range          = value['가격대'].replace(\" \",\"\"),\n",
    "            parking              = value['주차'],\n",
    "        )\n",
    "    except IntegrityError:\n",
    "        print('unique 에러여서 넘어감')\n",
    "        continue\n",
    "        \n"
   ]
  },
  {
   "cell_type": "code",
   "execution_count": null,
   "metadata": {},
   "outputs": [],
   "source": [
    "#     Restaurant.objects.create(\n",
    "#         name                = value['title'].replace(\" \",\"\"),\n",
    "#         address1            = value['주소'].replace(\" \",\"\"),\n",
    "#         address2            = value['지번'].replace(\" \",\"\"),\n",
    "#         phone               = value['전화번호'].replace(\" \",\"\"),\n",
    "#         restaurant_type     = value['음식 종류'].replace(\" \",\"\"),\n",
    "#         price_range         = value['가격대'].replace(\" \",\"\"),\n",
    "#         parking        = parking,\n",
    "#     )"
   ]
  },
  {
   "cell_type": "code",
   "execution_count": null,
   "metadata": {},
   "outputs": [],
   "source": [
    "# Restaurant.objects.create(\n",
    "#     name        = '호호식당',\n",
    "#     address1    = '서울특별시 종로구 대학로9길 35지번서울시 종로구 명륜4가 143',\n",
    "#     address2    = '서울시 종로구 명륜4가 143',\n",
    "#     phone       = '02-6494-2222a',\n",
    "#     parking        = '주차정보 없음',\n",
    "\n",
    "# )"
   ]
  },
  {
   "cell_type": "code",
   "execution_count": null,
   "metadata": {},
   "outputs": [],
   "source": [
    "# Restaurant.objects.create(\n",
    "#     name        = '호호식당',\n",
    "#     address1    = '서울특별시 종로구 대학로9길 35지번서울시 종로구 명륜4가 143',\n",
    "#     address2    = '서울시 종로구 명륜4가 143',\n",
    "#     phone       = '02-6494-0049',\n",
    "# #     parking        = '주차정보 없음',\n",
    "\n",
    "# )"
   ]
  },
  {
   "cell_type": "code",
   "execution_count": null,
   "metadata": {},
   "outputs": [],
   "source": [
    "# from restaurant.models import *\n",
    "# dir(Restaurant.objects.values_list)"
   ]
  },
  {
   "cell_type": "code",
   "execution_count": null,
   "metadata": {},
   "outputs": [],
   "source": [
    "# Restaurant.objects.create(\n",
    "#     name = restaurant_detail_fields['title'],\n",
    "#     address1    = restaurant_detail_fields['주소'],\n",
    "#     address2    = restaurant_detail_fields['지번'],\n",
    "#     phone       = restaurant_detail_fields['전화번호'],\n",
    "# #     category    = restaurant_detail_fields['음식 종류'],\n",
    "#     price_range = restaurant_detail_fields['가격대'],\n",
    "#     parking     = restaurant_detail_fields['주차'],\n",
    "# )"
   ]
  },
  {
   "cell_type": "code",
   "execution_count": null,
   "metadata": {},
   "outputs": [],
   "source": [
    "# Restaurant.objects.all()"
   ]
  },
  {
   "cell_type": "code",
   "execution_count": null,
   "metadata": {},
   "outputs": [],
   "source": []
  },
  {
   "cell_type": "code",
   "execution_count": null,
   "metadata": {},
   "outputs": [],
   "source": []
  },
  {
   "cell_type": "code",
   "execution_count": null,
   "metadata": {},
   "outputs": [],
   "source": []
  },
  {
   "cell_type": "code",
   "execution_count": null,
   "metadata": {},
   "outputs": [],
   "source": []
  },
  {
   "cell_type": "code",
   "execution_count": null,
   "metadata": {},
   "outputs": [],
   "source": []
  },
  {
   "cell_type": "code",
   "execution_count": null,
   "metadata": {},
   "outputs": [],
   "source": []
  },
  {
   "cell_type": "code",
   "execution_count": null,
   "metadata": {},
   "outputs": [],
   "source": []
  },
  {
   "cell_type": "code",
   "execution_count": null,
   "metadata": {},
   "outputs": [],
   "source": [
    "#     r = open( '/home/dopa/projects/personal/selenium-env/app/식당/'+ title + '.txt', mode='w', encoding='utf-8')\n",
    "#     r.write(category_data_list[data]['page_source'])\n",
    "#     r.close()"
   ]
  },
  {
   "cell_type": "code",
   "execution_count": null,
   "metadata": {},
   "outputs": [],
   "source": []
  },
  {
   "cell_type": "code",
   "execution_count": null,
   "metadata": {},
   "outputs": [],
   "source": [
    "# for category_list in file_list:\n",
    "\n",
    "#     html = open('./식당/'+file_list, \"r\").read()\n",
    "#     health_restaurant_detail = BeautifulSoup(html)"
   ]
  },
  {
   "cell_type": "code",
   "execution_count": null,
   "metadata": {},
   "outputs": [],
   "source": [
    "# health_restaurant_detail"
   ]
  },
  {
   "cell_type": "code",
   "execution_count": null,
   "metadata": {},
   "outputs": [],
   "source": [
    "# # text 크롤링\n",
    "# div_inner = health_restaurant_detail.select_one('div.column-contents').select_one('div.inner')\n",
    "# section_restaurant_detail = div_inner.select_one('section.restaurant-detail')\n",
    "# div_restaurant_title_wrap=section_restaurant_detail.select_one('div.restaurant_title_wrap')\n",
    "# span_title = div_restaurant_title_wrap.select_one('span.title')\n",
    "# restaurant_title=span_title.select_one('h1').get_text(strip=True)\n",
    "# restaurant_point=span_title.select_one('strong.rate-point').select_one('span').get_text(strip=True)\n",
    "# tbody = section_restaurant_detail.select_one('table.info').select_one('tbody')"
   ]
  },
  {
   "cell_type": "code",
   "execution_count": null,
   "metadata": {},
   "outputs": [],
   "source": [
    "# # images 크롤링\n",
    "# asid_restaurant = health_restaurant_detail.select_one('aside.restaurant-photos')\n",
    "# div_owl_wrapper = asid_restaurant.select_one('div.owl-wrapper')\n",
    "# div_owl_item = div_owl_wrapper.select('div.owl-item')"
   ]
  },
  {
   "cell_type": "code",
   "execution_count": null,
   "metadata": {},
   "outputs": [],
   "source": [
    "# image_contents = {\n",
    "    \n",
    "# }\n",
    "# for index, data in enumerate(div_owl_item):\n",
    "#     image_contents['image_'+str(index)] = data.select_one('meta')['content']\n",
    "# #     print(data.select_one('meta')['content'])"
   ]
  },
  {
   "cell_type": "code",
   "execution_count": null,
   "metadata": {},
   "outputs": [],
   "source": [
    "# image_contents"
   ]
  },
  {
   "cell_type": "code",
   "execution_count": null,
   "metadata": {},
   "outputs": [],
   "source": [
    "# restaurant_detail_fields = {\n",
    "#     \"title\" : restaurant_title,\n",
    "#     \"images\" : image_contents,\n",
    "# }"
   ]
  },
  {
   "cell_type": "code",
   "execution_count": null,
   "metadata": {},
   "outputs": [],
   "source": [
    "# for i in tbody.select('tr'):\n",
    "\n",
    "#     restaurant_detail_fields[i.select_one('th').get_text(strip=True)]= i.select_one('td').get_text(strip=True)\n",
    "        \n",
    "    \n",
    "#     if not i.select_one('span.Restaurant__InfoAddress--Rectangle') == None:\n",
    "#         restaurant_detail_fields[i.select_one('span.Restaurant__InfoAddress--Rectangle').get_text(strip=True)] \\\n",
    "#         = i.select_one('span.Restaurant__InfoAddress--Text').get_text(strip=True)\n"
   ]
  },
  {
   "cell_type": "code",
   "execution_count": null,
   "metadata": {},
   "outputs": [],
   "source": [
    "# restaurant_detail_fields.keys()"
   ]
  },
  {
   "cell_type": "code",
   "execution_count": null,
   "metadata": {},
   "outputs": [],
   "source": []
  },
  {
   "cell_type": "code",
   "execution_count": null,
   "metadata": {},
   "outputs": [],
   "source": []
  },
  {
   "cell_type": "code",
   "execution_count": null,
   "metadata": {},
   "outputs": [],
   "source": []
  },
  {
   "cell_type": "code",
   "execution_count": null,
   "metadata": {},
   "outputs": [],
   "source": []
  }
 ],
 "metadata": {
  "kernelspec": {
   "display_name": "Django Shell-Plus",
   "language": "python",
   "name": "django_extensions"
  },
  "language_info": {
   "codemirror_mode": {
    "name": "ipython",
    "version": 3
   },
   "file_extension": ".py",
   "mimetype": "text/x-python",
   "name": "python",
   "nbconvert_exporter": "python",
   "pygments_lexer": "ipython3",
   "version": "3.7.5"
  }
 },
 "nbformat": 4,
 "nbformat_minor": 4
}
