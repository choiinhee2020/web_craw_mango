{
 "cells": [
  {
   "cell_type": "code",
   "execution_count": 210,
   "metadata": {
    "scrolled": true
   },
   "outputs": [],
   "source": [
    "\n",
    "# 카테고리는 하루에 한번 업데이트\n",
    "# 검색은 client 요청 할 때마다 웹크롤링 하는 것으로 하기\n",
    "# (혹은 몇개의 지역 검색어 정해서 update 하기)"
   ]
  },
  {
   "cell_type": "markdown",
   "metadata": {},
   "source": [
    "# selenium 실행 할때 처음 실행해야함"
   ]
  },
  {
   "cell_type": "markdown",
   "metadata": {},
   "source": [
    "# 첫 페이지 12개 카테고리 리스트 가져오기"
   ]
  },
  {
   "cell_type": "code",
   "execution_count": 336,
   "metadata": {
    "scrolled": true
   },
   "outputs": [],
   "source": [
    "import requests\n",
    "from bs4 import BeautifulSoup\n",
    "from selenium import webdriver\n",
    "import time\n",
    "from selenium.webdriver.common.by import By\n",
    "from selenium.webdriver.common.keys import Keys\n",
    "chrom_path= '/home/dopa/projects/personal/selenium-env/chromedriver'\n",
    "driver = webdriver.Chrome(chrom_path)\n",
    "rootPath = 'https://www.mangoplate.com/'\n",
    "driver.get(rootPath)\n",
    "html = driver.page_source\n",
    "r = open( '/home/dopa/projects/personal/selenium-env/app/식당/home_first_page.txt', mode='w', encoding='utf-8')\n",
    "r.write(html)\n",
    "r.close()\n",
    "\n",
    "driver.quit()"
   ]
  },
  {
   "cell_type": "code",
   "execution_count": 337,
   "metadata": {
    "scrolled": true
   },
   "outputs": [
    {
     "name": "stdout",
     "output_type": "stream",
     "text": [
      "home_list href  >>>   /top_lists/1620_yonsei_university\n",
      "home_list title >>>  \"연세대학교 학생들을 위한 연세대 맛집\"\n",
      "home_list distr >>>  연세대 맛집 베스트 35곳\n",
      "https://mp-seoul-image-production-s3.mangoplate.com/keyword_search/meta/pictures/nzgnzi1ejulgqhlj.png?fit=around|600:400&crop=600:400;*,*&output-format=jpg&output-quality=80\n",
      "\n",
      "\n",
      "home_list href  >>>   /top_lists/1184_waffle\n",
      "home_list title >>>  \"클래식한 와플부터 요즘 핫한 크로플까지!\"\n",
      "home_list distr >>>  와플 맛집 베스트 25곳\n",
      "https://mp-seoul-image-production-s3.mangoplate.com/keyword_search/meta/pictures/tnwcskecietrcprd.png?fit=around|600:400&crop=600:400;*,*&output-format=jpg&output-quality=80\n",
      "\n",
      "\n",
      "home_list href  >>>   /top_lists/1511_mangwondongcafe\n",
      "home_list title >>>  \"카페 투어는 당근 망원동이지!\"\n",
      "home_list distr >>>  망원동 카페 베스트 20곳\n",
      "https://mp-seoul-image-production-s3.mangoplate.com/keyword_search/meta/pictures/ljcz4_bv036hbs6r.jpg?fit=around|600:400&crop=600:400;*,*&output-format=jpg&output-quality=80\n",
      "\n",
      "\n",
      "home_list href  >>>   /top_lists/1627_seoulnational_university\n",
      "home_list title >>>  \"서울대학교 학생들을 위한 서울대 맛집 \"\n",
      "home_list distr >>>  서울대 맛집 베스트 30곳\n",
      "https://mp-seoul-image-production-s3.mangoplate.com/keyword_search/meta/pictures/9a-hj64xuoxv1l-h.jpg?fit=around|600:400&crop=600:400;*,*&output-format=jpg&output-quality=80\n",
      "\n",
      "\n",
      "home_list href  >>>   /top_lists/628_gangneung\n",
      "home_list title >>>  \"강릉에서 유명한 건 다 여기 있네!\"\n",
      "home_list distr >>>  강릉 맛집 베스트 30곳\n",
      "https://mp-seoul-image-production-s3.mangoplate.com/keyword_search/meta/pictures/1slnbdruyyi_hzlw.png?fit=around|600:400&crop=600:400;*,*&output-format=jpg&output-quality=80\n",
      "\n",
      "\n",
      "home_list href  >>>   /top_lists/1618_sungkyunkwan_university\n",
      "home_list title >>>  \"성균관대학교 학생들을 위한 성균관대 맛집\"\n",
      "home_list distr >>>  성균관대 맛집 베스트 30곳\n",
      "https://mp-seoul-image-production-s3.mangoplate.com/keyword_search/meta/pictures/7stg_bggqoromghj.png?fit=around|600:400&crop=600:400;*,*&output-format=jpg&output-quality=80\n",
      "\n",
      "\n",
      "home_list href  >>>   /top_lists/595_pizza\n",
      "home_list title >>>  \"피자로는 어디 가서 지지 않는다!\"\n",
      "home_list distr >>>  피자 맛집 베스트 30곳\n",
      "https://mp-seoul-image-production-s3.mangoplate.com/keyword_search/meta/pictures/zsb-wdil8w4nbz_y.png?fit=around|600:400&crop=600:400;*,*&output-format=jpg&output-quality=80\n",
      "\n",
      "\n",
      "home_list href  >>>   /top_lists/678_itaewon_brunch\n",
      "home_list title >>>  \"주말에는 무조건 브런치!\"\n",
      "home_list distr >>>  이태원 브런치 맛집 베스트 15곳\n",
      "https://mp-seoul-image-production-s3.mangoplate.com/keyword_search/meta/pictures/h5ggbm-psexmk-6u.png?fit=around|600:400&crop=600:400;*,*&output-format=jpg&output-quality=80\n",
      "\n",
      "\n",
      "home_list href  >>>   /top_lists/1607_busan_university\n",
      "home_list title >>>  \"부산대학교 학생들을 위한 부산대 맛집\"\n",
      "home_list distr >>>  부산대 맛집 베스트 10곳\n",
      "https://mp-seoul-image-production-s3.mangoplate.com/keyword_search/meta/pictures/pz5bauedtf7v6hkq.png?fit=around|600:400&crop=600:400;*,*&output-format=jpg&output-quality=80\n",
      "\n",
      "\n",
      "home_list href  >>>   /top_lists/1079_yangpyeong\n",
      "home_list title >>>  \"양평 가는 길엔 이것만 보세요!\"\n",
      "home_list distr >>>  경기도 양평 맛집 베스트 20곳\n",
      "https://mp-seoul-image-production-s3.mangoplate.com/keyword_search/meta/pictures/zb-abcyces2sidpz.png?fit=around|600:400&crop=600:400;*,*&output-format=jpg&output-quality=80\n",
      "\n",
      "\n",
      "home_list href  >>>   /top_lists/805_hoedeopbap\n",
      "home_list title >>>  \"신선한 해산물이 듬뿍!\"\n",
      "home_list distr >>>  해산물 덮밥 맛집 베스트 35곳\n",
      "https://mp-seoul-image-production-s3.mangoplate.com/keyword_search/meta/pictures/4uzkvjtryqtrqn4e.jpg?fit=around|600:400&crop=600:400;*,*&output-format=jpg&output-quality=80\n",
      "\n",
      "\n",
      "home_list href  >>>   /top_lists/1626_kyunghee_university\n",
      "home_list title >>>  \"경희대학교 학생들을 위한 경희대 맛집\"\n",
      "home_list distr >>>  경희대 맛집 베스트 30곳\n",
      "https://mp-seoul-image-production-s3.mangoplate.com/keyword_search/meta/pictures/9wcjrtiggkrwiscj.jpg?fit=around|600:400&crop=600:400;*,*&output-format=jpg&output-quality=80\n",
      "\n",
      "\n"
     ]
    }
   ],
   "source": [
    "html = open('./식당/home_first_page.txt', \"r\").read()\n",
    "song_soup = BeautifulSoup(html)\n",
    "soup = BeautifulSoup(html, 'html.parser')\n",
    "home_div_top_list_slide= soup.select('body > main > article > section:nth-child(3) > div.slider-container.toplist-slider > div > div > div')\n",
    "home_trust_list = soup.select_one('div.slick-track')\n",
    "one_ul_two_a=home_trust_list.select('ul')\n",
    "for text in one_ul_two_a:\n",
    "    select_list = text.select('a')\n",
    "    select_img  = text.select('img')\n",
    "    for data, img in zip(select_list, select_img) :\n",
    "        print(\"home_list href  >>>  \", data['href'])\n",
    "        print(\"home_list title >>> \", data.select('p')[0].get_text(strip=True))\n",
    "        print(\"home_list distr >>> \", data.select('span.title')[0].get_text(strip=True))\n",
    "        print(img['src'])\n",
    "        print('\\n')"
   ]
  },
  {
   "cell_type": "markdown",
   "metadata": {},
   "source": []
  },
  {
   "cell_type": "code",
   "execution_count": 335,
   "metadata": {},
   "outputs": [
    {
     "data": {
      "text/plain": [
       "[<ul aria-describedby=\"slick-slide00\" aria-hidden=\"false\" class=\"list-toplist-slider slick-slide slick-current slick-active\" data-slick-index=\"0\" role=\"option\" style=\"width: 481px;\" tabindex=\"-1\">\n",
       " <li>\n",
       " <img alt=\"연세대 맛집 베스트 35곳 사진\" class=\"center-croping\" src=\"https://mp-seoul-image-production-s3.mangoplate.com/keyword_search/meta/pictures/nzgnzi1ejulgqhlj.png?fit=around|600:400&amp;crop=600:400;*,*&amp;output-format=jpg&amp;output-quality=80\"/>\n",
       " <a href=\"/top_lists/1620_yonsei_university\" onclick=\"trackEvent('CLICK_TOPLIST', {&quot;section_position&quot;:0,&quot;section_title&quot;:&quot;믿고 보는 맛집 리스트&quot;,&quot;position&quot;:0,&quot;link_key&quot;:&quot;UW2BQ4F&quot;});\" tabindex=\"0\">\n",
       " <figure class=\"ls-item\">\n",
       " <figcaption class=\"info\">\n",
       " <div class=\"info_inner_wrap\">\n",
       " <span class=\"title\" data-ellipsis-id=\"1\">연세대 맛집 베스트 35곳</span>\n",
       " <p class=\"desc\" data-ellipsis-id=\"31\">\"연세대학교 학생들을 위한 연세대 맛집\"</p>\n",
       " <p class=\"hash\">\n",
       " <span>#연세대학교 </span>\n",
       " <span>#연세대 </span>\n",
       " <span>#연대 </span>\n",
       " <span>#신촌 </span>\n",
       " <span>#연세대 정문 </span>\n",
       " <span>#현대백화점 신촌점 </span>\n",
       " <span>#신촌역 </span>\n",
       " <span>#현대신촌 </span>\n",
       " <span>#현대 신촌 </span>\n",
       " <span>#연세 대학교 </span>\n",
       " </p>\n",
       " </div>\n",
       " </figcaption>\n",
       " </figure>\n",
       " </a>\n",
       " </li>\n",
       " <li>\n",
       " <img alt=\"와플 맛집 베스트 25곳 사진\" class=\"center-croping\" src=\"https://mp-seoul-image-production-s3.mangoplate.com/keyword_search/meta/pictures/tnwcskecietrcprd.png?fit=around|600:400&amp;crop=600:400;*,*&amp;output-format=jpg&amp;output-quality=80\"/>\n",
       " <a href=\"/top_lists/1184_waffle\" onclick=\"trackEvent('CLICK_TOPLIST', {&quot;section_position&quot;:0,&quot;section_title&quot;:&quot;믿고 보는 맛집 리스트&quot;,&quot;position&quot;:1,&quot;link_key&quot;:&quot;OYMVP6S&quot;});\" tabindex=\"0\">\n",
       " <figure class=\"ls-item\">\n",
       " <figcaption class=\"info\">\n",
       " <div class=\"info_inner_wrap\">\n",
       " <span class=\"title\" data-ellipsis-id=\"2\">와플 맛집 베스트 25곳</span>\n",
       " <p class=\"desc\" data-ellipsis-id=\"32\">\"클래식한 와플부터 요즘 핫한 크로플까지!\"</p>\n",
       " <p class=\"hash\">\n",
       " <span>#와플 </span>\n",
       " <span>#아이스크림와플 </span>\n",
       " <span>#크림치즈와플 </span>\n",
       " <span>#과일와플 </span>\n",
       " <span>#벨기에와플 </span>\n",
       " <span>#생크림와플 </span>\n",
       " <span>#딸기와플 </span>\n",
       " <span>#망고와플 </span>\n",
       " </p>\n",
       " </div>\n",
       " </figcaption>\n",
       " </figure>\n",
       " </a>\n",
       " </li>\n",
       " </ul>,\n",
       " <ul aria-describedby=\"slick-slide01\" aria-hidden=\"false\" class=\"list-toplist-slider slick-slide slick-active\" data-slick-index=\"1\" role=\"option\" style=\"width: 481px;\" tabindex=\"-1\">\n",
       " <li>\n",
       " <img alt=\"망원동 카페 베스트 20곳 사진\" class=\"center-croping\" src=\"https://mp-seoul-image-production-s3.mangoplate.com/keyword_search/meta/pictures/ljcz4_bv036hbs6r.jpg?fit=around|600:400&amp;crop=600:400;*,*&amp;output-format=jpg&amp;output-quality=80\"/>\n",
       " <a href=\"/top_lists/1511_mangwondongcafe\" onclick=\"trackEvent('CLICK_TOPLIST', {&quot;section_position&quot;:0,&quot;section_title&quot;:&quot;믿고 보는 맛집 리스트&quot;,&quot;position&quot;:2,&quot;link_key&quot;:&quot;SCEPYIG&quot;});\" tabindex=\"0\">\n",
       " <figure class=\"ls-item\">\n",
       " <figcaption class=\"info\">\n",
       " <div class=\"info_inner_wrap\">\n",
       " <span class=\"title\" data-ellipsis-id=\"3\">망원동 카페 베스트 20곳</span>\n",
       " <p class=\"desc\" data-ellipsis-id=\"33\">\"카페 투어는 당근 망원동이지!\"</p>\n",
       " <p class=\"hash\">\n",
       " <span>#망원동 </span>\n",
       " <span>#카페 </span>\n",
       " <span>#망원 </span>\n",
       " <span>#망원역 </span>\n",
       " <span>#망원동카페 </span>\n",
       " <span>#망리단길 </span>\n",
       " <span>#망원동 카페 </span>\n",
       " <span>#망원동디저트 </span>\n",
       " <span>#디저트 </span>\n",
       " </p>\n",
       " </div>\n",
       " </figcaption>\n",
       " </figure>\n",
       " </a>\n",
       " </li>\n",
       " <li>\n",
       " <img alt=\"서울대 맛집 베스트 30곳 사진\" class=\"center-croping\" src=\"https://mp-seoul-image-production-s3.mangoplate.com/keyword_search/meta/pictures/9a-hj64xuoxv1l-h.jpg?fit=around|600:400&amp;crop=600:400;*,*&amp;output-format=jpg&amp;output-quality=80\"/>\n",
       " <a href=\"/top_lists/1627_seoulnational_university\" onclick=\"trackEvent('CLICK_TOPLIST', {&quot;section_position&quot;:0,&quot;section_title&quot;:&quot;믿고 보는 맛집 리스트&quot;,&quot;position&quot;:3,&quot;link_key&quot;:&quot;LLX5IS2&quot;});\" tabindex=\"0\">\n",
       " <figure class=\"ls-item\">\n",
       " <figcaption class=\"info\">\n",
       " <div class=\"info_inner_wrap\">\n",
       " <span class=\"title\" data-ellipsis-id=\"4\">서울대 맛집 베스트 30곳</span>\n",
       " <p class=\"desc\" data-ellipsis-id=\"34\">\"서울대학교 학생들을 위한 서울대 맛집 \"</p>\n",
       " <p class=\"hash\">\n",
       " <span>#서울대학교 </span>\n",
       " <span>#서울대 </span>\n",
       " <span>#서울대입구역 </span>\n",
       " <span>#서울대입구 </span>\n",
       " <span>#낙성대 </span>\n",
       " <span>#샤로수길 </span>\n",
       " <span>#설대입구 </span>\n",
       " <span>#샤로수 </span>\n",
       " <span>#서울 대학교 </span>\n",
       " <span>#봉천동 </span>\n",
       " <span>#신림동 </span>\n",
       " <span>#관악 </span>\n",
       " </p>\n",
       " </div>\n",
       " </figcaption>\n",
       " </figure>\n",
       " </a>\n",
       " </li>\n",
       " </ul>,\n",
       " <ul aria-describedby=\"slick-slide02\" aria-hidden=\"true\" class=\"list-toplist-slider slick-slide\" data-slick-index=\"2\" role=\"option\" style=\"width: 481px;\" tabindex=\"-1\">\n",
       " <li>\n",
       " <img alt=\"강릉 맛집 베스트 30곳 사진\" class=\"center-croping\" src=\"https://mp-seoul-image-production-s3.mangoplate.com/keyword_search/meta/pictures/1slnbdruyyi_hzlw.png?fit=around|600:400&amp;crop=600:400;*,*&amp;output-format=jpg&amp;output-quality=80\"/>\n",
       " <a href=\"/top_lists/628_gangneung\" onclick=\"trackEvent('CLICK_TOPLIST', {&quot;section_position&quot;:0,&quot;section_title&quot;:&quot;믿고 보는 맛집 리스트&quot;,&quot;position&quot;:4,&quot;link_key&quot;:&quot;HLZSC9N&quot;});\" tabindex=\"-1\">\n",
       " <figure class=\"ls-item\">\n",
       " <figcaption class=\"info\">\n",
       " <div class=\"info_inner_wrap\">\n",
       " <span class=\"title\" data-ellipsis-id=\"5\">강릉 맛집 베스트 30곳</span>\n",
       " <p class=\"desc\" data-ellipsis-id=\"35\">\"강릉에서 유명한 건 다 여기 있네!\"</p>\n",
       " <p class=\"hash\">\n",
       " <span>#강릉시 </span>\n",
       " <span>#강원도 </span>\n",
       " <span>#정동진 </span>\n",
       " <span>#주문진 </span>\n",
       " <span>#주문진항 </span>\n",
       " <span>#경포해변 </span>\n",
       " <span>#경포대 </span>\n",
       " <span>#강릉 </span>\n",
       " <span>#안목해변 </span>\n",
       " </p>\n",
       " </div>\n",
       " </figcaption>\n",
       " </figure>\n",
       " </a>\n",
       " </li>\n",
       " <li>\n",
       " <img alt=\"성균관대 맛집 베스트 30곳 사진\" class=\"center-croping\" src=\"https://mp-seoul-image-production-s3.mangoplate.com/keyword_search/meta/pictures/7stg_bggqoromghj.png?fit=around|600:400&amp;crop=600:400;*,*&amp;output-format=jpg&amp;output-quality=80\"/>\n",
       " <a href=\"/top_lists/1618_sungkyunkwan_university\" onclick=\"trackEvent('CLICK_TOPLIST', {&quot;section_position&quot;:0,&quot;section_title&quot;:&quot;믿고 보는 맛집 리스트&quot;,&quot;position&quot;:5,&quot;link_key&quot;:&quot;CEMXR5H&quot;});\" tabindex=\"-1\">\n",
       " <figure class=\"ls-item\">\n",
       " <figcaption class=\"info\">\n",
       " <div class=\"info_inner_wrap\">\n",
       " <span class=\"title\" data-ellipsis-id=\"6\">성균관대 맛집 베스트 30곳</span>\n",
       " <p class=\"desc\" data-ellipsis-id=\"36\">\"성균관대학교 학생들을 위한 성균관대 맛집\"</p>\n",
       " <p class=\"hash\">\n",
       " <span>#성대 </span>\n",
       " <span>#성균관대 </span>\n",
       " <span>#성균관대학교 </span>\n",
       " <span>#혜화 </span>\n",
       " <span>#혜화역 </span>\n",
       " <span>#창덕궁 </span>\n",
       " <span>#가톨릭대 </span>\n",
       " <span>#카톨릭대학교 </span>\n",
       " <span>#대학로 </span>\n",
       " </p>\n",
       " </div>\n",
       " </figcaption>\n",
       " </figure>\n",
       " </a>\n",
       " </li>\n",
       " </ul>,\n",
       " <ul aria-describedby=\"slick-slide03\" aria-hidden=\"true\" class=\"list-toplist-slider slick-slide\" data-slick-index=\"3\" role=\"option\" style=\"width: 481px;\" tabindex=\"-1\">\n",
       " <li>\n",
       " <img alt=\"피자 맛집 베스트 30곳 사진\" class=\"center-croping\" src=\"https://mp-seoul-image-production-s3.mangoplate.com/keyword_search/meta/pictures/zsb-wdil8w4nbz_y.png?fit=around|600:400&amp;crop=600:400;*,*&amp;output-format=jpg&amp;output-quality=80\"/>\n",
       " <a href=\"/top_lists/595_pizza\" onclick=\"trackEvent('CLICK_TOPLIST', {&quot;section_position&quot;:0,&quot;section_title&quot;:&quot;믿고 보는 맛집 리스트&quot;,&quot;position&quot;:6,&quot;link_key&quot;:&quot;WTPRWV3&quot;});\" tabindex=\"-1\">\n",
       " <figure class=\"ls-item\">\n",
       " <figcaption class=\"info\">\n",
       " <div class=\"info_inner_wrap\">\n",
       " <span class=\"title\" data-ellipsis-id=\"7\">피자 맛집 베스트 30곳</span>\n",
       " <p class=\"desc\" data-ellipsis-id=\"37\">\"피자로는 어디 가서 지지 않는다!\"</p>\n",
       " <p class=\"hash\">\n",
       " <span>#피자 </span>\n",
       " <span>#핏짜 </span>\n",
       " <span>#핏자 </span>\n",
       " <span>#피맥 </span>\n",
       " <span>#화덕피자 </span>\n",
       " <span>#미국피자 </span>\n",
       " <span>#미국 피자 </span>\n",
       " <span>#화덕 </span>\n",
       " <span>#화덕 피자 </span>\n",
       " </p>\n",
       " </div>\n",
       " </figcaption>\n",
       " </figure>\n",
       " </a>\n",
       " </li>\n",
       " <li>\n",
       " <img alt=\"이태원 브런치 맛집 베스트 15곳 사진\" class=\"center-croping\" src=\"https://mp-seoul-image-production-s3.mangoplate.com/keyword_search/meta/pictures/h5ggbm-psexmk-6u.png?fit=around|600:400&amp;crop=600:400;*,*&amp;output-format=jpg&amp;output-quality=80\"/>\n",
       " <a href=\"/top_lists/678_itaewon_brunch\" onclick=\"trackEvent('CLICK_TOPLIST', {&quot;section_position&quot;:0,&quot;section_title&quot;:&quot;믿고 보는 맛집 리스트&quot;,&quot;position&quot;:7,&quot;link_key&quot;:&quot;KH0Q5U4&quot;});\" tabindex=\"-1\">\n",
       " <figure class=\"ls-item\">\n",
       " <figcaption class=\"info\">\n",
       " <div class=\"info_inner_wrap\">\n",
       " <span class=\"title\" data-ellipsis-id=\"8\">이태원 브런치 맛집 베스트 15곳</span>\n",
       " <p class=\"desc\" data-ellipsis-id=\"38\">\"주말에는 무조건 브런치!\"</p>\n",
       " <p class=\"hash\">\n",
       " <span>#이태원 </span>\n",
       " <span>#브런치 </span>\n",
       " <span>#이태원브런치 </span>\n",
       " <span>#이태원 브런치 </span>\n",
       " <span>#경리단 </span>\n",
       " <span>#경리단길 </span>\n",
       " <span>#경리단길 브런치 </span>\n",
       " <span>#경리단길브런치 </span>\n",
       " <span>#팬케익 </span>\n",
       " <span>#오믈렛 </span>\n",
       " <span>#와플 </span>\n",
       " <span>#카페 </span>\n",
       " </p>\n",
       " </div>\n",
       " </figcaption>\n",
       " </figure>\n",
       " </a>\n",
       " </li>\n",
       " </ul>,\n",
       " <ul aria-describedby=\"slick-slide04\" aria-hidden=\"true\" class=\"list-toplist-slider slick-slide\" data-slick-index=\"4\" role=\"option\" style=\"width: 481px;\" tabindex=\"-1\">\n",
       " <li>\n",
       " <img alt=\"부산대 맛집 베스트 10곳 사진\" class=\"center-croping\" src=\"https://mp-seoul-image-production-s3.mangoplate.com/keyword_search/meta/pictures/pz5bauedtf7v6hkq.png?fit=around|600:400&amp;crop=600:400;*,*&amp;output-format=jpg&amp;output-quality=80\"/>\n",
       " <a href=\"/top_lists/1607_busan_university\" onclick=\"trackEvent('CLICK_TOPLIST', {&quot;section_position&quot;:0,&quot;section_title&quot;:&quot;믿고 보는 맛집 리스트&quot;,&quot;position&quot;:8,&quot;link_key&quot;:&quot;BXTFO-C&quot;});\" tabindex=\"-1\">\n",
       " <figure class=\"ls-item\">\n",
       " <figcaption class=\"info\">\n",
       " <div class=\"info_inner_wrap\">\n",
       " <span class=\"title\" data-ellipsis-id=\"9\">부산대 맛집 베스트 10곳</span>\n",
       " <p class=\"desc\" data-ellipsis-id=\"39\">\"부산대학교 학생들을 위한 부산대 맛집\"</p>\n",
       " <p class=\"hash\">\n",
       " <span>#부산대 </span>\n",
       " <span>#부산대역 </span>\n",
       " <span>#금정구 </span>\n",
       " <span>#장전동 </span>\n",
       " <span>#부산 </span>\n",
       " <span>#부산대 젊음의거리 </span>\n",
       " <span>#부대앞 </span>\n",
       " <span>#부산대학교 </span>\n",
       " <span>#부산대젊음의거리 </span>\n",
       " <span>#부대 </span>\n",
       " </p>\n",
       " </div>\n",
       " </figcaption>\n",
       " </figure>\n",
       " </a>\n",
       " </li>\n",
       " <li>\n",
       " <img alt=\"경기도 양평 맛집 베스트 20곳 사진\" class=\"center-croping\" src=\"https://mp-seoul-image-production-s3.mangoplate.com/keyword_search/meta/pictures/zb-abcyces2sidpz.png?fit=around|600:400&amp;crop=600:400;*,*&amp;output-format=jpg&amp;output-quality=80\"/>\n",
       " <a href=\"/top_lists/1079_yangpyeong\" onclick=\"trackEvent('CLICK_TOPLIST', {&quot;section_position&quot;:0,&quot;section_title&quot;:&quot;믿고 보는 맛집 리스트&quot;,&quot;position&quot;:9,&quot;link_key&quot;:&quot;WUN1B70&quot;});\" tabindex=\"-1\">\n",
       " <figure class=\"ls-item\">\n",
       " <figcaption class=\"info\">\n",
       " <div class=\"info_inner_wrap\">\n",
       " <span class=\"title\" data-ellipsis-id=\"10\">경기도 양평 맛집 베스트 20곳</span>\n",
       " <p class=\"desc\" data-ellipsis-id=\"40\">\"양평 가는 길엔 이것만 보세요!\"</p>\n",
       " <p class=\"hash\">\n",
       " <span>#경기도 양평 </span>\n",
       " <span>#경기도양평 </span>\n",
       " <span>#양평 </span>\n",
       " <span>#현대블룸비스타 </span>\n",
       " <span>#경기 양평 </span>\n",
       " <span>#양평군 </span>\n",
       " <span>#드라이브 </span>\n",
       " <span>#서울 근교 </span>\n",
       " <span>#용문면 </span>\n",
       " <span>#용문 </span>\n",
       " <span>#옥천면 </span>\n",
       " <span>#옥천 </span>\n",
       " <span>#양서면 </span>\n",
       " <span>#양평읍 </span>\n",
       " <span>#서종면 </span>\n",
       " <span>#강하면 </span>\n",
       " <span>#개군면 </span>\n",
       " <span>#양서 </span>\n",
       " <span>#서종 </span>\n",
       " <span>#강하 </span>\n",
       " <span>#개군 </span>\n",
       " </p>\n",
       " </div>\n",
       " </figcaption>\n",
       " </figure>\n",
       " </a>\n",
       " </li>\n",
       " </ul>,\n",
       " <ul aria-describedby=\"slick-slide05\" aria-hidden=\"true\" class=\"list-toplist-slider slick-slide\" data-slick-index=\"5\" role=\"option\" style=\"width: 481px;\" tabindex=\"-1\">\n",
       " <li>\n",
       " <img alt=\"해산물 덮밥 맛집 베스트 35곳 사진\" class=\"center-croping\" src=\"https://mp-seoul-image-production-s3.mangoplate.com/keyword_search/meta/pictures/4uzkvjtryqtrqn4e.jpg?fit=around|600:400&amp;crop=600:400;*,*&amp;output-format=jpg&amp;output-quality=80\"/>\n",
       " <a href=\"/top_lists/805_hoedeopbap\" onclick=\"trackEvent('CLICK_TOPLIST', {&quot;section_position&quot;:0,&quot;section_title&quot;:&quot;믿고 보는 맛집 리스트&quot;,&quot;position&quot;:10,&quot;link_key&quot;:&quot;LERVVFC&quot;});\" tabindex=\"-1\">\n",
       " <figure class=\"ls-item\">\n",
       " <figcaption class=\"info\">\n",
       " <div class=\"info_inner_wrap\">\n",
       " <span class=\"title\" data-ellipsis-id=\"11\">해산물 덮밥 맛집 베스트 35곳</span>\n",
       " <p class=\"desc\" data-ellipsis-id=\"41\">\"신선한 해산물이 듬뿍!\"</p>\n",
       " <p class=\"hash\">\n",
       " <span>#회덮밥 </span>\n",
       " <span>#회 덮밥 </span>\n",
       " <span>#해산물 </span>\n",
       " <span>#회 </span>\n",
       " <span>#생선회 </span>\n",
       " </p>\n",
       " </div>\n",
       " </figcaption>\n",
       " </figure>\n",
       " </a>\n",
       " </li>\n",
       " <li>\n",
       " <img alt=\"경희대 맛집 베스트 30곳 사진\" class=\"center-croping\" src=\"https://mp-seoul-image-production-s3.mangoplate.com/keyword_search/meta/pictures/9wcjrtiggkrwiscj.jpg?fit=around|600:400&amp;crop=600:400;*,*&amp;output-format=jpg&amp;output-quality=80\"/>\n",
       " <a href=\"/top_lists/1626_kyunghee_university\" onclick=\"trackEvent('CLICK_TOPLIST', {&quot;section_position&quot;:0,&quot;section_title&quot;:&quot;믿고 보는 맛집 리스트&quot;,&quot;position&quot;:11,&quot;link_key&quot;:&quot;BWHFKIT&quot;});\" tabindex=\"-1\">\n",
       " <figure class=\"ls-item\">\n",
       " <figcaption class=\"info\">\n",
       " <div class=\"info_inner_wrap\">\n",
       " <span class=\"title\" data-ellipsis-id=\"12\">경희대 맛집 베스트 30곳</span>\n",
       " <p class=\"desc\" data-ellipsis-id=\"42\">\"경희대학교 학생들을 위한 경희대 맛집\"</p>\n",
       " <p class=\"hash\">\n",
       " <span>#경희대 </span>\n",
       " <span>#회기역 </span>\n",
       " <span>#이문동 </span>\n",
       " <span>#회기동 </span>\n",
       " <span>#한국외국어대학교 </span>\n",
       " <span>#외대앞역 </span>\n",
       " <span>#회기 </span>\n",
       " <span>#외대 </span>\n",
       " <span>#한국외대 </span>\n",
       " </p>\n",
       " </div>\n",
       " </figcaption>\n",
       " </figure>\n",
       " </a>\n",
       " </li>\n",
       " </ul>]"
      ]
     },
     "execution_count": 335,
     "metadata": {},
     "output_type": "execute_result"
    }
   ],
   "source": [
    "home_div_top_list_slide= soup.select('body > main > article > section:nth-child(3) > div.slider-container.toplist-slider > div > div > div')\n",
    "home_trust_list = soup.select_one('div.slick-track')\n",
    "one_ul_two_a=home_trust_list.select('ul')\n"
   ]
  },
  {
   "cell_type": "code",
   "execution_count": 339,
   "metadata": {
    "scrolled": true
   },
   "outputs": [
    {
     "name": "stdout",
     "output_type": "stream",
     "text": [
      "home_list href  >>>   /top_lists/1620_yonsei_university\n",
      "home_list title >>>  연세대 맛집 베스트 35곳\n",
      "home_list sub_title >>>  \"연세대학교 학생들을 위한 연세대 맛집\"\n",
      "https://mp-seoul-image-production-s3.mangoplate.com/keyword_search/meta/pictures/nzgnzi1ejulgqhlj.png?fit=around|600:400&crop=600:400;*,*&output-format=jpg&output-quality=80\n",
      "\n",
      "\n",
      "home_list href  >>>   /top_lists/1184_waffle\n",
      "home_list title >>>  와플 맛집 베스트 25곳\n",
      "home_list sub_title >>>  \"클래식한 와플부터 요즘 핫한 크로플까지!\"\n",
      "https://mp-seoul-image-production-s3.mangoplate.com/keyword_search/meta/pictures/tnwcskecietrcprd.png?fit=around|600:400&crop=600:400;*,*&output-format=jpg&output-quality=80\n",
      "\n",
      "\n",
      "home_list href  >>>   /top_lists/1511_mangwondongcafe\n",
      "home_list title >>>  망원동 카페 베스트 20곳\n",
      "home_list sub_title >>>  \"카페 투어는 당근 망원동이지!\"\n",
      "https://mp-seoul-image-production-s3.mangoplate.com/keyword_search/meta/pictures/ljcz4_bv036hbs6r.jpg?fit=around|600:400&crop=600:400;*,*&output-format=jpg&output-quality=80\n",
      "\n",
      "\n",
      "home_list href  >>>   /top_lists/1627_seoulnational_university\n",
      "home_list title >>>  서울대 맛집 베스트 30곳\n",
      "home_list sub_title >>>  \"서울대학교 학생들을 위한 서울대 맛집 \"\n",
      "https://mp-seoul-image-production-s3.mangoplate.com/keyword_search/meta/pictures/9a-hj64xuoxv1l-h.jpg?fit=around|600:400&crop=600:400;*,*&output-format=jpg&output-quality=80\n",
      "\n",
      "\n",
      "home_list href  >>>   /top_lists/628_gangneung\n",
      "home_list title >>>  강릉 맛집 베스트 30곳\n",
      "home_list sub_title >>>  \"강릉에서 유명한 건 다 여기 있네!\"\n",
      "https://mp-seoul-image-production-s3.mangoplate.com/keyword_search/meta/pictures/1slnbdruyyi_hzlw.png?fit=around|600:400&crop=600:400;*,*&output-format=jpg&output-quality=80\n",
      "\n",
      "\n",
      "home_list href  >>>   /top_lists/1618_sungkyunkwan_university\n",
      "home_list title >>>  성균관대 맛집 베스트 30곳\n",
      "home_list sub_title >>>  \"성균관대학교 학생들을 위한 성균관대 맛집\"\n",
      "https://mp-seoul-image-production-s3.mangoplate.com/keyword_search/meta/pictures/7stg_bggqoromghj.png?fit=around|600:400&crop=600:400;*,*&output-format=jpg&output-quality=80\n",
      "\n",
      "\n",
      "home_list href  >>>   /top_lists/595_pizza\n",
      "home_list title >>>  피자 맛집 베스트 30곳\n",
      "home_list sub_title >>>  \"피자로는 어디 가서 지지 않는다!\"\n",
      "https://mp-seoul-image-production-s3.mangoplate.com/keyword_search/meta/pictures/zsb-wdil8w4nbz_y.png?fit=around|600:400&crop=600:400;*,*&output-format=jpg&output-quality=80\n",
      "\n",
      "\n",
      "home_list href  >>>   /top_lists/678_itaewon_brunch\n",
      "home_list title >>>  이태원 브런치 맛집 베스트 15곳\n",
      "home_list sub_title >>>  \"주말에는 무조건 브런치!\"\n",
      "https://mp-seoul-image-production-s3.mangoplate.com/keyword_search/meta/pictures/h5ggbm-psexmk-6u.png?fit=around|600:400&crop=600:400;*,*&output-format=jpg&output-quality=80\n",
      "\n",
      "\n",
      "home_list href  >>>   /top_lists/1607_busan_university\n",
      "home_list title >>>  부산대 맛집 베스트 10곳\n",
      "home_list sub_title >>>  \"부산대학교 학생들을 위한 부산대 맛집\"\n",
      "https://mp-seoul-image-production-s3.mangoplate.com/keyword_search/meta/pictures/pz5bauedtf7v6hkq.png?fit=around|600:400&crop=600:400;*,*&output-format=jpg&output-quality=80\n",
      "\n",
      "\n",
      "home_list href  >>>   /top_lists/1079_yangpyeong\n",
      "home_list title >>>  경기도 양평 맛집 베스트 20곳\n",
      "home_list sub_title >>>  \"양평 가는 길엔 이것만 보세요!\"\n",
      "https://mp-seoul-image-production-s3.mangoplate.com/keyword_search/meta/pictures/zb-abcyces2sidpz.png?fit=around|600:400&crop=600:400;*,*&output-format=jpg&output-quality=80\n",
      "\n",
      "\n",
      "home_list href  >>>   /top_lists/805_hoedeopbap\n",
      "home_list title >>>  해산물 덮밥 맛집 베스트 35곳\n",
      "home_list sub_title >>>  \"신선한 해산물이 듬뿍!\"\n",
      "https://mp-seoul-image-production-s3.mangoplate.com/keyword_search/meta/pictures/4uzkvjtryqtrqn4e.jpg?fit=around|600:400&crop=600:400;*,*&output-format=jpg&output-quality=80\n",
      "\n",
      "\n",
      "home_list href  >>>   /top_lists/1626_kyunghee_university\n",
      "home_list title >>>  경희대 맛집 베스트 30곳\n",
      "home_list sub_title >>>  \"경희대학교 학생들을 위한 경희대 맛집\"\n",
      "https://mp-seoul-image-production-s3.mangoplate.com/keyword_search/meta/pictures/9wcjrtiggkrwiscj.jpg?fit=around|600:400&crop=600:400;*,*&output-format=jpg&output-quality=80\n",
      "\n",
      "\n"
     ]
    }
   ],
   "source": [
    "category_data = {\n",
    "    \n",
    "}\n",
    "for text in one_ul_two_a:\n",
    "    select_list = text.select('a')\n",
    "    select_img  = text.select('img')\n",
    "    for data, img in zip(select_list, select_img) :\n",
    "        category_data[data.select('span.title')[0].get_text(strip=True)] ={\n",
    "            \"href\" : data['href'],\n",
    "            \"title\" : data.select('span.title')[0].get_text(strip=True),\n",
    "            \"sub_title\" :data.select('p')[0].get_text(strip=True),\n",
    "            \"img_uri\" : img['src'],\n",
    "        }\n",
    "        \n",
    "        print(\"home_list href  >>>  \", data['href'])\n",
    "        print(\"home_list title >>> \", data.select('span.title')[0].get_text(strip=True))\n",
    "\n",
    "        print(\"home_list sub_title >>> \", data.select('p')[0].get_text(strip=True))\n",
    "        print(img['src'])\n",
    "        print('\\n')\n"
   ]
  },
  {
   "cell_type": "code",
   "execution_count": null,
   "metadata": {},
   "outputs": [],
   "source": []
  },
  {
   "cell_type": "markdown",
   "metadata": {},
   "source": [
    "# case1) 카테고리 클릭"
   ]
  },
  {
   "cell_type": "code",
   "execution_count": 340,
   "metadata": {
    "scrolled": true
   },
   "outputs": [
    {
     "data": {
      "text/plain": [
       "{'연세대 맛집 베스트 35곳': {'href': '/top_lists/1620_yonsei_university',\n",
       "  'title': '연세대 맛집 베스트 35곳',\n",
       "  'sub_title': '\"연세대학교 학생들을 위한 연세대 맛집\"',\n",
       "  'img_uri': 'https://mp-seoul-image-production-s3.mangoplate.com/keyword_search/meta/pictures/nzgnzi1ejulgqhlj.png?fit=around|600:400&crop=600:400;*,*&output-format=jpg&output-quality=80'},\n",
       " '와플 맛집 베스트 25곳': {'href': '/top_lists/1184_waffle',\n",
       "  'title': '와플 맛집 베스트 25곳',\n",
       "  'sub_title': '\"클래식한 와플부터 요즘 핫한 크로플까지!\"',\n",
       "  'img_uri': 'https://mp-seoul-image-production-s3.mangoplate.com/keyword_search/meta/pictures/tnwcskecietrcprd.png?fit=around|600:400&crop=600:400;*,*&output-format=jpg&output-quality=80'},\n",
       " '망원동 카페 베스트 20곳': {'href': '/top_lists/1511_mangwondongcafe',\n",
       "  'title': '망원동 카페 베스트 20곳',\n",
       "  'sub_title': '\"카페 투어는 당근 망원동이지!\"',\n",
       "  'img_uri': 'https://mp-seoul-image-production-s3.mangoplate.com/keyword_search/meta/pictures/ljcz4_bv036hbs6r.jpg?fit=around|600:400&crop=600:400;*,*&output-format=jpg&output-quality=80'},\n",
       " '서울대 맛집 베스트 30곳': {'href': '/top_lists/1627_seoulnational_university',\n",
       "  'title': '서울대 맛집 베스트 30곳',\n",
       "  'sub_title': '\"서울대학교 학생들을 위한 서울대 맛집 \"',\n",
       "  'img_uri': 'https://mp-seoul-image-production-s3.mangoplate.com/keyword_search/meta/pictures/9a-hj64xuoxv1l-h.jpg?fit=around|600:400&crop=600:400;*,*&output-format=jpg&output-quality=80'},\n",
       " '강릉 맛집 베스트 30곳': {'href': '/top_lists/628_gangneung',\n",
       "  'title': '강릉 맛집 베스트 30곳',\n",
       "  'sub_title': '\"강릉에서 유명한 건 다 여기 있네!\"',\n",
       "  'img_uri': 'https://mp-seoul-image-production-s3.mangoplate.com/keyword_search/meta/pictures/1slnbdruyyi_hzlw.png?fit=around|600:400&crop=600:400;*,*&output-format=jpg&output-quality=80'},\n",
       " '성균관대 맛집 베스트 30곳': {'href': '/top_lists/1618_sungkyunkwan_university',\n",
       "  'title': '성균관대 맛집 베스트 30곳',\n",
       "  'sub_title': '\"성균관대학교 학생들을 위한 성균관대 맛집\"',\n",
       "  'img_uri': 'https://mp-seoul-image-production-s3.mangoplate.com/keyword_search/meta/pictures/7stg_bggqoromghj.png?fit=around|600:400&crop=600:400;*,*&output-format=jpg&output-quality=80'},\n",
       " '피자 맛집 베스트 30곳': {'href': '/top_lists/595_pizza',\n",
       "  'title': '피자 맛집 베스트 30곳',\n",
       "  'sub_title': '\"피자로는 어디 가서 지지 않는다!\"',\n",
       "  'img_uri': 'https://mp-seoul-image-production-s3.mangoplate.com/keyword_search/meta/pictures/zsb-wdil8w4nbz_y.png?fit=around|600:400&crop=600:400;*,*&output-format=jpg&output-quality=80'},\n",
       " '이태원 브런치 맛집 베스트 15곳': {'href': '/top_lists/678_itaewon_brunch',\n",
       "  'title': '이태원 브런치 맛집 베스트 15곳',\n",
       "  'sub_title': '\"주말에는 무조건 브런치!\"',\n",
       "  'img_uri': 'https://mp-seoul-image-production-s3.mangoplate.com/keyword_search/meta/pictures/h5ggbm-psexmk-6u.png?fit=around|600:400&crop=600:400;*,*&output-format=jpg&output-quality=80'},\n",
       " '부산대 맛집 베스트 10곳': {'href': '/top_lists/1607_busan_university',\n",
       "  'title': '부산대 맛집 베스트 10곳',\n",
       "  'sub_title': '\"부산대학교 학생들을 위한 부산대 맛집\"',\n",
       "  'img_uri': 'https://mp-seoul-image-production-s3.mangoplate.com/keyword_search/meta/pictures/pz5bauedtf7v6hkq.png?fit=around|600:400&crop=600:400;*,*&output-format=jpg&output-quality=80'},\n",
       " '경기도 양평 맛집 베스트 20곳': {'href': '/top_lists/1079_yangpyeong',\n",
       "  'title': '경기도 양평 맛집 베스트 20곳',\n",
       "  'sub_title': '\"양평 가는 길엔 이것만 보세요!\"',\n",
       "  'img_uri': 'https://mp-seoul-image-production-s3.mangoplate.com/keyword_search/meta/pictures/zb-abcyces2sidpz.png?fit=around|600:400&crop=600:400;*,*&output-format=jpg&output-quality=80'},\n",
       " '해산물 덮밥 맛집 베스트 35곳': {'href': '/top_lists/805_hoedeopbap',\n",
       "  'title': '해산물 덮밥 맛집 베스트 35곳',\n",
       "  'sub_title': '\"신선한 해산물이 듬뿍!\"',\n",
       "  'img_uri': 'https://mp-seoul-image-production-s3.mangoplate.com/keyword_search/meta/pictures/4uzkvjtryqtrqn4e.jpg?fit=around|600:400&crop=600:400;*,*&output-format=jpg&output-quality=80'},\n",
       " '경희대 맛집 베스트 30곳': {'href': '/top_lists/1626_kyunghee_university',\n",
       "  'title': '경희대 맛집 베스트 30곳',\n",
       "  'sub_title': '\"경희대학교 학생들을 위한 경희대 맛집\"',\n",
       "  'img_uri': 'https://mp-seoul-image-production-s3.mangoplate.com/keyword_search/meta/pictures/9wcjrtiggkrwiscj.jpg?fit=around|600:400&crop=600:400;*,*&output-format=jpg&output-quality=80'}}"
      ]
     },
     "execution_count": 340,
     "metadata": {},
     "output_type": "execute_result"
    }
   ],
   "source": [
    "category_data"
   ]
  },
  {
   "cell_type": "code",
   "execution_count": 343,
   "metadata": {
    "scrolled": true
   },
   "outputs": [],
   "source": [
    "for data in category_data:\n",
    "    chrom_path= '/home/dopa/projects/personal/selenium-env/chromedriver'\n",
    "    rootPath = 'https://www.mangoplate.com/'\n",
    "    URL = rootPath + category_data[data]['href']\n",
    "    \n",
    "    driver = webdriver.Chrome(chrom_path)\n",
    "    driver.get(URL)\n",
    "    #########################\n",
    "#     더보기 버튼 눌러서 데이터 더 가져오기\n",
    "    #########################\n",
    "    category_data[data]['page_source'] = driver.page_source\n",
    "#     response_list.append(response_text)\n",
    "    driver.quit()"
   ]
  },
  {
   "cell_type": "code",
   "execution_count": null,
   "metadata": {},
   "outputs": [],
   "source": []
  },
  {
   "cell_type": "code",
   "execution_count": null,
   "metadata": {},
   "outputs": [],
   "source": []
  },
  {
   "cell_type": "markdown",
   "metadata": {},
   "source": [
    "# 저장하기 html -> txt 파일로 저장"
   ]
  },
  {
   "cell_type": "code",
   "execution_count": 347,
   "metadata": {},
   "outputs": [],
   "source": [
    "for data in category_data:\n",
    "    title = category_data[data]['title']\n",
    "    r = open('/home/dopa/projects/personal/selenium-env/app/믿고보는맛집리스트/'+ title + '.txt', mode='w', encoding='utf-8')\n",
    "    r.write(category_data[data]['page_source'])\n",
    "    r.close()"
   ]
  },
  {
   "cell_type": "code",
   "execution_count": 349,
   "metadata": {},
   "outputs": [],
   "source": [
    "# category_data"
   ]
  },
  {
   "cell_type": "code",
   "execution_count": null,
   "metadata": {},
   "outputs": [],
   "source": []
  },
  {
   "cell_type": "code",
   "execution_count": 356,
   "metadata": {},
   "outputs": [],
   "source": [
    "html = open('./\"성균관대학교 학생들을 위한 성균관대 맛집\".txt', \"r\").read()\n",
    "song_soup = BeautifulSoup(html)"
   ]
  },
  {
   "cell_type": "code",
   "execution_count": 357,
   "metadata": {},
   "outputs": [],
   "source": [
    "# song_soup"
   ]
  },
  {
   "cell_type": "code",
   "execution_count": null,
   "metadata": {},
   "outputs": [],
   "source": []
  },
  {
   "cell_type": "code",
   "execution_count": null,
   "metadata": {},
   "outputs": [],
   "source": []
  },
  {
   "cell_type": "code",
   "execution_count": null,
   "metadata": {},
   "outputs": [],
   "source": []
  },
  {
   "cell_type": "code",
   "execution_count": 307,
   "metadata": {},
   "outputs": [],
   "source": [
    "song_list = song_soup.select_one('ul.list-restaurants').select('li.toplist_list')"
   ]
  },
  {
   "cell_type": "code",
   "execution_count": 312,
   "metadata": {
    "scrolled": true
   },
   "outputs": [
    {
     "name": "stdout",
     "output_type": "stream",
     "text": [
      "건강한빵\n",
      "4.5\n",
      "서울특별시 종로구 성균관로1길 6-6\n",
      "/restaurants/HO_mC5TGgTOc\n",
      "https://mp-seoul-image-production-s3.mangoplate.com/675193_1569819011590388.jpg?fit=around|738:738&crop=738:738;*,*&output-format=jpg&output-quality=80\n",
      "공주님 밤식빵 (5.0), 앙버터, 섹시 크랜베리와 호두 남친(...?), 깜빠뉴 . 혜화에 모처럼 어머니가 오신 김에 모시고 간 곳. 엄마가 빵순이인 것은 알고 있었지만 이렇게 좋아할 줄은 몰랐는데... 덕분에 종류별로 빵을 다 사고 맛볼 수 있어서 행복했다 ㅎㅅㅎ 13년간 신라호텔에 근무하시다 빵집을 내신 사장님. 그리고 생활의 달인에도 소개된 밤식빵. 이름부터 비범한데, 반 갈라서 먹어보면 여느 밤식빵과는 다르게 밤이 통으로 잔뜩 속을 채우고 있다\n",
      "\n",
      "\n",
      "깔리\n",
      "4.4\n",
      "서울특별시 종로구 대학로11길 43\n",
      "/restaurants/in8ezN7IbJ\n",
      "https://mp-seoul-image-production-s3.mangoplate.com/219672_1545217130715474.jpg?fit=around|738:738&crop=738:738;*,*&output-format=jpg&output-quality=80\n",
      "런치세트의 초우면 대신 A세트에는 탄투리 치킨이 나오고 난 종류, 강황 밥 중 1가지만 고를 수 있는 런치세트에 비해 난도 밥도 고를 수 있어 좋았다. 시금치 커리는 아직 어려워 커리는 치킨 마카니를 골랐다. 역시 난은 갈릭 난. 라씨도 안 먹을 수 없다. 깔리는 어렵지 않으면서도 향신료의 향을 적당히 내면서 강하지 않아 한국 사람 입맛에 잘 맞춘 것 같아 좋다. 쓰다 보니 먹고 싶어져서 조만간 먹으러 가야 할 것 같다.\n",
      "\n",
      "\n",
      "믹스앤몰트\n",
      "4.4\n",
      "서울특별시 종로구 창경궁로29길 3\n",
      "/restaurants/NUVSiYWVI7\n",
      "https://mp-seoul-image-production-s3.mangoplate.com/1483678_1580728171424409.jpg?fit=around|738:738&crop=738:738;*,*&output-format=jpg&output-quality=80\n",
      "라자냐 새우튀김 칵테일 다 맛있어요! 칵테일 종류 진짜 많아요. 이렇게 종류 많은 곳 처음 봤어요. 고르는데 한참 걸렸어요 자몽맛 칵테일이었는데 이름 까먹었어요.. 하나는 피나콜라다인데 과하지 않은 코코넛 맛이라 좋았어요. 라자냐도 고기랑 소스랑 치즈 조화가 잘돼서 넘 맛있어용 새우튀김도 바삭바삭하고 소스가 진짜 맛있더라구요. 분위기도 조명 은은하고 모던해서 예뻐요 데이트하거나 분위기 좋은 곳 가고 싶을 때 가면 좋을것 같아요!\n",
      "\n",
      "\n",
      "소친친\n",
      "4.4\n",
      "서울특별시 종로구 대명길 39-9\n",
      "/restaurants/i7lPqu2mJm\n",
      "https://mp-seoul-image-production-s3.mangoplate.com/862129_1540371254316814.jpg?fit=around|738:738&crop=738:738;*,*&output-format=jpg&output-quality=80\n",
      "제 기준 혜화 중식당 중 최고입니다. 아슬아슬하게 웨이팅 없이 들어갔고 저는 인테리어가 참 마음에 들어요. 식기도 넘 예쁘고 언제가도 참 다른 시대에 온 기분.. 갈때마다 맛있는 갈비 차오판을 시키고요. 늘 이거 하나 고정 메뉴로 다른 메뉴를 고르는데 딴딴미엔은 개인적으로 좀 짠맛이 강했어요. 다른 메뉴라도 사진이 다 있어서 고르는데 어려움은 없었습니다. 혜화에 가신다면 추천하고 싶습니다.\n",
      "\n",
      "\n",
      "정돈\n",
      "4.3\n",
      "서울특별시 종로구 대학로9길 12 B1\n",
      "/restaurants/DsIDC233ow\n",
      "https://mp-seoul-image-production-s3.mangoplate.com/75223_1545777199596818.jpg?fit=around|738:738&crop=738:738;*,*&output-format=jpg&output-quality=80\n",
      "기다린 시간과 떨면서 기다린 고생을 한 번에 씻어주는 맛이었다! 보기엔 돈까스 몇 덩이 처럼 보일 지 모르겠지만, 하나 당 두 세입으로 나눠 먹어야 하는 크기라 저거 다 먹고 나면 넘나 배불 ㅠㅠ 저처럼 새우까지 있는 거 안 시켜도 되고 그냥 등심이나 안심으로 시켜도 먹기에 넘나 충분하니 참고하시길:)! 돼지 잡내 1도 없고 고기 육즙 적당해서 부드럽고 겉은 바삭하고.....! 추워도 또 기다릴 수 있어요!!!!!\n",
      "\n",
      "\n",
      "독일주택\n",
      "4.3\n",
      "서울특별시 종로구 대명1길 16-4\n",
      "/restaurants/rJ6av3SuzP\n",
      "https://mp-seoul-image-production-s3.mangoplate.com/32408_1579625914962517.jpg?fit=around|738:738&crop=738:738;*,*&output-format=jpg&output-quality=80\n",
      "여기 이런 분위기넘치는 공간이 있다고?할정도로 혜화 3번과 4번출구 사이 깊숙하게 숨겨진 공간이에요 그동안 유명한 줄은 알았는데 이제서야 가보았네요! 와서 식사까지 하기에는 무리가 있을 것 같고, 안주가 대체로 핑거푸드가 많아 밥먹은뒤 또는 배부를 때 2차로 가볍게 맥주하러오기 좋아요~ 나름 맥주러버라 이 맥주 저 맥주 많이 마셔봤는데 생각보다 희귀한 맥주가 많아 신기했어요!(옴니폴로까지ㄷㄷ)\n",
      "\n",
      "\n",
      "명륜건강원\n",
      "4.3\n",
      "서울특별시 종로구 혜화로3길 5 아남아파트 301동 103호\n",
      "/restaurants/CbWWt2r4FC4b\n",
      "https://mp-seoul-image-production-s3.mangoplate.com/1040425_1547775697638972.jpg?fit=around|738:738&crop=738:738;*,*&output-format=jpg&output-quality=80\n",
      "매우 훌륭한 퓨전 식당입니다. 가게 인테리어도 데이트하기 좋게 예쁘게 잘 꾸며져 있습니다. 메인 요리는 밥과 미역국, 반찬이 함께 제공되어 한국인은 밥을 먹어야지 하는 어른들에게도 잘 맞을것으로 생각됩니다. 요리도 참 맛있습니다. 크림 메뉴들이 느끼하지 않고 계속 먹게 됩니다. 병아리콩 카레와 콩크림 찹스테이크를 먹었는데 콩크림은 어떻게한건지 달콤한데 담백하고 고소한게 숟가락이 끊이질 않네요 재방문 의사 있고 모든 메뉴가 궁금해지는 그런 맛집입니다.\n",
      "\n",
      "\n",
      "카페키이로\n",
      "4.3\n",
      "서울특별시 종로구 창경궁로26길 41-3 2F\n",
      "/restaurants/gSGQ0YCij835\n",
      "https://mp-seoul-image-production-s3.mangoplate.com/321479/982117_1582719904329_1547?fit=around|738:738&crop=738:738;*,*&output-format=jpg&output-quality=80\n",
      "말차 테린느! 당근 케이크! 단정하게 놓인 테린느 사진을 보고 넘 먹어보고 싶었다. 이곳에서 첫 테린느를 먹었는데 내가 예상한 그 맛이어서 만족스러웠다. 브라우니를 꾹꾹 눌러 만든 것 같은 테린느! 무척 꾸우덕하지만 말차 맛이 꽤 나고 지나치게 달지 않아서 별로 무겁게 느껴지지 않았다. 크림은 고소했고 팥은 테린느와 잘 어울리는 당도였다. 맛있지만 양이 씅에 차지 않았다. 손꾸락만한 걸로는 당충전이 부족해.. 그래서 당근 케이크도 먹었다.\n",
      "\n",
      "\n",
      "저팔계식당\n",
      "4.3\n",
      "서울특별시 종로구 명륜길 37\n",
      "/restaurants/nRHcGCFOzK\n",
      "https://mp-seoul-image-production-s3.mangoplate.com/220411/783110_1550480631680_716970?fit=around|738:738&crop=738:738;*,*&output-format=jpg&output-quality=80\n",
      "꿔바로우는 오히려 한국식 중식당에서 레몬 혹은 식초로 강한 산미가 나도록 요리하는데, 이 식당은 찹쌀피로 쫄깃하게 튀겨낸 고기를 달달한 소스로 한번 볶아내어 미식가이지만 아직은 입이 짧은 아들도 굉장히 맛있게 먹었다! 오늘 주문 메뉴 중 베스트는 가지육사덮밥! 예상 가능한 중국식 덮밥이고, 우리 주변에서 쉽게 구할 수 있는 요리 재료이지만 일반 중식당에서 쉽게 만나긴 어려운 메뉴라는 점에서 큰 점수를 주고 싶다.\n",
      "\n",
      "\n",
      "호호식당\n",
      "4.2\n",
      "서울특별시 종로구 대학로9길 35\n",
      "/restaurants/aqrwpcjP8NCN\n",
      "https://mp-seoul-image-production-s3.mangoplate.com/151498_1543305910766353.jpg?fit=around|738:738&crop=738:738;*,*&output-format=jpg&output-quality=80\n",
      "한때 연어에 미쳐서 연어를 찾아 온 서울을 돌아다닌 적이 있었는데, 그럼에도 이곳의 사케동은 정말정말 수준급이다. 크고 도톰했던 연어가 슬쩍슬쩍 얇아지는 것은 너무 슬프지만, 아직은 눈감아줄 수 있다! 돈데키정식 역시 각별한 맛이다. 달짝지근하게 양념된 돼지고기 스테이크는 겉면 시어링이 잘 되어 식감도 좋고, 안쪽은 퍽퍽함 없이 부드러워서 정말 맛있었다. 같이 간 지인이 시킨 장어덮밥이나 가츠나베 역시 수준급이었다.\n",
      "\n",
      "\n"
     ]
    }
   ],
   "source": [
    "category_data_list = {\n",
    "    \n",
    "}\n",
    "for data in song_list:\n",
    "    div_with_reivew = data.select_one('div.with-review')\n",
    "    div_info = div_with_reivew.select_one('div.info')\n",
    "    song_list_simple_data = div_with_reivew.select_one('a')\n",
    "    \n",
    "    category_data_list[div_info.select_one('h3').get_text(strip=True)] ={\n",
    "        \"href\" : song_list_simple_data['href'],\n",
    "        \"point\" : div_info.select_one('strong.point').get_text(strip=True),\n",
    "        \"address\" : div_info.select_one('p.etc').get_text(strip=True),\n",
    "        \"title\" :div_info.select_one('h3').get_text(strip=True),\n",
    "        \"review_sample\" : data.select_one('div.review-content').select_one('p.long_review').get_text(strip=True),\n",
    "        \"img_uri\" : data.select_one('div.thumb').select_one('img')['data-original'],\n",
    "    }    \n",
    "    \n",
    "    \n",
    "    print(div_info.select_one('h3').get_text(strip=True))\n",
    "    print(div_info.select_one('strong.point').get_text(strip=True))\n",
    "    print(div_info.select_one('p.etc').get_text(strip=True))\n",
    "    print(song_list_simple_data['href'])\n",
    "    print(data.select_one('div.thumb').select_one('img')['data-original'])\n",
    "    print(data.select_one('div.review-content').select_one('p.long_review').get_text(strip=True))\n",
    "    print('\\n')\n"
   ]
  },
  {
   "cell_type": "code",
   "execution_count": 313,
   "metadata": {
    "scrolled": true
   },
   "outputs": [
    {
     "data": {
      "text/plain": [
       "{'건강한빵': {'href': '/restaurants/HO_mC5TGgTOc',\n",
       "  'point': '4.5',\n",
       "  'address': '서울특별시 종로구 성균관로1길 6-6',\n",
       "  'title': '건강한빵',\n",
       "  'review_sample': '공주님 밤식빵 (5.0), 앙버터, 섹시 크랜베리와 호두 남친(...?), 깜빠뉴 . 혜화에 모처럼 어머니가 오신 김에 모시고 간 곳. 엄마가 빵순이인 것은 알고 있었지만 이렇게 좋아할 줄은 몰랐는데... 덕분에 종류별로 빵을 다 사고 맛볼 수 있어서 행복했다 ㅎㅅㅎ 13년간 신라호텔에 근무하시다 빵집을 내신 사장님. 그리고 생활의 달인에도 소개된 밤식빵. 이름부터 비범한데, 반 갈라서 먹어보면 여느 밤식빵과는 다르게 밤이 통으로 잔뜩 속을 채우고 있다',\n",
       "  'img_uri': 'https://mp-seoul-image-production-s3.mangoplate.com/675193_1569819011590388.jpg?fit=around|738:738&crop=738:738;*,*&output-format=jpg&output-quality=80'},\n",
       " '깔리': {'href': '/restaurants/in8ezN7IbJ',\n",
       "  'point': '4.4',\n",
       "  'address': '서울특별시 종로구 대학로11길 43',\n",
       "  'title': '깔리',\n",
       "  'review_sample': '런치세트의 초우면 대신 A세트에는 탄투리 치킨이 나오고 난 종류, 강황 밥 중 1가지만 고를 수 있는 런치세트에 비해 난도 밥도 고를 수 있어 좋았다. 시금치 커리는 아직 어려워 커리는 치킨 마카니를 골랐다. 역시 난은 갈릭 난. 라씨도 안 먹을 수 없다. 깔리는 어렵지 않으면서도 향신료의 향을 적당히 내면서 강하지 않아 한국 사람 입맛에 잘 맞춘 것 같아 좋다. 쓰다 보니 먹고 싶어져서 조만간 먹으러 가야 할 것 같다.',\n",
       "  'img_uri': 'https://mp-seoul-image-production-s3.mangoplate.com/219672_1545217130715474.jpg?fit=around|738:738&crop=738:738;*,*&output-format=jpg&output-quality=80'},\n",
       " '믹스앤몰트': {'href': '/restaurants/NUVSiYWVI7',\n",
       "  'point': '4.4',\n",
       "  'address': '서울특별시 종로구 창경궁로29길 3',\n",
       "  'title': '믹스앤몰트',\n",
       "  'review_sample': '라자냐 새우튀김 칵테일 다 맛있어요! 칵테일 종류 진짜 많아요. 이렇게 종류 많은 곳 처음 봤어요. 고르는데 한참 걸렸어요 자몽맛 칵테일이었는데 이름 까먹었어요.. 하나는 피나콜라다인데 과하지 않은 코코넛 맛이라 좋았어요. 라자냐도 고기랑 소스랑 치즈 조화가 잘돼서 넘 맛있어용 새우튀김도 바삭바삭하고 소스가 진짜 맛있더라구요. 분위기도 조명 은은하고 모던해서 예뻐요 데이트하거나 분위기 좋은 곳 가고 싶을 때 가면 좋을것 같아요!',\n",
       "  'img_uri': 'https://mp-seoul-image-production-s3.mangoplate.com/1483678_1580728171424409.jpg?fit=around|738:738&crop=738:738;*,*&output-format=jpg&output-quality=80'},\n",
       " '소친친': {'href': '/restaurants/i7lPqu2mJm',\n",
       "  'point': '4.4',\n",
       "  'address': '서울특별시 종로구 대명길 39-9',\n",
       "  'title': '소친친',\n",
       "  'review_sample': '제 기준 혜화 중식당 중 최고입니다. 아슬아슬하게 웨이팅 없이 들어갔고 저는 인테리어가 참 마음에 들어요. 식기도 넘 예쁘고 언제가도 참 다른 시대에 온 기분.. 갈때마다 맛있는 갈비 차오판을 시키고요. 늘 이거 하나 고정 메뉴로 다른 메뉴를 고르는데 딴딴미엔은 개인적으로 좀 짠맛이 강했어요. 다른 메뉴라도 사진이 다 있어서 고르는데 어려움은 없었습니다. 혜화에 가신다면 추천하고 싶습니다.',\n",
       "  'img_uri': 'https://mp-seoul-image-production-s3.mangoplate.com/862129_1540371254316814.jpg?fit=around|738:738&crop=738:738;*,*&output-format=jpg&output-quality=80'},\n",
       " '정돈': {'href': '/restaurants/DsIDC233ow',\n",
       "  'point': '4.3',\n",
       "  'address': '서울특별시 종로구 대학로9길 12 B1',\n",
       "  'title': '정돈',\n",
       "  'review_sample': '기다린 시간과 떨면서 기다린 고생을 한 번에 씻어주는 맛이었다! 보기엔 돈까스 몇 덩이 처럼 보일 지 모르겠지만, 하나 당 두 세입으로 나눠 먹어야 하는 크기라 저거 다 먹고 나면 넘나 배불 ㅠㅠ 저처럼 새우까지 있는 거 안 시켜도 되고 그냥 등심이나 안심으로 시켜도 먹기에 넘나 충분하니 참고하시길:)! 돼지 잡내 1도 없고 고기 육즙 적당해서 부드럽고 겉은 바삭하고.....! 추워도 또 기다릴 수 있어요!!!!!',\n",
       "  'img_uri': 'https://mp-seoul-image-production-s3.mangoplate.com/75223_1545777199596818.jpg?fit=around|738:738&crop=738:738;*,*&output-format=jpg&output-quality=80'},\n",
       " '독일주택': {'href': '/restaurants/rJ6av3SuzP',\n",
       "  'point': '4.3',\n",
       "  'address': '서울특별시 종로구 대명1길 16-4',\n",
       "  'title': '독일주택',\n",
       "  'review_sample': '여기 이런 분위기넘치는 공간이 있다고?할정도로 혜화 3번과 4번출구 사이 깊숙하게 숨겨진 공간이에요 그동안 유명한 줄은 알았는데 이제서야 가보았네요! 와서 식사까지 하기에는 무리가 있을 것 같고, 안주가 대체로 핑거푸드가 많아 밥먹은뒤 또는 배부를 때 2차로 가볍게 맥주하러오기 좋아요~ 나름 맥주러버라 이 맥주 저 맥주 많이 마셔봤는데 생각보다 희귀한 맥주가 많아 신기했어요!(옴니폴로까지ㄷㄷ)',\n",
       "  'img_uri': 'https://mp-seoul-image-production-s3.mangoplate.com/32408_1579625914962517.jpg?fit=around|738:738&crop=738:738;*,*&output-format=jpg&output-quality=80'},\n",
       " '명륜건강원': {'href': '/restaurants/CbWWt2r4FC4b',\n",
       "  'point': '4.3',\n",
       "  'address': '서울특별시 종로구 혜화로3길 5 아남아파트 301동 103호',\n",
       "  'title': '명륜건강원',\n",
       "  'review_sample': '매우 훌륭한 퓨전 식당입니다. 가게 인테리어도 데이트하기 좋게 예쁘게 잘 꾸며져 있습니다. 메인 요리는 밥과 미역국, 반찬이 함께 제공되어 한국인은 밥을 먹어야지 하는 어른들에게도 잘 맞을것으로 생각됩니다. 요리도 참 맛있습니다. 크림 메뉴들이 느끼하지 않고 계속 먹게 됩니다. 병아리콩 카레와 콩크림 찹스테이크를 먹었는데 콩크림은 어떻게한건지 달콤한데 담백하고 고소한게 숟가락이 끊이질 않네요 재방문 의사 있고 모든 메뉴가 궁금해지는 그런 맛집입니다.',\n",
       "  'img_uri': 'https://mp-seoul-image-production-s3.mangoplate.com/1040425_1547775697638972.jpg?fit=around|738:738&crop=738:738;*,*&output-format=jpg&output-quality=80'},\n",
       " '카페키이로': {'href': '/restaurants/gSGQ0YCij835',\n",
       "  'point': '4.3',\n",
       "  'address': '서울특별시 종로구 창경궁로26길 41-3 2F',\n",
       "  'title': '카페키이로',\n",
       "  'review_sample': '말차 테린느! 당근 케이크! 단정하게 놓인 테린느 사진을 보고 넘 먹어보고 싶었다. 이곳에서 첫 테린느를 먹었는데 내가 예상한 그 맛이어서 만족스러웠다. 브라우니를 꾹꾹 눌러 만든 것 같은 테린느! 무척 꾸우덕하지만 말차 맛이 꽤 나고 지나치게 달지 않아서 별로 무겁게 느껴지지 않았다. 크림은 고소했고 팥은 테린느와 잘 어울리는 당도였다. 맛있지만 양이 씅에 차지 않았다. 손꾸락만한 걸로는 당충전이 부족해.. 그래서 당근 케이크도 먹었다.',\n",
       "  'img_uri': 'https://mp-seoul-image-production-s3.mangoplate.com/321479/982117_1582719904329_1547?fit=around|738:738&crop=738:738;*,*&output-format=jpg&output-quality=80'},\n",
       " '저팔계식당': {'href': '/restaurants/nRHcGCFOzK',\n",
       "  'point': '4.3',\n",
       "  'address': '서울특별시 종로구 명륜길 37',\n",
       "  'title': '저팔계식당',\n",
       "  'review_sample': '꿔바로우는 오히려 한국식 중식당에서 레몬 혹은 식초로 강한 산미가 나도록 요리하는데, 이 식당은 찹쌀피로 쫄깃하게 튀겨낸 고기를 달달한 소스로 한번 볶아내어 미식가이지만 아직은 입이 짧은 아들도 굉장히 맛있게 먹었다! 오늘 주문 메뉴 중 베스트는 가지육사덮밥! 예상 가능한 중국식 덮밥이고, 우리 주변에서 쉽게 구할 수 있는 요리 재료이지만 일반 중식당에서 쉽게 만나긴 어려운 메뉴라는 점에서 큰 점수를 주고 싶다.',\n",
       "  'img_uri': 'https://mp-seoul-image-production-s3.mangoplate.com/220411/783110_1550480631680_716970?fit=around|738:738&crop=738:738;*,*&output-format=jpg&output-quality=80'},\n",
       " '호호식당': {'href': '/restaurants/aqrwpcjP8NCN',\n",
       "  'point': '4.2',\n",
       "  'address': '서울특별시 종로구 대학로9길 35',\n",
       "  'title': '호호식당',\n",
       "  'review_sample': '한때 연어에 미쳐서 연어를 찾아 온 서울을 돌아다닌 적이 있었는데, 그럼에도 이곳의 사케동은 정말정말 수준급이다. 크고 도톰했던 연어가 슬쩍슬쩍 얇아지는 것은 너무 슬프지만, 아직은 눈감아줄 수 있다! 돈데키정식 역시 각별한 맛이다. 달짝지근하게 양념된 돼지고기 스테이크는 겉면 시어링이 잘 되어 식감도 좋고, 안쪽은 퍽퍽함 없이 부드러워서 정말 맛있었다. 같이 간 지인이 시킨 장어덮밥이나 가츠나베 역시 수준급이었다.',\n",
       "  'img_uri': 'https://mp-seoul-image-production-s3.mangoplate.com/151498_1543305910766353.jpg?fit=around|738:738&crop=738:738;*,*&output-format=jpg&output-quality=80'}}"
      ]
     },
     "execution_count": 313,
     "metadata": {},
     "output_type": "execute_result"
    }
   ],
   "source": [
    "category_data_list"
   ]
  },
  {
   "cell_type": "code",
   "execution_count": 319,
   "metadata": {},
   "outputs": [],
   "source": [
    "response_list_song = []\n",
    "for data in category_data_list:\n",
    "    chrom_path= '/home/dopa/projects/personal/selenium-env/chromedriver'\n",
    "    rootPath = 'https://www.mangoplate.com/'\n",
    "    URL = rootPath + category_data_list[data]['href']\n",
    "    driver = webdriver.Chrome(chrom_path)\n",
    "    driver.get(URL)\n",
    "    category_data_list[data]['page_source'] = driver.page_source\n",
    "    driver.quit()"
   ]
  },
  {
   "cell_type": "code",
   "execution_count": 359,
   "metadata": {},
   "outputs": [],
   "source": [
    "# category_data_list"
   ]
  },
  {
   "cell_type": "markdown",
   "metadata": {},
   "source": [
    "# 식당 자세한 정도 html source 식당/식당이름.txt 이름으로 저장"
   ]
  },
  {
   "cell_type": "code",
   "execution_count": 360,
   "metadata": {},
   "outputs": [],
   "source": [
    "for data in category_data_list:\n",
    "    title = category_data_list[data]['title']\n",
    "    r = open( '/home/dopa/projects/personal/selenium-env/app/식당/'+ title + '.txt', mode='w', encoding='utf-8')\n",
    "    r.write(category_data_list[data]['page_source'])\n",
    "    r.close()"
   ]
  },
  {
   "cell_type": "code",
   "execution_count": 362,
   "metadata": {},
   "outputs": [],
   "source": [
    "html = open('./식당/건강한빵.txt', \"r\").read()\n",
    "health_restaurant_detail = BeautifulSoup(html)"
   ]
  },
  {
   "cell_type": "markdown",
   "metadata": {},
   "source": [
    "# 디테일한 페이지"
   ]
  },
  {
   "cell_type": "markdown",
   "metadata": {},
   "source": [
    "# 여기서부터 시작 0401"
   ]
  },
  {
   "cell_type": "code",
   "execution_count": null,
   "metadata": {},
   "outputs": [],
   "source": []
  },
  {
   "cell_type": "code",
   "execution_count": 366,
   "metadata": {},
   "outputs": [],
   "source": [
    "inner = health_restaurant_detail.select_one('div.column-contents').select_one('div.inner')"
   ]
  },
  {
   "cell_type": "code",
   "execution_count": 368,
   "metadata": {},
   "outputs": [
    {
     "data": {
      "text/plain": [
       "<h1 class=\"restaurant_name\">건강한빵</h1>"
      ]
     },
     "execution_count": 368,
     "metadata": {},
     "output_type": "execute_result"
    }
   ],
   "source": [
    "inner.select_one('section.restaurant-detail').select_one('h1')"
   ]
  },
  {
   "cell_type": "code",
   "execution_count": 213,
   "metadata": {},
   "outputs": [
    {
     "data": {
      "text/plain": [
       "12"
      ]
     },
     "execution_count": 213,
     "metadata": {},
     "output_type": "execute_result"
    }
   ],
   "source": [
    "len(response_list)"
   ]
  },
  {
   "cell_type": "code",
   "execution_count": null,
   "metadata": {},
   "outputs": [],
   "source": []
  },
  {
   "cell_type": "code",
   "execution_count": null,
   "metadata": {},
   "outputs": [],
   "source": []
  },
  {
   "cell_type": "code",
   "execution_count": null,
   "metadata": {},
   "outputs": [],
   "source": []
  },
  {
   "cell_type": "code",
   "execution_count": null,
   "metadata": {},
   "outputs": [],
   "source": []
  },
  {
   "cell_type": "code",
   "execution_count": null,
   "metadata": {},
   "outputs": [],
   "source": []
  },
  {
   "cell_type": "code",
   "execution_count": null,
   "metadata": {},
   "outputs": [],
   "source": []
  },
  {
   "cell_type": "code",
   "execution_count": null,
   "metadata": {},
   "outputs": [],
   "source": []
  },
  {
   "cell_type": "code",
   "execution_count": null,
   "metadata": {},
   "outputs": [],
   "source": []
  },
  {
   "cell_type": "code",
   "execution_count": null,
   "metadata": {},
   "outputs": [],
   "source": []
  },
  {
   "cell_type": "code",
   "execution_count": null,
   "metadata": {},
   "outputs": [],
   "source": []
  },
  {
   "cell_type": "code",
   "execution_count": null,
   "metadata": {},
   "outputs": [],
   "source": []
  },
  {
   "cell_type": "markdown",
   "metadata": {},
   "source": [
    "# case2)지역 검색 명령어 입력"
   ]
  },
  {
   "cell_type": "code",
   "execution_count": null,
   "metadata": {},
   "outputs": [],
   "source": [
    "search_word = input()\n",
    "print(search_word)\n",
    "type(search_word)\n",
    "time.sleep(5) # sleep for 5 seconds so you can see the results"
   ]
  },
  {
   "cell_type": "markdown",
   "metadata": {},
   "source": [
    "# 그 지역 맛집 페이지"
   ]
  },
  {
   "cell_type": "code",
   "execution_count": null,
   "metadata": {
    "scrolled": true
   },
   "outputs": [],
   "source": [
    "search_box = driver.find_element_by_name(\"main-search\")\n",
    "\n",
    "search_box.send_keys(search_word)\n",
    "search_box.send_keys(Keys.RETURN) # hit return after you enter search text\n",
    "\n",
    "get_div=driver.find_element(By.XPATH, '/html/body/main/article/header/div/fieldset/input')\n",
    "\n",
    "get_div.click()\n",
    "time.sleep(5) # sleep for 5 seconds so you can see the results\n",
    "driver.quit()"
   ]
  },
  {
   "cell_type": "markdown",
   "metadata": {},
   "source": [
    "# 디테일 데이터 보여주는 페이지 이동"
   ]
  },
  {
   "cell_type": "code",
   "execution_count": null,
   "metadata": {},
   "outputs": [],
   "source": []
  }
 ],
 "metadata": {
  "kernelspec": {
   "display_name": "Python 3",
   "language": "python",
   "name": "python3"
  },
  "language_info": {
   "codemirror_mode": {
    "name": "ipython",
    "version": 3
   },
   "file_extension": ".py",
   "mimetype": "text/x-python",
   "name": "python",
   "nbconvert_exporter": "python",
   "pygments_lexer": "ipython3",
   "version": "3.7.5"
  }
 },
 "nbformat": 4,
 "nbformat_minor": 4
}
