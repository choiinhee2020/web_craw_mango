{
 "cells": [
  {
   "cell_type": "code",
   "execution_count": 68,
   "metadata": {},
   "outputs": [],
   "source": [
    "# 추가 해야할 것 새로운 데이터 생기면 그위에 업데이트 하는 거 짜야함"
   ]
  },
  {
   "cell_type": "code",
   "execution_count": null,
   "metadata": {},
   "outputs": [],
   "source": []
  },
  {
   "cell_type": "code",
   "execution_count": 2,
   "metadata": {},
   "outputs": [],
   "source": [
    "import requests\n",
    "from bs4 import BeautifulSoup\n",
    "from selenium import webdriver\n",
    "import time\n",
    "from selenium.webdriver.common.by import By\n",
    "from selenium.webdriver.common.keys import Keys\n",
    "import os \n",
    "from restaurant.models import *"
   ]
  },
  {
   "cell_type": "markdown",
   "metadata": {},
   "source": [
    "# 첫번째 selenium 해서 데이터 가져오기"
   ]
  },
  {
   "cell_type": "code",
   "execution_count": 53,
   "metadata": {},
   "outputs": [
    {
     "name": "stderr",
     "output_type": "stream",
     "text": [
      "/home/kimdooh/.pyenv/versions/mangoplate-env/lib/python3.7/site-packages/ipykernel_launcher.py:7: DeprecationWarning: use options instead of chrome_options\n",
      "  import sys\n"
     ]
    },
    {
     "name": "stdout",
     "output_type": "stream",
     "text": [
      "https://www.mangoplate.com/\n"
     ]
    }
   ],
   "source": [
    "chrom_path= '/home/kimdooh/projects/fastcampus/project_with_team/personal-projects/web_craw_mango/chromedriver'\n",
    "rootPath = 'https://www.mangoplate.com/'\n",
    "\n",
    "options = webdriver.ChromeOptions() \n",
    "options.add_argument('headless')\n",
    "options.add_argument('disable-gpu')\n",
    "driver = webdriver.Chrome(chrom_path,chrome_options=options)\n",
    "\n",
    "driver.get(rootPath)\n",
    "html = driver.page_source\n",
    "r = open( '/home/kimdooh/projects/fastcampus/project_with_team/personal-projects/web_craw_mango/home_first_page.txt', mode='w', encoding='utf-8')\n",
    "r.write(html)\n",
    "print(rootPath)\n",
    "r.close()\n",
    "\n",
    "driver.quit()"
   ]
  },
  {
   "cell_type": "code",
   "execution_count": 54,
   "metadata": {
    "scrolled": true
   },
   "outputs": [],
   "source": [
    "# firstpage에서 각 카테고리 별 href 가져오기  \n",
    "html = open('../home_first_page.txt', \"r\").read()\n",
    "song_soup = BeautifulSoup(html)\n",
    "soup = BeautifulSoup(html, 'html.parser')\n",
    "\n",
    "home_div_top_list_slide= soup.select('body > main > article > section:nth-child(3) > div.slider-container.toplist-slider > div > div > div')\n",
    "big_category = soup.select_one('div.module_title_wrap').select_one('h2').get_text(strip=True).replace(\" \",\"\")\n",
    "home_trust_list = soup.select_one('div.slick-track')\n",
    "one_ul_two_a=home_trust_list.select('ul')\n",
    "category_data = {\n",
    "    \n",
    "}\n",
    "for text in one_ul_two_a:\n",
    "    select_list = text.select('a')\n",
    "    select_img  = text.select('img')\n",
    "    for data, img in zip(select_list, select_img) :\n",
    "        category_data[data.select('span.title')[0].get_text(strip=True)] ={\n",
    "            \"href\" : data['href'],\n",
    "            \"title\" : data.select('span.title')[0].get_text(strip=True),\n",
    "            \"sub_title\" :data.select('p')[0].get_text(strip=True),\n",
    "            \"img_uri\" : img['src'],\n",
    "            \"big_category\" : big_category,\n",
    "        }\n",
    "#         print(\"home_list big_category >>> \", big_category)\n",
    "#         print(\"home_list href         >>>  \", data['href'])\n",
    "#         print(\"home_list title        >>> \", data.select('span.title')[0].get_text(strip=True))\n",
    "#         print(\"home_list distr        >>> \", data.select('p')[0].get_text(strip=True))\n",
    "#         print(img['src'])\n",
    "#         print('\\n')"
   ]
  },
  {
   "cell_type": "code",
   "execution_count": 55,
   "metadata": {},
   "outputs": [
    {
     "name": "stdout",
     "output_type": "stream",
     "text": [
      "파일 이미 있음\n"
     ]
    }
   ],
   "source": [
    "try:\n",
    "    os.mkdir('/home/kimdooh/projects/fastcampus/project_with_team/personal-projects/web_craw_mango/data/'+ big_category + '/')\n",
    "except FileExistsError:\n",
    "    print('파일 이미 있음')"
   ]
  },
  {
   "cell_type": "code",
   "execution_count": 56,
   "metadata": {
    "scrolled": true
   },
   "outputs": [],
   "source": [
    "# category_data"
   ]
  },
  {
   "cell_type": "code",
   "execution_count": 57,
   "metadata": {
    "scrolled": true
   },
   "outputs": [],
   "source": [
    "# # test\n",
    "# for data in category_data:\n",
    "#     URL =  category_data[data]['href']\n",
    "#     print(URL)"
   ]
  },
  {
   "cell_type": "code",
   "execution_count": 58,
   "metadata": {},
   "outputs": [
    {
     "data": {
      "text/plain": [
       "'믿고보는맛집리스트'"
      ]
     },
     "execution_count": 58,
     "metadata": {},
     "output_type": "execute_result"
    }
   ],
   "source": [
    "big_category"
   ]
  },
  {
   "cell_type": "markdown",
   "metadata": {},
   "source": [
    "# 큰 카테고리에서 작은 카테고리별 (리스트 목록 페이지) \n"
   ]
  },
  {
   "cell_type": "markdown",
   "metadata": {},
   "source": [
    "# 두번째 selenium이용해서 각 가테고리별로 개별 식당 href 가져오기"
   ]
  },
  {
   "cell_type": "code",
   "execution_count": 59,
   "metadata": {},
   "outputs": [
    {
     "name": "stderr",
     "output_type": "stream",
     "text": [
      "/home/kimdooh/.pyenv/versions/mangoplate-env/lib/python3.7/site-packages/ipykernel_launcher.py:9: DeprecationWarning: use options instead of chrome_options\n",
      "  if __name__ == '__main__':\n"
     ]
    },
    {
     "name": "stdout",
     "output_type": "stream",
     "text": [
      "https://www.mangoplate.com/top_lists/1766_kangwonwonju\n",
      "https://www.mangoplate.com/top_lists/1002_doenjangjjigae\n",
      "https://www.mangoplate.com/top_lists/1620_yonsei_university\n",
      "https://www.mangoplate.com/top_lists/1184_waffle\n",
      "https://www.mangoplate.com/top_lists/1511_mangwondongcafe\n",
      "https://www.mangoplate.com/top_lists/1627_seoulnational_university\n",
      "https://www.mangoplate.com/top_lists/628_gangneung\n",
      "https://www.mangoplate.com/top_lists/1618_sungkyunkwan_university\n",
      "https://www.mangoplate.com/top_lists/595_pizza\n",
      "https://www.mangoplate.com/top_lists/678_itaewon_brunch\n",
      "https://www.mangoplate.com/top_lists/1607_busan_university\n",
      "https://www.mangoplate.com/top_lists/1079_yangpyeong\n"
     ]
    }
   ],
   "source": [
    "for data in category_data:\n",
    "    chrom_path= '/home/kimdooh/projects/fastcampus/project_with_team/personal-projects/web_craw_mango/chromedriver'\n",
    "    rootPath = 'https://www.mangoplate.com'\n",
    "    URL = rootPath + category_data[data]['href']\n",
    "    \n",
    "    options = webdriver.ChromeOptions() \n",
    "    options.add_argument('headless')\n",
    "    options.add_argument('disable-gpu')\n",
    "    driver = webdriver.Chrome(chrom_path,chrome_options=options)\n",
    "    driver.get(URL)\n",
    "    print(URL)\n",
    "#     driver.get_screenshot_as_file(f'./data/naver_main{data}.png')\n",
    "    #########################\n",
    "#     더보기 버튼 눌러서 데이터 더 가져오기\n",
    "    #########################\n",
    "    title = category_data[data]['title']\n",
    "    r = open('/home/kimdooh/projects/fastcampus/project_with_team/personal-projects/web_craw_mango/data/믿고보는맛집리스트/'+ \\\n",
    "             title.replace(\" \",\"\") + '.txt', mode='w', encoding='utf-8')\n",
    "    category_data[data]['page_source'] = driver.page_source\n",
    "    r.write(category_data[data]['page_source'])\n",
    "    r.close\n",
    "    driver.quit()"
   ]
  },
  {
   "cell_type": "markdown",
   "metadata": {},
   "source": [
    "# 큰 카테고리에서 작은 카테고리별 (리스트 목록 페이지) \n",
    "# html 저장 하고 가각 리스트 가져오기"
   ]
  },
  {
   "cell_type": "code",
   "execution_count": null,
   "metadata": {},
   "outputs": [],
   "source": [
    "import os \n",
    "path='../data/믿고보는맛집리스트/'\n",
    "file_list = [i for i in os.listdir(path) if '.txt' in i]\n",
    "print(file_list)"
   ]
  },
  {
   "cell_type": "code",
   "execution_count": 61,
   "metadata": {},
   "outputs": [
    {
     "name": "stdout",
     "output_type": "stream",
     "text": [
      "강릉맛집베스트30곳.txt\n",
      "경기도양평맛집베스트20곳.txt\n",
      "부산대맛집베스트10곳.txt\n",
      "강원도원주맛집베스트20곳.txt\n",
      "피자맛집베스트30곳.txt\n",
      "연세대맛집베스트35곳.txt\n",
      "성균관대맛집베스트30곳.txt\n",
      "와플맛집베스트25곳.txt\n",
      "된장찌개맛집베스트7곳.txt\n",
      "망원동카페베스트20곳.txt\n",
      "서울대맛집베스트30곳.txt\n",
      "이태원브런치맛집베스트15곳.txt\n"
     ]
    }
   ],
   "source": [
    "second_category_data_list = {\n",
    "    \n",
    "}\n",
    "for second_category_detail_list_source in file_list:\n",
    "    print(second_category_detail_list_source)\n",
    "    \n",
    "    html = open('../data/믿고보는맛집리스트/'+ second_category_detail_list_source, \"r\").read()\n",
    "#     print(html)\n",
    "    second_category_soup = BeautifulSoup(html)\n",
    "    second_category_list = second_category_soup.select_one('ul.list-restaurants').select('li.toplist_list')\n",
    "    second_category_data_href_list= {}\n",
    "    for data in second_category_list:\n",
    "        div_with_reivew = data.select_one('div.with-review')\n",
    "        div_info = div_with_reivew.select_one('div.info')\n",
    "        second_category_list_simple_data = div_with_reivew.select_one('a')\n",
    "\n",
    "        second_category_data_href_list[div_info.select_one('h3').get_text(strip=True)] ={\n",
    "            \"href\" : second_category_list_simple_data['href'],\n",
    "            \"point\" : div_info.select_one('strong.point').get_text(strip=True),\n",
    "            \"address\" : div_info.select_one('p.etc').get_text(strip=True),\n",
    "            \"title\" :div_info.select_one('h3').get_text(strip=True),\n",
    "#             \"review_sample\" : data.select_one('div.review-content').select_one('p.long_review').get_text(strip=True),\n",
    "            \"img_uri\" : data.select_one('div.thumb').select_one('img')['data-original'],\n",
    "        }\n",
    "    second_category_data_list[second_category_detail_list_source.split('.')[0]] = second_category_data_href_list\n",
    "    "
   ]
  },
  {
   "cell_type": "markdown",
   "metadata": {},
   "source": [
    "# sub_카테고리별 파일 만들기"
   ]
  },
  {
   "cell_type": "code",
   "execution_count": 67,
   "metadata": {},
   "outputs": [
    {
     "name": "stdout",
     "output_type": "stream",
     "text": [
      "강릉맛집베스트30곳\n",
      "파일 이미 있음\n",
      "경기도양평맛집베스트20곳\n",
      "파일 이미 있음\n",
      "부산대맛집베스트10곳\n",
      "파일 이미 있음\n",
      "강원도원주맛집베스트20곳\n",
      "파일 이미 있음\n",
      "피자맛집베스트30곳\n",
      "파일 이미 있음\n",
      "연세대맛집베스트35곳\n",
      "파일 이미 있음\n",
      "성균관대맛집베스트30곳\n",
      "파일 이미 있음\n",
      "와플맛집베스트25곳\n",
      "파일 이미 있음\n",
      "된장찌개맛집베스트7곳\n",
      "파일 이미 있음\n",
      "망원동카페베스트20곳\n",
      "파일 이미 있음\n",
      "서울대맛집베스트30곳\n",
      "파일 이미 있음\n",
      "이태원브런치맛집베스트15곳\n",
      "파일 이미 있음\n"
     ]
    }
   ],
   "source": [
    "for title in second_category_data_list.keys():\n",
    "    print(title.replace(\" \",\"\"))\n",
    "\n",
    "    try:\n",
    "        os.mkdir('/home/kimdooh/projects/fastcampus/project_with_team/personal-projects/web_craw_mango/data/'+ big_category +'/'+ title.replace(\" \",\"\") + '/')\n",
    "        print('만듬')\n",
    "    except FileExistsError:\n",
    "        print('파일 이미 있음')\n",
    "        continue"
   ]
  },
  {
   "cell_type": "code",
   "execution_count": null,
   "metadata": {
    "scrolled": true
   },
   "outputs": [],
   "source": []
  },
  {
   "cell_type": "code",
   "execution_count": null,
   "metadata": {},
   "outputs": [],
   "source": []
  },
  {
   "cell_type": "code",
   "execution_count": null,
   "metadata": {
    "scrolled": true
   },
   "outputs": [],
   "source": []
  },
  {
   "cell_type": "markdown",
   "metadata": {
    "scrolled": true
   },
   "source": [
    "# 세번째 selenium 각각 가게별 상세 데이터 가져오기 "
   ]
  },
  {
   "cell_type": "code",
   "execution_count": 43,
   "metadata": {
    "scrolled": true
   },
   "outputs": [
    {
     "name": "stdout",
     "output_type": "stream",
     "text": [
      "https://www.mangoplate.com/restaurants/UIwMHXOYSD\n"
     ]
    },
    {
     "name": "stderr",
     "output_type": "stream",
     "text": [
      "/home/kimdooh/.pyenv/versions/mangoplate-env/lib/python3.7/site-packages/ipykernel_launcher.py:13: DeprecationWarning: use options instead of chrome_options\n",
      "  del sys.path[0]\n"
     ]
    },
    {
     "name": "stdout",
     "output_type": "stream",
     "text": [
      "https://www.mangoplate.com/restaurants/6qj_TAIfIZ\n",
      "https://www.mangoplate.com/restaurants/62pZKPDZGlHj\n",
      "https://www.mangoplate.com/restaurants/6dj-d-Cgx0Df\n",
      "https://www.mangoplate.com/restaurants/1Wkygll1sGAe\n",
      "https://www.mangoplate.com/restaurants/lIjhQ75oiHX0\n",
      "https://www.mangoplate.com/restaurants/TV7PVefI8u\n",
      "https://www.mangoplate.com/restaurants/Ml1gM34PUX\n",
      "https://www.mangoplate.com/restaurants/qF1Qg1uOXN\n",
      "https://www.mangoplate.com/restaurants/MiUxOS4Sd6\n",
      "https://www.mangoplate.com/restaurants/_47PQHcxiP\n",
      "https://www.mangoplate.com/restaurants/S5y9lf5rmnc4\n",
      "https://www.mangoplate.com/restaurants/mKFXciRtQc\n",
      "https://www.mangoplate.com/restaurants/lwLcmnAO71\n",
      "https://www.mangoplate.com/restaurants/BL932-FjUezw\n",
      "https://www.mangoplate.com/restaurants/AojL-ZwE-D\n",
      "https://www.mangoplate.com/restaurants/E1FX1sAkYOP-\n",
      "https://www.mangoplate.com/restaurants/HvqF3mv61j\n",
      "https://www.mangoplate.com/restaurants/w3eKhWMaDCs_\n",
      "https://www.mangoplate.com/restaurants/pECQhOlKHD7W\n",
      "https://www.mangoplate.com/restaurants/0EoyV_TkNV\n",
      "https://www.mangoplate.com/restaurants/uB_LTKWEei\n",
      "https://www.mangoplate.com/restaurants/t8SpA9gENR\n",
      "https://www.mangoplate.com/restaurants/zxqKlZqoho\n",
      "https://www.mangoplate.com/restaurants/BetbCXRLSW\n",
      "https://www.mangoplate.com/restaurants/ZorAHE7fXK\n",
      "https://www.mangoplate.com/restaurants/FMIX8dwRsXkS\n",
      "https://www.mangoplate.com/restaurants/Q5GvfyVWkR\n",
      "https://www.mangoplate.com/restaurants/Ks9y4oYXeD\n",
      "https://www.mangoplate.com/restaurants/DlOnO5D-Ll\n",
      "https://www.mangoplate.com/restaurants/xFI4P-jD0Ue9\n",
      "https://www.mangoplate.com/restaurants/YqbLdyxq0SZC\n",
      "https://www.mangoplate.com/restaurants/Zy-2CLAcdp\n",
      "https://www.mangoplate.com/restaurants/lAZ8kYmP6nz9\n",
      "https://www.mangoplate.com/restaurants/JLrp6lfj9m0F\n",
      "https://www.mangoplate.com/restaurants/3lFMnJyFaAfV\n",
      "https://www.mangoplate.com/restaurants/ju0LDLmS3v_a\n",
      "https://www.mangoplate.com/restaurants/RdXVMmgVpKeI\n",
      "https://www.mangoplate.com/restaurants/sfO3p__TvfWC\n",
      "https://www.mangoplate.com/restaurants/lrAKVPUQ46Zx\n",
      "https://www.mangoplate.com/restaurants/gL8RksQTNk\n",
      "https://www.mangoplate.com/restaurants/TovtkS-pCpIg\n",
      "https://www.mangoplate.com/restaurants/NWmtAsUChc\n",
      "https://www.mangoplate.com/restaurants/qcFPjfB7o5-X\n",
      "https://www.mangoplate.com/restaurants/ie3TAxVUoaZR\n",
      "https://www.mangoplate.com/restaurants/c-BO2-JZg1\n",
      "https://www.mangoplate.com/restaurants/2NG2Ehby9t\n",
      "https://www.mangoplate.com/restaurants/K_vtj5kE3N\n",
      "https://www.mangoplate.com/restaurants/WlpGSOZmW-\n",
      "https://www.mangoplate.com/restaurants/SqI7JhOCrH9A\n",
      "https://www.mangoplate.com/restaurants/xRS2Fzhelv\n",
      "https://www.mangoplate.com/restaurants/whIXrS1NrM_N\n",
      "https://www.mangoplate.com/restaurants/6HtLSXhL9JXX\n",
      "https://www.mangoplate.com/restaurants/idX28AJjHfRk\n",
      "https://www.mangoplate.com/restaurants/QsBxSFbx6G\n",
      "https://www.mangoplate.com/restaurants/-UrEMfQ2UM\n",
      "https://www.mangoplate.com/restaurants/mFwQU3LTXBze\n",
      "https://www.mangoplate.com/restaurants/pXrcny4sHv\n",
      "https://www.mangoplate.com/restaurants/YQ6w_FseaC\n",
      "https://www.mangoplate.com/restaurants/-3qMFUFrZW\n",
      "https://www.mangoplate.com/restaurants/HO_mC5TGgTOc\n",
      "https://www.mangoplate.com/restaurants/in8ezN7IbJ\n",
      "https://www.mangoplate.com/restaurants/NUVSiYWVI7\n",
      "https://www.mangoplate.com/restaurants/i7lPqu2mJm\n",
      "https://www.mangoplate.com/restaurants/DsIDC233ow\n",
      "https://www.mangoplate.com/restaurants/rJ6av3SuzP\n",
      "https://www.mangoplate.com/restaurants/CbWWt2r4FC4b\n",
      "https://www.mangoplate.com/restaurants/gSGQ0YCij835\n",
      "https://www.mangoplate.com/restaurants/nRHcGCFOzK\n",
      "https://www.mangoplate.com/restaurants/aqrwpcjP8NCN\n",
      "https://www.mangoplate.com/restaurants/WB88EbmkAA\n",
      "https://www.mangoplate.com/restaurants/dTe1zMBQ5TKl\n",
      "https://www.mangoplate.com/restaurants/0Yj5n-soQzyw\n",
      "https://www.mangoplate.com/restaurants/ASq2L_p0BV\n",
      "https://www.mangoplate.com/restaurants/vDS0F5L3W1QO\n",
      "https://www.mangoplate.com/restaurants/RdXVMmgVpKeI\n",
      "https://www.mangoplate.com/restaurants/9jKcO4Igs-b_\n",
      "https://www.mangoplate.com/restaurants/IdAtdbNb07\n",
      "https://www.mangoplate.com/restaurants/Eixej_2sql\n",
      "https://www.mangoplate.com/restaurants/P3xo7hlPVeyB\n",
      "https://www.mangoplate.com/restaurants/RfROMZA_LS\n",
      "https://www.mangoplate.com/restaurants/MVf7LV9EWM\n",
      "https://www.mangoplate.com/restaurants/X19cFYkkiI\n",
      "https://www.mangoplate.com/restaurants/sZGS2A_38-\n",
      "https://www.mangoplate.com/restaurants/tbzsJhrfEyuN\n",
      "https://www.mangoplate.com/restaurants/XD-WGNcmJgch\n",
      "https://www.mangoplate.com/restaurants/HuabiTj5pb\n",
      "https://www.mangoplate.com/restaurants/hjQB9R3K9Dx0\n",
      "https://www.mangoplate.com/restaurants/Y__9DVL85g55\n",
      "https://www.mangoplate.com/restaurants/5jpxtJNIYu\n",
      "https://www.mangoplate.com/restaurants/X1wf0zACW32q\n",
      "https://www.mangoplate.com/restaurants/CqmN-bdsat2Z\n",
      "https://www.mangoplate.com/restaurants/zOOlz9vfJfFF\n",
      "https://www.mangoplate.com/restaurants/8bXvvebEbTRq\n",
      "https://www.mangoplate.com/restaurants/NB7sMU79w9jg\n",
      "https://www.mangoplate.com/restaurants/KoY0XYWoNcJV\n",
      "https://www.mangoplate.com/restaurants/dQPjObsr2uNN\n",
      "https://www.mangoplate.com/restaurants/3A0Z-gBcPl\n",
      "https://www.mangoplate.com/restaurants/XRoMziImmYCC\n",
      "https://www.mangoplate.com/restaurants/q1PDtSFDsXea\n",
      "https://www.mangoplate.com/restaurants/P34gLPnn-BhC\n",
      "https://www.mangoplate.com/restaurants/bKBEWmF8MVGb\n",
      "https://www.mangoplate.com/restaurants/56MKQk5Vm_\n",
      "https://www.mangoplate.com/restaurants/y4pGEk_ZwDqZ\n",
      "https://www.mangoplate.com/restaurants/A5O1smA6kZGW\n",
      "https://www.mangoplate.com/restaurants/V-Hl6MeOdjBZ\n",
      "https://www.mangoplate.com/restaurants/9KocgR_GYI\n",
      "https://www.mangoplate.com/restaurants/pWBiN0PLlB\n",
      "https://www.mangoplate.com/restaurants/6xQY0t3A6o\n",
      "https://www.mangoplate.com/restaurants/7A-UpyjiDuXH\n",
      "https://www.mangoplate.com/restaurants/1B8ARZ_X2Wur\n",
      "https://www.mangoplate.com/restaurants/k6tCnrg0Z6\n",
      "https://www.mangoplate.com/restaurants/08OQhkbuBywp\n",
      "https://www.mangoplate.com/restaurants/K_m_CpfUYD\n",
      "https://www.mangoplate.com/restaurants/wnDQacLgqe\n",
      "https://www.mangoplate.com/restaurants/2KPElXrgq1Dp\n",
      "https://www.mangoplate.com/restaurants/nHBQnbFVjLl3\n"
     ]
    }
   ],
   "source": [
    "for file_name, res_name in second_category_data_list.items():\n",
    "    chrom_path= '/home/kimdooh/projects/fastcampus/project_with_team/personal-projects/web_craw_mango/chromedriver'\n",
    "    rootPath = 'https://www.mangoplate.com'\n",
    "    \n",
    "    for restaurant, factors in second_category_data_list[file_name].items():\n",
    "        \n",
    "        URL = rootPath + factors['href']\n",
    "        print(URL)\n",
    "\n",
    "        options = webdriver.ChromeOptions() \n",
    "        options.add_argument('headless')\n",
    "        options.add_argument('disable-gpu')\n",
    "        driver = webdriver.Chrome(chrom_path,chrome_options=options)\n",
    "        driver.get(URL)\n",
    "        driver.get_screenshot_as_file(f'naver_main{data}.png')\n",
    "\n",
    "        \n",
    "        second_category_data_list[file_name][restaurant]['page_source'] = driver.page_source\n",
    "        \n",
    "        r = open('/home/kimdooh/projects/fastcampus/project_with_team/personal-projects/web_craw_mango/data/'+ big_category + '/'+\\\n",
    "        file_name.replace(\" \",\"\") +'/'+ restaurant.replace(\" \",\"\") + '.txt', mode='w', encoding='utf-8')\n",
    "        r.write(second_category_data_list[file_name][restaurant]['page_source'])\n",
    "\n",
    "        driver.quit()"
   ]
  },
  {
   "cell_type": "code",
   "execution_count": null,
   "metadata": {
    "scrolled": false
   },
   "outputs": [],
   "source": []
  },
  {
   "cell_type": "code",
   "execution_count": 45,
   "metadata": {},
   "outputs": [
    {
     "name": "stdout",
     "output_type": "stream",
     "text": [
      "경희대맛집베스트30곳\n",
      "레알라면.txt\n",
      "스시선생.txt\n",
      "회기왕족발보쌈.txt\n",
      "오관스시.txt\n",
      "컴플리트커피.txt\n",
      "솔낭구.txt\n",
      "언니네함바그.txt\n",
      "CoffeeMethodz.txt\n",
      "아임파이.txt\n",
      "사골마라탕.txt\n",
      "서울대맛집베스트30곳\n",
      "로향양꼬치.txt\n",
      "차이나당.txt\n",
      "뉴욕택시디저트.txt\n",
      "안녕베트남.txt\n",
      "소풍가는날.txt\n",
      "텐동요츠야.txt\n",
      "퍼블리코타코.txt\n",
      "오지편한식당.txt\n",
      "두만강샤브샤브.txt\n",
      "동경산책.txt\n",
      "이태원브런치맛집베스트15곳\n",
      "왓어샐러드.txt\n",
      "써머레인.txt\n",
      "샐러드셀러.txt\n",
      "팻캣.txt\n",
      "오리지널팬케이크하우스.txt\n",
      "라페름.txt\n",
      "카사블랑카.txt\n",
      "루트.txt\n",
      "더훈.txt\n",
      "빙봉.txt\n",
      "경기도양평맛집베스트20곳\n",
      "수수.txt\n",
      "알로하오에.txt\n",
      "원조양평신내서울해장국.txt\n",
      "테라로사.txt\n",
      "도프커피.txt\n",
      "옥천고읍냉면.txt\n",
      "연핫도그.txt\n",
      "하우스베이커리.txt\n",
      "카페리노.txt\n",
      "문리버.txt\n",
      "피자맛집베스트30곳\n",
      "포폴로피자.txt\n",
      "지아니스나폴리.txt\n",
      "다로베.txt\n",
      "보니스피자펍.txt\n",
      "매덕스피자.txt\n",
      "옥인피자.txt\n",
      "파이프그라운드.txt\n",
      "호머.txt\n",
      "누오보나폴리.txt\n",
      "파니노구스토.txt\n",
      "연세대맛집베스트35곳\n",
      "비아메렝게.txt\n",
      "완차이.txt\n",
      "타코로코.txt\n",
      "길상양꼬치.txt\n",
      "맘맘테이블.txt\n",
      "벽제갈비.txt\n",
      "소신이쏘.txt\n",
      "피망과토마토.txt\n",
      "고삼이.txt\n",
      "한림돈가.txt\n",
      "와플맛집베스트25곳\n",
      "덕수궁리에제와플.txt\n",
      "딜리저트.txt\n",
      "와플잇업.txt\n",
      "리화인와플.txt\n",
      "카페호스팅.txt\n",
      "프레스커피.txt\n",
      "오목눈이.txt\n",
      "패트릭스와플.txt\n",
      "베러댄와플.txt\n",
      "고에이프.txt\n",
      "해산물덮밥맛집베스트35곳\n",
      "호호식당.txt\n",
      "온돈부리.txt\n",
      "우미노미.txt\n",
      "형제돈부리.txt\n",
      "종로돈부리.txt\n",
      "모토쿠라시.txt\n",
      "마구로쇼쿠도.txt\n",
      "키친31.txt\n",
      "오복수산.txt\n",
      "소년식당.txt\n",
      "부산대맛집베스트10곳\n",
      "돼지집딸.txt\n",
      "야마벤또.txt\n",
      "진국명가.txt\n",
      "솔밭집.txt\n",
      "살롱드보네.txt\n",
      "뉴숯불통닭.txt\n",
      "스시심.txt\n",
      "대길고추불고기.txt\n",
      "카카오두.txt\n",
      "델라고.txt\n",
      "강릉맛집베스트30곳\n",
      "강릉불고기.txt\n",
      "초당할머니순두부.txt\n",
      "이모네생선찜.txt\n",
      "소문난부대찌개.txt\n",
      "동화가든.txt\n",
      "봉봉방앗간.txt\n",
      "테라로사커피공장.txt\n",
      "라꼬시나바이이성용.txt\n",
      "풍년갈비.txt\n",
      "엄지네포장마차.txt\n",
      "성균관대맛집베스트30곳\n",
      "명륜건강원.txt\n",
      "깔리.txt\n",
      "호호식당.txt\n",
      "카페키이로.txt\n",
      "정돈.txt\n",
      "믹스앤몰트.txt\n",
      "건강한빵.txt\n",
      "저팔계식당.txt\n",
      "소친친.txt\n",
      "독일주택.txt\n",
      "망원동카페베스트20곳\n",
      "오늘의위로.txt\n",
      "마핑파.txt\n",
      "미완성식탁.txt\n",
      "꼬르소산도.txt\n",
      "코코부코.txt\n",
      "딥블루레이크커피.txt\n",
      "커피가게동경.txt\n",
      "키오스크.txt\n",
      "카카오다다.txt\n",
      "비전스트롤.txt\n"
     ]
    }
   ],
   "source": [
    "import os \n",
    "path='../'\n",
    "file_list = [i for i in os.listdir(path) if '곳' in i]\n",
    "\n",
    "for category_detail_list in file_list:\n",
    "    print(category_detail_list)\n",
    "    file_name=os.listdir(path+category_detail_list+ '/')\n",
    "    for restaurant in file_name:\n",
    "        print(restaurant)\n",
    "        html = open('../'+ category_detail_list +'/'+restaurant, \"r\").read()    "
   ]
  },
  {
   "cell_type": "code",
   "execution_count": null,
   "metadata": {},
   "outputs": [],
   "source": []
  },
  {
   "cell_type": "code",
   "execution_count": 46,
   "metadata": {},
   "outputs": [
    {
     "name": "stdout",
     "output_type": "stream",
     "text": [
      "레알라면.txt\n",
      "스시선생.txt\n",
      "회기왕족발보쌈.txt\n",
      "오관스시.txt\n",
      "컴플리트커피.txt\n",
      "솔낭구.txt\n",
      "언니네함바그.txt\n",
      "CoffeeMethodz.txt\n",
      "아임파이.txt\n",
      "사골마라탕.txt\n",
      "로향양꼬치.txt\n",
      "차이나당.txt\n",
      "뉴욕택시디저트.txt\n",
      "안녕베트남.txt\n",
      "소풍가는날.txt\n",
      "텐동요츠야.txt\n",
      "퍼블리코타코.txt\n",
      "오지편한식당.txt\n",
      "두만강샤브샤브.txt\n",
      "동경산책.txt\n",
      "왓어샐러드.txt\n",
      "써머레인.txt\n",
      "샐러드셀러.txt\n",
      "팻캣.txt\n",
      "오리지널팬케이크하우스.txt\n",
      "라페름.txt\n",
      "카사블랑카.txt\n",
      "루트.txt\n",
      "더훈.txt\n",
      "빙봉.txt\n",
      "수수.txt\n",
      "알로하오에.txt\n",
      "원조양평신내서울해장국.txt\n",
      "테라로사.txt\n",
      "도프커피.txt\n",
      "옥천고읍냉면.txt\n",
      "연핫도그.txt\n",
      "하우스베이커리.txt\n",
      "카페리노.txt\n",
      "문리버.txt\n",
      "포폴로피자.txt\n",
      "지아니스나폴리.txt\n",
      "다로베.txt\n",
      "보니스피자펍.txt\n",
      "매덕스피자.txt\n",
      "옥인피자.txt\n",
      "파이프그라운드.txt\n",
      "호머.txt\n",
      "누오보나폴리.txt\n",
      "파니노구스토.txt\n",
      "비아메렝게.txt\n",
      "완차이.txt\n",
      "타코로코.txt\n",
      "길상양꼬치.txt\n",
      "맘맘테이블.txt\n",
      "벽제갈비.txt\n",
      "소신이쏘.txt\n",
      "피망과토마토.txt\n",
      "고삼이.txt\n",
      "한림돈가.txt\n",
      "덕수궁리에제와플.txt\n",
      "딜리저트.txt\n",
      "와플잇업.txt\n",
      "리화인와플.txt\n",
      "카페호스팅.txt\n",
      "프레스커피.txt\n",
      "오목눈이.txt\n",
      "패트릭스와플.txt\n",
      "베러댄와플.txt\n",
      "고에이프.txt\n",
      "호호식당.txt\n",
      "온돈부리.txt\n",
      "우미노미.txt\n",
      "형제돈부리.txt\n",
      "종로돈부리.txt\n",
      "모토쿠라시.txt\n",
      "마구로쇼쿠도.txt\n",
      "키친31.txt\n",
      "오복수산.txt\n",
      "소년식당.txt\n",
      "돼지집딸.txt\n",
      "page 없는 데이터 존재 'NoneType' object has no attribute 'select_one'\n",
      "야마벤또.txt\n",
      "진국명가.txt\n",
      "솔밭집.txt\n",
      "page 없는 데이터 존재 'NoneType' object has no attribute 'select_one'\n",
      "살롱드보네.txt\n",
      "page 없는 데이터 존재 'NoneType' object has no attribute 'select_one'\n",
      "뉴숯불통닭.txt\n",
      "page 없는 데이터 존재 'NoneType' object has no attribute 'select_one'\n",
      "스시심.txt\n",
      "대길고추불고기.txt\n",
      "page 없는 데이터 존재 'NoneType' object has no attribute 'select_one'\n",
      "카카오두.txt\n",
      "델라고.txt\n",
      "강릉불고기.txt\n",
      "초당할머니순두부.txt\n",
      "이모네생선찜.txt\n",
      "소문난부대찌개.txt\n",
      "동화가든.txt\n",
      "봉봉방앗간.txt\n",
      "테라로사커피공장.txt\n",
      "라꼬시나바이이성용.txt\n",
      "풍년갈비.txt\n",
      "엄지네포장마차.txt\n",
      "명륜건강원.txt\n",
      "깔리.txt\n",
      "호호식당.txt\n",
      "카페키이로.txt\n",
      "정돈.txt\n",
      "믹스앤몰트.txt\n",
      "건강한빵.txt\n",
      "저팔계식당.txt\n",
      "소친친.txt\n",
      "독일주택.txt\n",
      "오늘의위로.txt\n",
      "마핑파.txt\n",
      "미완성식탁.txt\n",
      "꼬르소산도.txt\n",
      "코코부코.txt\n",
      "딥블루레이크커피.txt\n",
      "커피가게동경.txt\n",
      "키오스크.txt\n",
      "카카오다다.txt\n",
      "비전스트롤.txt\n"
     ]
    }
   ],
   "source": [
    "detail_page_craw={}\n",
    "\n",
    "for category_detail_list in file_list:\n",
    "    file_name=os.listdir(path+category_detail_list+ '/')\n",
    "    for restaurant in file_name:\n",
    "        print(restaurant)\n",
    "        try:\n",
    "            html = open('../'+ category_detail_list +'/'+restaurant, \"r\").read()\n",
    "            health_restaurant_detail = BeautifulSoup(html)\n",
    "            # text 크롤링\n",
    "            div_inner = health_restaurant_detail.select_one('div.column-contents').select_one('div.inner')\n",
    "            section_restaurant_detail = div_inner.select_one('section.restaurant-detail')\n",
    "            div_restaurant_title_wrap=section_restaurant_detail.select_one('div.restaurant_title_wrap')\n",
    "            span_title = div_restaurant_title_wrap.select_one('span.title')\n",
    "            restaurant_title=span_title.select_one('h1').get_text(strip=True)\n",
    "            restaurant_point=span_title.select_one('strong.rate-point').select_one('span').get_text(strip=True)\n",
    "            tbody = section_restaurant_detail.select_one('table.info').select_one('tbody')\n",
    "            # images 크롤링\n",
    "            asid_restaurant = health_restaurant_detail.select_one('aside.restaurant-photos')\n",
    "            div_owl_wrapper = asid_restaurant.select_one('div.owl-wrapper')\n",
    "            div_owl_item = div_owl_wrapper.select('div.owl-item')\n",
    "        except AttributeError as ex:\n",
    "            print(f'page 없는 데이터 존재', ex)\n",
    "        ###################################################################################\n",
    "        image_contents = {\n",
    "\n",
    "        }\n",
    "        for index, data in enumerate(div_owl_item):\n",
    "            image_contents['image_'+str(index)] = data.select_one('meta')['content']\n",
    "        restaurant_detail_fields = {\n",
    "            \"title\" : restaurant_title,\n",
    "            \"images\" : image_contents,\n",
    "        }\n",
    "    #     print(restaurant_detail_fields)\n",
    "        for i in tbody.select('tr'):\n",
    "\n",
    "            restaurant_detail_fields[i.select_one('th').get_text(strip=True)]= i.select_one('td').get_text(strip=True)\n",
    "\n",
    "\n",
    "            if not i.select_one('span.Restaurant__InfoAddress--Rectangle') == None:\n",
    "                restaurant_detail_fields[i.select_one('span.Restaurant__InfoAddress--Rectangle').get_text(strip=True)] \\\n",
    "                = i.select_one('span.Restaurant__InfoAddress--Text').get_text(strip=True)\n",
    "        detail_page_craw[restaurant] = restaurant_detail_fields"
   ]
  },
  {
   "cell_type": "code",
   "execution_count": 47,
   "metadata": {},
   "outputs": [],
   "source": [
    "# for i, ii in detail_page_craw.items():\n",
    "# #     print(detail_page_craw[i]['전화번호'])\n",
    "#     try :\n",
    "#         detail_page_craw[i]['전화번호']\n",
    "#     except KeyError:\n",
    "#         detail_page_craw[i]['전화번호'] = '정보없음'\n",
    "#     print(detail_page_craw[i]['전화번호'].replace(\" \",\"\"))"
   ]
  },
  {
   "cell_type": "code",
   "execution_count": 48,
   "metadata": {},
   "outputs": [],
   "source": [
    "# from restaurant.models import *"
   ]
  },
  {
   "cell_type": "code",
   "execution_count": 52,
   "metadata": {
    "scrolled": true
   },
   "outputs": [
    {
     "name": "stdout",
     "output_type": "stream",
     "text": [
      "레알라면\n",
      "서울특별시 동대문구 이문로 98지번서울시 동대문구 회기동 54-39\n",
      "서울시 동대문구 회기동 54-39\n",
      "국수 / 면 요리\n",
      "만원 미만\n",
      "0507-1311-4208\n",
      "주차공간없음\n"
     ]
    },
    {
     "ename": "NameError",
     "evalue": "name 'IntegrityError' is not defined",
     "output_type": "error",
     "traceback": [
      "\u001b[0;31m---------------------------------------------------------------------------\u001b[0m",
      "\u001b[0;31mIntegrityError\u001b[0m                            Traceback (most recent call last)",
      "\u001b[0;32m~/.pyenv/versions/mangoplate-env/lib/python3.7/site-packages/django/db/backends/utils.py\u001b[0m in \u001b[0;36m_execute\u001b[0;34m(self, sql, params, *ignored_wrapper_args)\u001b[0m\n\u001b[1;32m     83\u001b[0m             \u001b[0;32melse\u001b[0m\u001b[0;34m:\u001b[0m\u001b[0;34m\u001b[0m\u001b[0;34m\u001b[0m\u001b[0m\n\u001b[0;32m---> 84\u001b[0;31m                 \u001b[0;32mreturn\u001b[0m \u001b[0mself\u001b[0m\u001b[0;34m.\u001b[0m\u001b[0mcursor\u001b[0m\u001b[0;34m.\u001b[0m\u001b[0mexecute\u001b[0m\u001b[0;34m(\u001b[0m\u001b[0msql\u001b[0m\u001b[0;34m,\u001b[0m \u001b[0mparams\u001b[0m\u001b[0;34m)\u001b[0m\u001b[0;34m\u001b[0m\u001b[0;34m\u001b[0m\u001b[0m\n\u001b[0m\u001b[1;32m     85\u001b[0m \u001b[0;34m\u001b[0m\u001b[0m\n",
      "\u001b[0;32m~/.pyenv/versions/mangoplate-env/lib/python3.7/site-packages/django/db/backends/sqlite3/base.py\u001b[0m in \u001b[0;36mexecute\u001b[0;34m(self, query, params)\u001b[0m\n\u001b[1;32m    382\u001b[0m         \u001b[0mquery\u001b[0m \u001b[0;34m=\u001b[0m \u001b[0mself\u001b[0m\u001b[0;34m.\u001b[0m\u001b[0mconvert_query\u001b[0m\u001b[0;34m(\u001b[0m\u001b[0mquery\u001b[0m\u001b[0;34m)\u001b[0m\u001b[0;34m\u001b[0m\u001b[0;34m\u001b[0m\u001b[0m\n\u001b[0;32m--> 383\u001b[0;31m         \u001b[0;32mreturn\u001b[0m \u001b[0mDatabase\u001b[0m\u001b[0;34m.\u001b[0m\u001b[0mCursor\u001b[0m\u001b[0;34m.\u001b[0m\u001b[0mexecute\u001b[0m\u001b[0;34m(\u001b[0m\u001b[0mself\u001b[0m\u001b[0;34m,\u001b[0m \u001b[0mquery\u001b[0m\u001b[0;34m,\u001b[0m \u001b[0mparams\u001b[0m\u001b[0;34m)\u001b[0m\u001b[0;34m\u001b[0m\u001b[0;34m\u001b[0m\u001b[0m\n\u001b[0m\u001b[1;32m    384\u001b[0m \u001b[0;34m\u001b[0m\u001b[0m\n",
      "\u001b[0;31mIntegrityError\u001b[0m: UNIQUE constraint failed: restaurant_restaurant.name_address1_unique",
      "\nThe above exception was the direct cause of the following exception:\n",
      "\u001b[0;31mIntegrityError\u001b[0m                            Traceback (most recent call last)",
      "\u001b[0;32m<ipython-input-52-8278bb140add>\u001b[0m in \u001b[0;36m<module>\u001b[0;34m\u001b[0m\n\u001b[1;32m     48\u001b[0m             \u001b[0mprice_range\u001b[0m          \u001b[0;34m=\u001b[0m \u001b[0mvalue\u001b[0m\u001b[0;34m[\u001b[0m\u001b[0;34m'가격대'\u001b[0m\u001b[0;34m]\u001b[0m\u001b[0;34m.\u001b[0m\u001b[0mreplace\u001b[0m\u001b[0;34m(\u001b[0m\u001b[0;34m\" \"\u001b[0m\u001b[0;34m,\u001b[0m\u001b[0;34m\"\"\u001b[0m\u001b[0;34m)\u001b[0m\u001b[0;34m,\u001b[0m\u001b[0;34m\u001b[0m\u001b[0;34m\u001b[0m\u001b[0m\n\u001b[0;32m---> 49\u001b[0;31m             \u001b[0mparking\u001b[0m              \u001b[0;34m=\u001b[0m \u001b[0mvalue\u001b[0m\u001b[0;34m[\u001b[0m\u001b[0;34m'주차'\u001b[0m\u001b[0;34m]\u001b[0m\u001b[0;34m,\u001b[0m\u001b[0;34m\u001b[0m\u001b[0;34m\u001b[0m\u001b[0m\n\u001b[0m\u001b[1;32m     50\u001b[0m         )\n",
      "\u001b[0;32m~/.pyenv/versions/mangoplate-env/lib/python3.7/site-packages/django/db/models/manager.py\u001b[0m in \u001b[0;36mmanager_method\u001b[0;34m(self, *args, **kwargs)\u001b[0m\n\u001b[1;32m     81\u001b[0m             \u001b[0;32mdef\u001b[0m \u001b[0mmanager_method\u001b[0m\u001b[0;34m(\u001b[0m\u001b[0mself\u001b[0m\u001b[0;34m,\u001b[0m \u001b[0;34m*\u001b[0m\u001b[0margs\u001b[0m\u001b[0;34m,\u001b[0m \u001b[0;34m**\u001b[0m\u001b[0mkwargs\u001b[0m\u001b[0;34m)\u001b[0m\u001b[0;34m:\u001b[0m\u001b[0;34m\u001b[0m\u001b[0;34m\u001b[0m\u001b[0m\n\u001b[0;32m---> 82\u001b[0;31m                 \u001b[0;32mreturn\u001b[0m \u001b[0mgetattr\u001b[0m\u001b[0;34m(\u001b[0m\u001b[0mself\u001b[0m\u001b[0;34m.\u001b[0m\u001b[0mget_queryset\u001b[0m\u001b[0;34m(\u001b[0m\u001b[0;34m)\u001b[0m\u001b[0;34m,\u001b[0m \u001b[0mname\u001b[0m\u001b[0;34m)\u001b[0m\u001b[0;34m(\u001b[0m\u001b[0;34m*\u001b[0m\u001b[0margs\u001b[0m\u001b[0;34m,\u001b[0m \u001b[0;34m**\u001b[0m\u001b[0mkwargs\u001b[0m\u001b[0;34m)\u001b[0m\u001b[0;34m\u001b[0m\u001b[0;34m\u001b[0m\u001b[0m\n\u001b[0m\u001b[1;32m     83\u001b[0m             \u001b[0mmanager_method\u001b[0m\u001b[0;34m.\u001b[0m\u001b[0m__name__\u001b[0m \u001b[0;34m=\u001b[0m \u001b[0mmethod\u001b[0m\u001b[0;34m.\u001b[0m\u001b[0m__name__\u001b[0m\u001b[0;34m\u001b[0m\u001b[0;34m\u001b[0m\u001b[0m\n",
      "\u001b[0;32m~/.pyenv/versions/mangoplate-env/lib/python3.7/site-packages/django/db/models/query.py\u001b[0m in \u001b[0;36mcreate\u001b[0;34m(self, **kwargs)\u001b[0m\n\u001b[1;32m    421\u001b[0m         \u001b[0mself\u001b[0m\u001b[0;34m.\u001b[0m\u001b[0m_for_write\u001b[0m \u001b[0;34m=\u001b[0m \u001b[0;32mTrue\u001b[0m\u001b[0;34m\u001b[0m\u001b[0;34m\u001b[0m\u001b[0m\n\u001b[0;32m--> 422\u001b[0;31m         \u001b[0mobj\u001b[0m\u001b[0;34m.\u001b[0m\u001b[0msave\u001b[0m\u001b[0;34m(\u001b[0m\u001b[0mforce_insert\u001b[0m\u001b[0;34m=\u001b[0m\u001b[0;32mTrue\u001b[0m\u001b[0;34m,\u001b[0m \u001b[0musing\u001b[0m\u001b[0;34m=\u001b[0m\u001b[0mself\u001b[0m\u001b[0;34m.\u001b[0m\u001b[0mdb\u001b[0m\u001b[0;34m)\u001b[0m\u001b[0;34m\u001b[0m\u001b[0;34m\u001b[0m\u001b[0m\n\u001b[0m\u001b[1;32m    423\u001b[0m         \u001b[0;32mreturn\u001b[0m \u001b[0mobj\u001b[0m\u001b[0;34m\u001b[0m\u001b[0;34m\u001b[0m\u001b[0m\n",
      "\u001b[0;32m~/.pyenv/versions/mangoplate-env/lib/python3.7/site-packages/django/db/models/base.py\u001b[0m in \u001b[0;36msave\u001b[0;34m(self, force_insert, force_update, using, update_fields)\u001b[0m\n\u001b[1;32m    740\u001b[0m         self.save_base(using=using, force_insert=force_insert,\n\u001b[0;32m--> 741\u001b[0;31m                        force_update=force_update, update_fields=update_fields)\n\u001b[0m\u001b[1;32m    742\u001b[0m     \u001b[0msave\u001b[0m\u001b[0;34m.\u001b[0m\u001b[0malters_data\u001b[0m \u001b[0;34m=\u001b[0m \u001b[0;32mTrue\u001b[0m\u001b[0;34m\u001b[0m\u001b[0;34m\u001b[0m\u001b[0m\n",
      "\u001b[0;32m~/.pyenv/versions/mangoplate-env/lib/python3.7/site-packages/django/db/models/base.py\u001b[0m in \u001b[0;36msave_base\u001b[0;34m(self, raw, force_insert, force_update, using, update_fields)\u001b[0m\n\u001b[1;32m    778\u001b[0m                 \u001b[0mraw\u001b[0m\u001b[0;34m,\u001b[0m \u001b[0mcls\u001b[0m\u001b[0;34m,\u001b[0m \u001b[0mforce_insert\u001b[0m \u001b[0;32mor\u001b[0m \u001b[0mparent_inserted\u001b[0m\u001b[0;34m,\u001b[0m\u001b[0;34m\u001b[0m\u001b[0;34m\u001b[0m\u001b[0m\n\u001b[0;32m--> 779\u001b[0;31m                 \u001b[0mforce_update\u001b[0m\u001b[0;34m,\u001b[0m \u001b[0musing\u001b[0m\u001b[0;34m,\u001b[0m \u001b[0mupdate_fields\u001b[0m\u001b[0;34m,\u001b[0m\u001b[0;34m\u001b[0m\u001b[0;34m\u001b[0m\u001b[0m\n\u001b[0m\u001b[1;32m    780\u001b[0m             )\n",
      "\u001b[0;32m~/.pyenv/versions/mangoplate-env/lib/python3.7/site-packages/django/db/models/base.py\u001b[0m in \u001b[0;36m_save_table\u001b[0;34m(self, raw, cls, force_insert, force_update, using, update_fields)\u001b[0m\n\u001b[1;32m    869\u001b[0m             \u001b[0mupdate_pk\u001b[0m \u001b[0;34m=\u001b[0m \u001b[0mmeta\u001b[0m\u001b[0;34m.\u001b[0m\u001b[0mauto_field\u001b[0m \u001b[0;32mand\u001b[0m \u001b[0;32mnot\u001b[0m \u001b[0mpk_set\u001b[0m\u001b[0;34m\u001b[0m\u001b[0;34m\u001b[0m\u001b[0m\n\u001b[0;32m--> 870\u001b[0;31m             \u001b[0mresult\u001b[0m \u001b[0;34m=\u001b[0m \u001b[0mself\u001b[0m\u001b[0;34m.\u001b[0m\u001b[0m_do_insert\u001b[0m\u001b[0;34m(\u001b[0m\u001b[0mcls\u001b[0m\u001b[0;34m.\u001b[0m\u001b[0m_base_manager\u001b[0m\u001b[0;34m,\u001b[0m \u001b[0musing\u001b[0m\u001b[0;34m,\u001b[0m \u001b[0mfields\u001b[0m\u001b[0;34m,\u001b[0m \u001b[0mupdate_pk\u001b[0m\u001b[0;34m,\u001b[0m \u001b[0mraw\u001b[0m\u001b[0;34m)\u001b[0m\u001b[0;34m\u001b[0m\u001b[0;34m\u001b[0m\u001b[0m\n\u001b[0m\u001b[1;32m    871\u001b[0m             \u001b[0;32mif\u001b[0m \u001b[0mupdate_pk\u001b[0m\u001b[0;34m:\u001b[0m\u001b[0;34m\u001b[0m\u001b[0;34m\u001b[0m\u001b[0m\n",
      "\u001b[0;32m~/.pyenv/versions/mangoplate-env/lib/python3.7/site-packages/django/db/models/base.py\u001b[0m in \u001b[0;36m_do_insert\u001b[0;34m(self, manager, using, fields, update_pk, raw)\u001b[0m\n\u001b[1;32m    907\u001b[0m         return manager._insert([self], fields=fields, return_id=update_pk,\n\u001b[0;32m--> 908\u001b[0;31m                                using=using, raw=raw)\n\u001b[0m\u001b[1;32m    909\u001b[0m \u001b[0;34m\u001b[0m\u001b[0m\n",
      "\u001b[0;32m~/.pyenv/versions/mangoplate-env/lib/python3.7/site-packages/django/db/models/manager.py\u001b[0m in \u001b[0;36mmanager_method\u001b[0;34m(self, *args, **kwargs)\u001b[0m\n\u001b[1;32m     81\u001b[0m             \u001b[0;32mdef\u001b[0m \u001b[0mmanager_method\u001b[0m\u001b[0;34m(\u001b[0m\u001b[0mself\u001b[0m\u001b[0;34m,\u001b[0m \u001b[0;34m*\u001b[0m\u001b[0margs\u001b[0m\u001b[0;34m,\u001b[0m \u001b[0;34m**\u001b[0m\u001b[0mkwargs\u001b[0m\u001b[0;34m)\u001b[0m\u001b[0;34m:\u001b[0m\u001b[0;34m\u001b[0m\u001b[0;34m\u001b[0m\u001b[0m\n\u001b[0;32m---> 82\u001b[0;31m                 \u001b[0;32mreturn\u001b[0m \u001b[0mgetattr\u001b[0m\u001b[0;34m(\u001b[0m\u001b[0mself\u001b[0m\u001b[0;34m.\u001b[0m\u001b[0mget_queryset\u001b[0m\u001b[0;34m(\u001b[0m\u001b[0;34m)\u001b[0m\u001b[0;34m,\u001b[0m \u001b[0mname\u001b[0m\u001b[0;34m)\u001b[0m\u001b[0;34m(\u001b[0m\u001b[0;34m*\u001b[0m\u001b[0margs\u001b[0m\u001b[0;34m,\u001b[0m \u001b[0;34m**\u001b[0m\u001b[0mkwargs\u001b[0m\u001b[0;34m)\u001b[0m\u001b[0;34m\u001b[0m\u001b[0;34m\u001b[0m\u001b[0m\n\u001b[0m\u001b[1;32m     83\u001b[0m             \u001b[0mmanager_method\u001b[0m\u001b[0;34m.\u001b[0m\u001b[0m__name__\u001b[0m \u001b[0;34m=\u001b[0m \u001b[0mmethod\u001b[0m\u001b[0;34m.\u001b[0m\u001b[0m__name__\u001b[0m\u001b[0;34m\u001b[0m\u001b[0;34m\u001b[0m\u001b[0m\n",
      "\u001b[0;32m~/.pyenv/versions/mangoplate-env/lib/python3.7/site-packages/django/db/models/query.py\u001b[0m in \u001b[0;36m_insert\u001b[0;34m(self, objs, fields, return_id, raw, using, ignore_conflicts)\u001b[0m\n\u001b[1;32m   1185\u001b[0m         \u001b[0mquery\u001b[0m\u001b[0;34m.\u001b[0m\u001b[0minsert_values\u001b[0m\u001b[0;34m(\u001b[0m\u001b[0mfields\u001b[0m\u001b[0;34m,\u001b[0m \u001b[0mobjs\u001b[0m\u001b[0;34m,\u001b[0m \u001b[0mraw\u001b[0m\u001b[0;34m=\u001b[0m\u001b[0mraw\u001b[0m\u001b[0;34m)\u001b[0m\u001b[0;34m\u001b[0m\u001b[0;34m\u001b[0m\u001b[0m\n\u001b[0;32m-> 1186\u001b[0;31m         \u001b[0;32mreturn\u001b[0m \u001b[0mquery\u001b[0m\u001b[0;34m.\u001b[0m\u001b[0mget_compiler\u001b[0m\u001b[0;34m(\u001b[0m\u001b[0musing\u001b[0m\u001b[0;34m=\u001b[0m\u001b[0musing\u001b[0m\u001b[0;34m)\u001b[0m\u001b[0;34m.\u001b[0m\u001b[0mexecute_sql\u001b[0m\u001b[0;34m(\u001b[0m\u001b[0mreturn_id\u001b[0m\u001b[0;34m)\u001b[0m\u001b[0;34m\u001b[0m\u001b[0;34m\u001b[0m\u001b[0m\n\u001b[0m\u001b[1;32m   1187\u001b[0m     \u001b[0m_insert\u001b[0m\u001b[0;34m.\u001b[0m\u001b[0malters_data\u001b[0m \u001b[0;34m=\u001b[0m \u001b[0;32mTrue\u001b[0m\u001b[0;34m\u001b[0m\u001b[0;34m\u001b[0m\u001b[0m\n",
      "\u001b[0;32m~/.pyenv/versions/mangoplate-env/lib/python3.7/site-packages/django/db/models/sql/compiler.py\u001b[0m in \u001b[0;36mexecute_sql\u001b[0;34m(self, return_id)\u001b[0m\n\u001b[1;32m   1374\u001b[0m             \u001b[0;32mfor\u001b[0m \u001b[0msql\u001b[0m\u001b[0;34m,\u001b[0m \u001b[0mparams\u001b[0m \u001b[0;32min\u001b[0m \u001b[0mself\u001b[0m\u001b[0;34m.\u001b[0m\u001b[0mas_sql\u001b[0m\u001b[0;34m(\u001b[0m\u001b[0;34m)\u001b[0m\u001b[0;34m:\u001b[0m\u001b[0;34m\u001b[0m\u001b[0;34m\u001b[0m\u001b[0m\n\u001b[0;32m-> 1375\u001b[0;31m                 \u001b[0mcursor\u001b[0m\u001b[0;34m.\u001b[0m\u001b[0mexecute\u001b[0m\u001b[0;34m(\u001b[0m\u001b[0msql\u001b[0m\u001b[0;34m,\u001b[0m \u001b[0mparams\u001b[0m\u001b[0;34m)\u001b[0m\u001b[0;34m\u001b[0m\u001b[0;34m\u001b[0m\u001b[0m\n\u001b[0m\u001b[1;32m   1376\u001b[0m             \u001b[0;32mif\u001b[0m \u001b[0;32mnot\u001b[0m \u001b[0mreturn_id\u001b[0m\u001b[0;34m:\u001b[0m\u001b[0;34m\u001b[0m\u001b[0;34m\u001b[0m\u001b[0m\n",
      "\u001b[0;32m~/.pyenv/versions/mangoplate-env/lib/python3.7/site-packages/django/db/backends/utils.py\u001b[0m in \u001b[0;36mexecute\u001b[0;34m(self, sql, params)\u001b[0m\n\u001b[1;32m     98\u001b[0m         \u001b[0;32mtry\u001b[0m\u001b[0;34m:\u001b[0m\u001b[0;34m\u001b[0m\u001b[0;34m\u001b[0m\u001b[0m\n\u001b[0;32m---> 99\u001b[0;31m             \u001b[0;32mreturn\u001b[0m \u001b[0msuper\u001b[0m\u001b[0;34m(\u001b[0m\u001b[0;34m)\u001b[0m\u001b[0;34m.\u001b[0m\u001b[0mexecute\u001b[0m\u001b[0;34m(\u001b[0m\u001b[0msql\u001b[0m\u001b[0;34m,\u001b[0m \u001b[0mparams\u001b[0m\u001b[0;34m)\u001b[0m\u001b[0;34m\u001b[0m\u001b[0;34m\u001b[0m\u001b[0m\n\u001b[0m\u001b[1;32m    100\u001b[0m         \u001b[0;32mfinally\u001b[0m\u001b[0;34m:\u001b[0m\u001b[0;34m\u001b[0m\u001b[0;34m\u001b[0m\u001b[0m\n",
      "\u001b[0;32m~/.pyenv/versions/mangoplate-env/lib/python3.7/site-packages/django/db/backends/utils.py\u001b[0m in \u001b[0;36mexecute\u001b[0;34m(self, sql, params)\u001b[0m\n\u001b[1;32m     66\u001b[0m     \u001b[0;32mdef\u001b[0m \u001b[0mexecute\u001b[0m\u001b[0;34m(\u001b[0m\u001b[0mself\u001b[0m\u001b[0;34m,\u001b[0m \u001b[0msql\u001b[0m\u001b[0;34m,\u001b[0m \u001b[0mparams\u001b[0m\u001b[0;34m=\u001b[0m\u001b[0;32mNone\u001b[0m\u001b[0;34m)\u001b[0m\u001b[0;34m:\u001b[0m\u001b[0;34m\u001b[0m\u001b[0;34m\u001b[0m\u001b[0m\n\u001b[0;32m---> 67\u001b[0;31m         \u001b[0;32mreturn\u001b[0m \u001b[0mself\u001b[0m\u001b[0;34m.\u001b[0m\u001b[0m_execute_with_wrappers\u001b[0m\u001b[0;34m(\u001b[0m\u001b[0msql\u001b[0m\u001b[0;34m,\u001b[0m \u001b[0mparams\u001b[0m\u001b[0;34m,\u001b[0m \u001b[0mmany\u001b[0m\u001b[0;34m=\u001b[0m\u001b[0;32mFalse\u001b[0m\u001b[0;34m,\u001b[0m \u001b[0mexecutor\u001b[0m\u001b[0;34m=\u001b[0m\u001b[0mself\u001b[0m\u001b[0;34m.\u001b[0m\u001b[0m_execute\u001b[0m\u001b[0;34m)\u001b[0m\u001b[0;34m\u001b[0m\u001b[0;34m\u001b[0m\u001b[0m\n\u001b[0m\u001b[1;32m     68\u001b[0m \u001b[0;34m\u001b[0m\u001b[0m\n",
      "\u001b[0;32m~/.pyenv/versions/mangoplate-env/lib/python3.7/site-packages/django/db/backends/utils.py\u001b[0m in \u001b[0;36m_execute_with_wrappers\u001b[0;34m(self, sql, params, many, executor)\u001b[0m\n\u001b[1;32m     75\u001b[0m             \u001b[0mexecutor\u001b[0m \u001b[0;34m=\u001b[0m \u001b[0mfunctools\u001b[0m\u001b[0;34m.\u001b[0m\u001b[0mpartial\u001b[0m\u001b[0;34m(\u001b[0m\u001b[0mwrapper\u001b[0m\u001b[0;34m,\u001b[0m \u001b[0mexecutor\u001b[0m\u001b[0;34m)\u001b[0m\u001b[0;34m\u001b[0m\u001b[0;34m\u001b[0m\u001b[0m\n\u001b[0;32m---> 76\u001b[0;31m         \u001b[0;32mreturn\u001b[0m \u001b[0mexecutor\u001b[0m\u001b[0;34m(\u001b[0m\u001b[0msql\u001b[0m\u001b[0;34m,\u001b[0m \u001b[0mparams\u001b[0m\u001b[0;34m,\u001b[0m \u001b[0mmany\u001b[0m\u001b[0;34m,\u001b[0m \u001b[0mcontext\u001b[0m\u001b[0;34m)\u001b[0m\u001b[0;34m\u001b[0m\u001b[0;34m\u001b[0m\u001b[0m\n\u001b[0m\u001b[1;32m     77\u001b[0m \u001b[0;34m\u001b[0m\u001b[0m\n",
      "\u001b[0;32m~/.pyenv/versions/mangoplate-env/lib/python3.7/site-packages/django/db/backends/utils.py\u001b[0m in \u001b[0;36m_execute\u001b[0;34m(self, sql, params, *ignored_wrapper_args)\u001b[0m\n\u001b[1;32m     83\u001b[0m             \u001b[0;32melse\u001b[0m\u001b[0;34m:\u001b[0m\u001b[0;34m\u001b[0m\u001b[0;34m\u001b[0m\u001b[0m\n\u001b[0;32m---> 84\u001b[0;31m                 \u001b[0;32mreturn\u001b[0m \u001b[0mself\u001b[0m\u001b[0;34m.\u001b[0m\u001b[0mcursor\u001b[0m\u001b[0;34m.\u001b[0m\u001b[0mexecute\u001b[0m\u001b[0;34m(\u001b[0m\u001b[0msql\u001b[0m\u001b[0;34m,\u001b[0m \u001b[0mparams\u001b[0m\u001b[0;34m)\u001b[0m\u001b[0;34m\u001b[0m\u001b[0;34m\u001b[0m\u001b[0m\n\u001b[0m\u001b[1;32m     85\u001b[0m \u001b[0;34m\u001b[0m\u001b[0m\n",
      "\u001b[0;32m~/.pyenv/versions/mangoplate-env/lib/python3.7/site-packages/django/db/utils.py\u001b[0m in \u001b[0;36m__exit__\u001b[0;34m(self, exc_type, exc_value, traceback)\u001b[0m\n\u001b[1;32m     88\u001b[0m                     \u001b[0mself\u001b[0m\u001b[0;34m.\u001b[0m\u001b[0mwrapper\u001b[0m\u001b[0;34m.\u001b[0m\u001b[0merrors_occurred\u001b[0m \u001b[0;34m=\u001b[0m \u001b[0;32mTrue\u001b[0m\u001b[0;34m\u001b[0m\u001b[0;34m\u001b[0m\u001b[0m\n\u001b[0;32m---> 89\u001b[0;31m                 \u001b[0;32mraise\u001b[0m \u001b[0mdj_exc_value\u001b[0m\u001b[0;34m.\u001b[0m\u001b[0mwith_traceback\u001b[0m\u001b[0;34m(\u001b[0m\u001b[0mtraceback\u001b[0m\u001b[0;34m)\u001b[0m \u001b[0;32mfrom\u001b[0m \u001b[0mexc_value\u001b[0m\u001b[0;34m\u001b[0m\u001b[0;34m\u001b[0m\u001b[0m\n\u001b[0m\u001b[1;32m     90\u001b[0m \u001b[0;34m\u001b[0m\u001b[0m\n",
      "\u001b[0;32m~/.pyenv/versions/mangoplate-env/lib/python3.7/site-packages/django/db/backends/utils.py\u001b[0m in \u001b[0;36m_execute\u001b[0;34m(self, sql, params, *ignored_wrapper_args)\u001b[0m\n\u001b[1;32m     83\u001b[0m             \u001b[0;32melse\u001b[0m\u001b[0;34m:\u001b[0m\u001b[0;34m\u001b[0m\u001b[0;34m\u001b[0m\u001b[0m\n\u001b[0;32m---> 84\u001b[0;31m                 \u001b[0;32mreturn\u001b[0m \u001b[0mself\u001b[0m\u001b[0;34m.\u001b[0m\u001b[0mcursor\u001b[0m\u001b[0;34m.\u001b[0m\u001b[0mexecute\u001b[0m\u001b[0;34m(\u001b[0m\u001b[0msql\u001b[0m\u001b[0;34m,\u001b[0m \u001b[0mparams\u001b[0m\u001b[0;34m)\u001b[0m\u001b[0;34m\u001b[0m\u001b[0;34m\u001b[0m\u001b[0m\n\u001b[0m\u001b[1;32m     85\u001b[0m \u001b[0;34m\u001b[0m\u001b[0m\n",
      "\u001b[0;32m~/.pyenv/versions/mangoplate-env/lib/python3.7/site-packages/django/db/backends/sqlite3/base.py\u001b[0m in \u001b[0;36mexecute\u001b[0;34m(self, query, params)\u001b[0m\n\u001b[1;32m    382\u001b[0m         \u001b[0mquery\u001b[0m \u001b[0;34m=\u001b[0m \u001b[0mself\u001b[0m\u001b[0;34m.\u001b[0m\u001b[0mconvert_query\u001b[0m\u001b[0;34m(\u001b[0m\u001b[0mquery\u001b[0m\u001b[0;34m)\u001b[0m\u001b[0;34m\u001b[0m\u001b[0;34m\u001b[0m\u001b[0m\n\u001b[0;32m--> 383\u001b[0;31m         \u001b[0;32mreturn\u001b[0m \u001b[0mDatabase\u001b[0m\u001b[0;34m.\u001b[0m\u001b[0mCursor\u001b[0m\u001b[0;34m.\u001b[0m\u001b[0mexecute\u001b[0m\u001b[0;34m(\u001b[0m\u001b[0mself\u001b[0m\u001b[0;34m,\u001b[0m \u001b[0mquery\u001b[0m\u001b[0;34m,\u001b[0m \u001b[0mparams\u001b[0m\u001b[0;34m)\u001b[0m\u001b[0;34m\u001b[0m\u001b[0;34m\u001b[0m\u001b[0m\n\u001b[0m\u001b[1;32m    384\u001b[0m \u001b[0;34m\u001b[0m\u001b[0m\n",
      "\u001b[0;31mIntegrityError\u001b[0m: UNIQUE constraint failed: restaurant_restaurant.name_address1_unique",
      "\nDuring handling of the above exception, another exception occurred:\n",
      "\u001b[0;31mNameError\u001b[0m                                 Traceback (most recent call last)",
      "\u001b[0;32m<ipython-input-52-8278bb140add>\u001b[0m in \u001b[0;36m<module>\u001b[0;34m\u001b[0m\n\u001b[1;32m     49\u001b[0m             \u001b[0mparking\u001b[0m              \u001b[0;34m=\u001b[0m \u001b[0mvalue\u001b[0m\u001b[0;34m[\u001b[0m\u001b[0;34m'주차'\u001b[0m\u001b[0;34m]\u001b[0m\u001b[0;34m,\u001b[0m\u001b[0;34m\u001b[0m\u001b[0;34m\u001b[0m\u001b[0m\n\u001b[1;32m     50\u001b[0m         )\n\u001b[0;32m---> 51\u001b[0;31m     \u001b[0;32mexcept\u001b[0m \u001b[0mIntegrityError\u001b[0m\u001b[0;34m:\u001b[0m\u001b[0;34m\u001b[0m\u001b[0;34m\u001b[0m\u001b[0m\n\u001b[0m\u001b[1;32m     52\u001b[0m         \u001b[0mprint\u001b[0m\u001b[0;34m(\u001b[0m\u001b[0;34m'unique 에러여서 넘어감'\u001b[0m\u001b[0;34m)\u001b[0m\u001b[0;34m\u001b[0m\u001b[0;34m\u001b[0m\u001b[0m\n\u001b[1;32m     53\u001b[0m         \u001b[0;32mcontinue\u001b[0m\u001b[0;34m\u001b[0m\u001b[0;34m\u001b[0m\u001b[0m\n",
      "\u001b[0;31mNameError\u001b[0m: name 'IntegrityError' is not defined"
     ]
    }
   ],
   "source": [
    "for file_name, value in detail_page_craw.items():\n",
    "    try:\n",
    "        value['title']\n",
    "        value['주소']\n",
    "        value['지번']\n",
    "        value['가격대']\n",
    "        \n",
    "    except KeyError:\n",
    "        print(file_name, '   못만듬')\n",
    "        print('\\n')\n",
    "        continue\n",
    "        \n",
    "        \n",
    "    try :\n",
    "        value['주차']\n",
    "    except KeyError:\n",
    "        value['주차'] = '정보없음'    \n",
    "    \n",
    "    \n",
    "    try :\n",
    "        value['전화번호']\n",
    "    except KeyError:\n",
    "        value['전화번호'] = '010-0000-0000'\n",
    "    \n",
    "    \n",
    "    try :\n",
    "        value['음식 종류']\n",
    "    except KeyError:\n",
    "        value['음식 종류']= '정보없음'\n",
    "    \n",
    "    print(value['title'])\n",
    "    print(value['주소'])\n",
    "    print(value['지번'])\n",
    "    print(value['음식 종류'])\n",
    "    print(value['가격대'])\n",
    "    print(value['전화번호'])\n",
    "    print(value['주차'])\n",
    "    \n",
    "    try:\n",
    "\n",
    "        Restaurant.objects.create(\n",
    "            name_address1_unique = value['title'].replace(\" \",\"\") + value['주소'].replace(\" \",\"\"),\n",
    "            name                 = value['title'].replace(\" \",\"\"),\n",
    "            address1             = value['주소'].replace(\" \",\"\"),\n",
    "            address2             = value['지번'].replace(\" \",\"\"),\n",
    "            phone                = value['전화번호'].replace(\" \",\"\"),\n",
    "            restaurant_type      = value['음식 종류'].replace(\" \",\"\"),\n",
    "            price_range          = value['가격대'].replace(\" \",\"\"),\n",
    "            parking              = value['주차'],\n",
    "        )\n",
    "    except IntegrityError:\n",
    "        print('unique 에러여서 넘어감')\n",
    "        continue\n",
    "        \n"
   ]
  },
  {
   "cell_type": "code",
   "execution_count": null,
   "metadata": {},
   "outputs": [],
   "source": [
    "#     Restaurant.objects.create(\n",
    "#         name                = value['title'].replace(\" \",\"\"),\n",
    "#         address1            = value['주소'].replace(\" \",\"\"),\n",
    "#         address2            = value['지번'].replace(\" \",\"\"),\n",
    "#         phone               = value['전화번호'].replace(\" \",\"\"),\n",
    "#         restaurant_type     = value['음식 종류'].replace(\" \",\"\"),\n",
    "#         price_range         = value['가격대'].replace(\" \",\"\"),\n",
    "#         parking        = parking,\n",
    "#     )"
   ]
  },
  {
   "cell_type": "code",
   "execution_count": null,
   "metadata": {},
   "outputs": [],
   "source": [
    "# Restaurant.objects.create(\n",
    "#     name        = '호호식당',\n",
    "#     address1    = '서울특별시 종로구 대학로9길 35지번서울시 종로구 명륜4가 143',\n",
    "#     address2    = '서울시 종로구 명륜4가 143',\n",
    "#     phone       = '02-6494-2222a',\n",
    "#     parking        = '주차정보 없음',\n",
    "\n",
    "# )"
   ]
  },
  {
   "cell_type": "code",
   "execution_count": null,
   "metadata": {},
   "outputs": [],
   "source": [
    "# Restaurant.objects.create(\n",
    "#     name        = '호호식당',\n",
    "#     address1    = '서울특별시 종로구 대학로9길 35지번서울시 종로구 명륜4가 143',\n",
    "#     address2    = '서울시 종로구 명륜4가 143',\n",
    "#     phone       = '02-6494-0049',\n",
    "# #     parking        = '주차정보 없음',\n",
    "\n",
    "# )"
   ]
  },
  {
   "cell_type": "code",
   "execution_count": null,
   "metadata": {},
   "outputs": [],
   "source": [
    "# from restaurant.models import *\n",
    "# dir(Restaurant.objects.values_list)"
   ]
  },
  {
   "cell_type": "code",
   "execution_count": null,
   "metadata": {},
   "outputs": [],
   "source": [
    "# Restaurant.objects.create(\n",
    "#     name = restaurant_detail_fields['title'],\n",
    "#     address1    = restaurant_detail_fields['주소'],\n",
    "#     address2    = restaurant_detail_fields['지번'],\n",
    "#     phone       = restaurant_detail_fields['전화번호'],\n",
    "# #     category    = restaurant_detail_fields['음식 종류'],\n",
    "#     price_range = restaurant_detail_fields['가격대'],\n",
    "#     parking     = restaurant_detail_fields['주차'],\n",
    "# )"
   ]
  },
  {
   "cell_type": "code",
   "execution_count": null,
   "metadata": {},
   "outputs": [],
   "source": [
    "# Restaurant.objects.all()"
   ]
  },
  {
   "cell_type": "code",
   "execution_count": null,
   "metadata": {},
   "outputs": [],
   "source": []
  },
  {
   "cell_type": "code",
   "execution_count": null,
   "metadata": {},
   "outputs": [],
   "source": []
  },
  {
   "cell_type": "code",
   "execution_count": null,
   "metadata": {},
   "outputs": [],
   "source": []
  },
  {
   "cell_type": "code",
   "execution_count": null,
   "metadata": {},
   "outputs": [],
   "source": []
  },
  {
   "cell_type": "code",
   "execution_count": null,
   "metadata": {},
   "outputs": [],
   "source": []
  },
  {
   "cell_type": "code",
   "execution_count": null,
   "metadata": {},
   "outputs": [],
   "source": []
  },
  {
   "cell_type": "code",
   "execution_count": null,
   "metadata": {},
   "outputs": [],
   "source": []
  },
  {
   "cell_type": "code",
   "execution_count": null,
   "metadata": {},
   "outputs": [],
   "source": [
    "#     r = open( '/home/dopa/projects/personal/selenium-env/app/식당/'+ title + '.txt', mode='w', encoding='utf-8')\n",
    "#     r.write(category_data_list[data]['page_source'])\n",
    "#     r.close()"
   ]
  },
  {
   "cell_type": "code",
   "execution_count": null,
   "metadata": {},
   "outputs": [],
   "source": []
  },
  {
   "cell_type": "code",
   "execution_count": null,
   "metadata": {},
   "outputs": [],
   "source": [
    "# for category_list in file_list:\n",
    "\n",
    "#     html = open('./식당/'+file_list, \"r\").read()\n",
    "#     health_restaurant_detail = BeautifulSoup(html)"
   ]
  },
  {
   "cell_type": "code",
   "execution_count": null,
   "metadata": {},
   "outputs": [],
   "source": [
    "# health_restaurant_detail"
   ]
  },
  {
   "cell_type": "code",
   "execution_count": null,
   "metadata": {},
   "outputs": [],
   "source": [
    "# # text 크롤링\n",
    "# div_inner = health_restaurant_detail.select_one('div.column-contents').select_one('div.inner')\n",
    "# section_restaurant_detail = div_inner.select_one('section.restaurant-detail')\n",
    "# div_restaurant_title_wrap=section_restaurant_detail.select_one('div.restaurant_title_wrap')\n",
    "# span_title = div_restaurant_title_wrap.select_one('span.title')\n",
    "# restaurant_title=span_title.select_one('h1').get_text(strip=True)\n",
    "# restaurant_point=span_title.select_one('strong.rate-point').select_one('span').get_text(strip=True)\n",
    "# tbody = section_restaurant_detail.select_one('table.info').select_one('tbody')"
   ]
  },
  {
   "cell_type": "code",
   "execution_count": null,
   "metadata": {},
   "outputs": [],
   "source": [
    "# # images 크롤링\n",
    "# asid_restaurant = health_restaurant_detail.select_one('aside.restaurant-photos')\n",
    "# div_owl_wrapper = asid_restaurant.select_one('div.owl-wrapper')\n",
    "# div_owl_item = div_owl_wrapper.select('div.owl-item')"
   ]
  },
  {
   "cell_type": "code",
   "execution_count": null,
   "metadata": {},
   "outputs": [],
   "source": [
    "# image_contents = {\n",
    "    \n",
    "# }\n",
    "# for index, data in enumerate(div_owl_item):\n",
    "#     image_contents['image_'+str(index)] = data.select_one('meta')['content']\n",
    "# #     print(data.select_one('meta')['content'])"
   ]
  },
  {
   "cell_type": "code",
   "execution_count": null,
   "metadata": {},
   "outputs": [],
   "source": [
    "# image_contents"
   ]
  },
  {
   "cell_type": "code",
   "execution_count": null,
   "metadata": {},
   "outputs": [],
   "source": [
    "# restaurant_detail_fields = {\n",
    "#     \"title\" : restaurant_title,\n",
    "#     \"images\" : image_contents,\n",
    "# }"
   ]
  },
  {
   "cell_type": "code",
   "execution_count": null,
   "metadata": {},
   "outputs": [],
   "source": [
    "# for i in tbody.select('tr'):\n",
    "\n",
    "#     restaurant_detail_fields[i.select_one('th').get_text(strip=True)]= i.select_one('td').get_text(strip=True)\n",
    "        \n",
    "    \n",
    "#     if not i.select_one('span.Restaurant__InfoAddress--Rectangle') == None:\n",
    "#         restaurant_detail_fields[i.select_one('span.Restaurant__InfoAddress--Rectangle').get_text(strip=True)] \\\n",
    "#         = i.select_one('span.Restaurant__InfoAddress--Text').get_text(strip=True)\n"
   ]
  },
  {
   "cell_type": "code",
   "execution_count": null,
   "metadata": {},
   "outputs": [],
   "source": [
    "# restaurant_detail_fields.keys()"
   ]
  },
  {
   "cell_type": "code",
   "execution_count": null,
   "metadata": {},
   "outputs": [],
   "source": []
  },
  {
   "cell_type": "code",
   "execution_count": null,
   "metadata": {},
   "outputs": [],
   "source": []
  },
  {
   "cell_type": "code",
   "execution_count": null,
   "metadata": {},
   "outputs": [],
   "source": []
  },
  {
   "cell_type": "code",
   "execution_count": null,
   "metadata": {},
   "outputs": [],
   "source": []
  }
 ],
 "metadata": {
  "kernelspec": {
   "display_name": "Django Shell-Plus",
   "language": "python",
   "name": "django_extensions"
  },
  "language_info": {
   "codemirror_mode": {
    "name": "ipython",
    "version": 3
   },
   "file_extension": ".py",
   "mimetype": "text/x-python",
   "name": "python",
   "nbconvert_exporter": "python",
   "pygments_lexer": "ipython3",
   "version": "3.7.5"
  }
 },
 "nbformat": 4,
 "nbformat_minor": 4
}
