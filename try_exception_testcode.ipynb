{
 "cells": [
  {
   "cell_type": "code",
   "execution_count": 12,
   "metadata": {},
   "outputs": [],
   "source": [
    "\n",
    "def rsp(aa):\n",
    "    allowed = ['가위','바위', '보']\n",
    "    if aa not in allowed:\n",
    "        raise ValueError"
   ]
  },
  {
   "cell_type": "code",
   "execution_count": 14,
   "metadata": {},
   "outputs": [
    {
     "name": "stdout",
     "output_type": "stream",
     "text": [
      "보\n",
      "True\n"
     ]
    }
   ],
   "source": [
    "aa = input()\n",
    "try:\n",
    "    rsp(aa)\n",
    "    print('True')\n",
    "except ValueError:\n",
    "    print('값이 없습니다.')"
   ]
  },
  {
   "cell_type": "code",
   "execution_count": 8,
   "metadata": {},
   "outputs": [
    {
     "name": "stdout",
     "output_type": "stream",
     "text": [
      "5 index의 값을 가져올 수 없습니다.\n"
     ]
    }
   ],
   "source": [
    "aa  = [[1,2,3], 5]\n",
    "try :\n",
    "    print(aa.pop(4))\n",
    "except IndexError:\n",
    "    print('{} index의 값을 가져올 수 없습니다.'.format(5))\n",
    "# except Exception as ex:\n",
    "#     print(ex)"
   ]
  },
  {
   "cell_type": "code",
   "execution_count": null,
   "metadata": {},
   "outputs": [],
   "source": []
  }
 ],
 "metadata": {
  "kernelspec": {
   "display_name": "Python 3",
   "language": "python",
   "name": "python3"
  },
  "language_info": {
   "codemirror_mode": {
    "name": "ipython",
    "version": 3
   },
   "file_extension": ".py",
   "mimetype": "text/x-python",
   "name": "python",
   "nbconvert_exporter": "python",
   "pygments_lexer": "ipython3",
   "version": "3.7.5"
  }
 },
 "nbformat": 4,
 "nbformat_minor": 4
}
